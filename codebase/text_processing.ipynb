{
 "cells": [
  {
   "cell_type": "markdown",
   "metadata": {},
   "source": [
    "# Primary Text Processing"
   ]
  },
  {
   "cell_type": "markdown",
   "metadata": {},
   "source": [
    "## Import"
   ]
  },
  {
   "cell_type": "markdown",
   "metadata": {},
   "source": [
    "### Libraries"
   ]
  },
  {
   "cell_type": "code",
   "execution_count": 1,
   "metadata": {},
   "outputs": [],
   "source": [
    "import os \n",
    "import codecs\n",
    "\n",
    "from backend import *"
   ]
  },
  {
   "cell_type": "markdown",
   "metadata": {},
   "source": [
    "### Definitions"
   ]
  },
  {
   "cell_type": "code",
   "execution_count": 2,
   "metadata": {},
   "outputs": [],
   "source": [
    "segmenter = Segmenter()\n",
    "morph_vocab = MorphVocab()\n",
    "emb = NewsEmbedding()\n",
    "morph_tagger = NewsMorphTagger(emb)\n",
    "syntax_parser = NewsSyntaxParser(emb)\n",
    "ner_tagger = NewsNERTagger(emb)\n",
    "names_extractor = NamesExtractor(morph_vocab)"
   ]
  },
  {
   "cell_type": "code",
   "execution_count": 3,
   "metadata": {},
   "outputs": [],
   "source": [
    "texts = './texts/fiction/'\n",
    "\n",
    "libCols = ['author','pub_year','title','text']\n",
    "tokenOHCO = ['w_id','part_num','para_num', 'sent_num', 'token_num']\n",
    "tokenCols = ['p_id', 'start', 'stop', 'text', 'token_id', 'head_id', 'rel', 'pos', 'lemma', 'anim', 'aspect', 'case', 'degree', 'gender', 'mood', 'number', 'person', 'tense', 'verb_form', 'voice']"
   ]
  },
  {
   "cell_type": "markdown",
   "metadata": {},
   "source": [
    "## Primary Texts"
   ]
  },
  {
   "cell_type": "markdown",
   "metadata": {},
   "source": [
    "### Library"
   ]
  },
  {
   "cell_type": "code",
   "execution_count": 4,
   "metadata": {},
   "outputs": [
    {
     "data": {
      "text/html": [
       "<div>\n",
       "<style scoped>\n",
       "    .dataframe tbody tr th:only-of-type {\n",
       "        vertical-align: middle;\n",
       "    }\n",
       "\n",
       "    .dataframe tbody tr th {\n",
       "        vertical-align: top;\n",
       "    }\n",
       "\n",
       "    .dataframe thead th {\n",
       "        text-align: right;\n",
       "    }\n",
       "</style>\n",
       "<table border=\"1\" class=\"dataframe\">\n",
       "  <thead>\n",
       "    <tr style=\"text-align: right;\">\n",
       "      <th></th>\n",
       "      <th>author</th>\n",
       "      <th>pub_year</th>\n",
       "      <th>title</th>\n",
       "    </tr>\n",
       "    <tr>\n",
       "      <th>w_id</th>\n",
       "      <th></th>\n",
       "      <th></th>\n",
       "      <th></th>\n",
       "    </tr>\n",
       "  </thead>\n",
       "  <tbody>\n",
       "    <tr>\n",
       "      <th>0</th>\n",
       "      <td>gorkii</td>\n",
       "      <td>1900</td>\n",
       "      <td>troe</td>\n",
       "    </tr>\n",
       "    <tr>\n",
       "      <th>1</th>\n",
       "      <td>andreev</td>\n",
       "      <td>1903</td>\n",
       "      <td>zhizn-vasiliia-fiveiskogo</td>\n",
       "    </tr>\n",
       "    <tr>\n",
       "      <th>2</th>\n",
       "      <td>andreev</td>\n",
       "      <td>1904</td>\n",
       "      <td>gubernator</td>\n",
       "    </tr>\n",
       "    <tr>\n",
       "      <th>3</th>\n",
       "      <td>andreev</td>\n",
       "      <td>1905</td>\n",
       "      <td>k-zvezdam</td>\n",
       "    </tr>\n",
       "    <tr>\n",
       "      <th>4</th>\n",
       "      <td>andreev</td>\n",
       "      <td>1905</td>\n",
       "      <td>khristiane</td>\n",
       "    </tr>\n",
       "    <tr>\n",
       "      <th>5</th>\n",
       "      <td>andreev</td>\n",
       "      <td>1905</td>\n",
       "      <td>tak-bylo</td>\n",
       "    </tr>\n",
       "    <tr>\n",
       "      <th>6</th>\n",
       "      <td>gorkii</td>\n",
       "      <td>1906</td>\n",
       "      <td>mat</td>\n",
       "    </tr>\n",
       "    <tr>\n",
       "      <th>7</th>\n",
       "      <td>andreev</td>\n",
       "      <td>1906</td>\n",
       "      <td>savva-ignis-sanat</td>\n",
       "    </tr>\n",
       "    <tr>\n",
       "      <th>8</th>\n",
       "      <td>andreev</td>\n",
       "      <td>1907</td>\n",
       "      <td>iuda-iskariot</td>\n",
       "    </tr>\n",
       "    <tr>\n",
       "      <th>9</th>\n",
       "      <td>andreev</td>\n",
       "      <td>1907</td>\n",
       "      <td>zhizn-cheloveka</td>\n",
       "    </tr>\n",
       "    <tr>\n",
       "      <th>10</th>\n",
       "      <td>gorkii</td>\n",
       "      <td>1908</td>\n",
       "      <td>ispoved</td>\n",
       "    </tr>\n",
       "    <tr>\n",
       "      <th>11</th>\n",
       "      <td>gorkii</td>\n",
       "      <td>1908</td>\n",
       "      <td>zhizn-nenuzhnogo-cheloveka</td>\n",
       "    </tr>\n",
       "    <tr>\n",
       "      <th>12</th>\n",
       "      <td>gorkii</td>\n",
       "      <td>1909</td>\n",
       "      <td>gorodok-okurov</td>\n",
       "    </tr>\n",
       "    <tr>\n",
       "      <th>13</th>\n",
       "      <td>gorkii</td>\n",
       "      <td>1909</td>\n",
       "      <td>leto</td>\n",
       "    </tr>\n",
       "    <tr>\n",
       "      <th>14</th>\n",
       "      <td>andreev</td>\n",
       "      <td>1909</td>\n",
       "      <td>syn-chelovecheskii</td>\n",
       "    </tr>\n",
       "    <tr>\n",
       "      <th>15</th>\n",
       "      <td>andreev</td>\n",
       "      <td>1911</td>\n",
       "      <td>sashka-zhegulev</td>\n",
       "    </tr>\n",
       "    <tr>\n",
       "      <th>16</th>\n",
       "      <td>volnov</td>\n",
       "      <td>1911</td>\n",
       "      <td>tri-grezy</td>\n",
       "    </tr>\n",
       "    <tr>\n",
       "      <th>17</th>\n",
       "      <td>gorkii</td>\n",
       "      <td>1911</td>\n",
       "      <td>zhizn-matveia-kozhemiakina</td>\n",
       "    </tr>\n",
       "    <tr>\n",
       "      <th>18</th>\n",
       "      <td>surguchev</td>\n",
       "      <td>1912</td>\n",
       "      <td>gubernator</td>\n",
       "    </tr>\n",
       "    <tr>\n",
       "      <th>19</th>\n",
       "      <td>volnov</td>\n",
       "      <td>1912</td>\n",
       "      <td>kak-eto-bylo</td>\n",
       "    </tr>\n",
       "    <tr>\n",
       "      <th>20</th>\n",
       "      <td>volnov</td>\n",
       "      <td>1912</td>\n",
       "      <td>povest-o-dniakh-moei-zhizni</td>\n",
       "    </tr>\n",
       "    <tr>\n",
       "      <th>21</th>\n",
       "      <td>gorkii</td>\n",
       "      <td>1914</td>\n",
       "      <td>detstvo</td>\n",
       "    </tr>\n",
       "    <tr>\n",
       "      <th>22</th>\n",
       "      <td>andreev</td>\n",
       "      <td>1914</td>\n",
       "      <td>voskresenie-vsekh-mertvykh</td>\n",
       "    </tr>\n",
       "    <tr>\n",
       "      <th>23</th>\n",
       "      <td>gorkii</td>\n",
       "      <td>1915</td>\n",
       "      <td>v-liudakh</td>\n",
       "    </tr>\n",
       "    <tr>\n",
       "      <th>24</th>\n",
       "      <td>andreev</td>\n",
       "      <td>1916</td>\n",
       "      <td>igo-voiny</td>\n",
       "    </tr>\n",
       "    <tr>\n",
       "      <th>25</th>\n",
       "      <td>andreev</td>\n",
       "      <td>1919</td>\n",
       "      <td>dnevnik-satany</td>\n",
       "    </tr>\n",
       "    <tr>\n",
       "      <th>26</th>\n",
       "      <td>gorkii</td>\n",
       "      <td>1923</td>\n",
       "      <td>moi-universitety</td>\n",
       "    </tr>\n",
       "  </tbody>\n",
       "</table>\n",
       "</div>"
      ],
      "text/plain": [
       "         author pub_year                        title\n",
       "w_id                                                 \n",
       "0        gorkii     1900                         troe\n",
       "1       andreev     1903    zhizn-vasiliia-fiveiskogo\n",
       "2       andreev     1904                   gubernator\n",
       "3       andreev     1905                    k-zvezdam\n",
       "4       andreev     1905                   khristiane\n",
       "5       andreev     1905                     tak-bylo\n",
       "6        gorkii     1906                          mat\n",
       "7       andreev     1906            savva-ignis-sanat\n",
       "8       andreev     1907                iuda-iskariot\n",
       "9       andreev     1907              zhizn-cheloveka\n",
       "10       gorkii     1908                      ispoved\n",
       "11       gorkii     1908   zhizn-nenuzhnogo-cheloveka\n",
       "12       gorkii     1909               gorodok-okurov\n",
       "13       gorkii     1909                         leto\n",
       "14      andreev     1909           syn-chelovecheskii\n",
       "15      andreev     1911              sashka-zhegulev\n",
       "16       volnov     1911                    tri-grezy\n",
       "17       gorkii     1911   zhizn-matveia-kozhemiakina\n",
       "18    surguchev     1912                   gubernator\n",
       "19       volnov     1912                 kak-eto-bylo\n",
       "20       volnov     1912  povest-o-dniakh-moei-zhizni\n",
       "21       gorkii     1914                      detstvo\n",
       "22      andreev     1914   voskresenie-vsekh-mertvykh\n",
       "23       gorkii     1915                    v-liudakh\n",
       "24      andreev     1916                    igo-voiny\n",
       "25      andreev     1919               dnevnik-satany\n",
       "26       gorkii     1923             moi-universitety"
      ]
     },
     "execution_count": 4,
     "metadata": {},
     "output_type": "execute_result"
    }
   ],
   "source": [
    "libDf = pd.DataFrame(columns = libCols)\n",
    "for t in os.listdir(texts): \n",
    "    if t[-4:] == '.txt': \n",
    "        #print(t)\n",
    "        info = re.match(r'(\\w+)-(\\d{4})-(.+).txt', t)\n",
    "        with codecs.open(texts+t, 'r', encoding='windows-1251') as f: \n",
    "            textytext = f.read()\n",
    "        libDf = libDf.append({\n",
    "            'author': info.group(1),\n",
    "            'pub_year': int(info.group(2)), \n",
    "            'title': info.group(3), \n",
    "            'text': textytext\n",
    "        }, ignore_index=True)\n",
    "        \n",
    "libDf = libDf.sort_values(libCols[1:3]).reset_index().drop(['index'], axis=1)\n",
    "libDf.index.name = 'w_id'\n",
    "textDf = libDf[[libCols[3]]]\n",
    "libDf = libDf.drop(columns=[libCols[3]])\n",
    "libDf"
   ]
  },
  {
   "cell_type": "code",
   "execution_count": 12,
   "metadata": {},
   "outputs": [
    {
     "data": {
      "text/html": [
       "<div>\n",
       "<style scoped>\n",
       "    .dataframe tbody tr th:only-of-type {\n",
       "        vertical-align: middle;\n",
       "    }\n",
       "\n",
       "    .dataframe tbody tr th {\n",
       "        vertical-align: top;\n",
       "    }\n",
       "\n",
       "    .dataframe thead th {\n",
       "        text-align: right;\n",
       "    }\n",
       "</style>\n",
       "<table border=\"1\" class=\"dataframe\">\n",
       "  <thead>\n",
       "    <tr style=\"text-align: right;\">\n",
       "      <th></th>\n",
       "      <th>text</th>\n",
       "    </tr>\n",
       "    <tr>\n",
       "      <th>w_id</th>\n",
       "      <th></th>\n",
       "    </tr>\n",
       "  </thead>\n",
       "  <tbody>\n",
       "    <tr>\n",
       "      <th>0</th>\n",
       "      <td>Среди лесов Керженца рассеяно много оди...</td>\n",
       "    </tr>\n",
       "  </tbody>\n",
       "</table>\n",
       "</div>"
      ],
      "text/plain": [
       "                                                   text\n",
       "w_id                                                   \n",
       "0            Среди лесов Керженца рассеяно много оди..."
      ]
     },
     "execution_count": 12,
     "metadata": {},
     "output_type": "execute_result"
    }
   ],
   "source": [
    "nat_parse(textDf.loc[:0])"
   ]
  },
  {
   "cell_type": "code",
   "execution_count": 5,
   "metadata": {},
   "outputs": [
    {
     "data": {
      "application/vnd.jupyter.widget-view+json": {
       "model_id": "bcced487745942f2a6657635483bb916",
       "version_major": 2,
       "version_minor": 0
      },
      "text/plain": [
       "Text DF Index id:   0%|          | 0/1 [00:00<?, ?it/s]"
      ]
     },
     "metadata": {},
     "output_type": "display_data"
    },
    {
     "data": {
      "application/vnd.jupyter.widget-view+json": {
       "model_id": "",
       "version_major": 2,
       "version_minor": 0
      },
      "text/plain": [
       "Token id:   0%|          | 0/79073 [00:00<?, ?it/s]"
      ]
     },
     "metadata": {},
     "output_type": "display_data"
    },
    {
     "ename": "KeyError",
     "evalue": "\"None of ['token_num'] are in the columns\"",
     "output_type": "error",
     "traceback": [
      "\u001b[0;31m---------------------------------------------------------------------------\u001b[0m",
      "\u001b[0;31mKeyError\u001b[0m                                  Traceback (most recent call last)",
      "\u001b[0;32m/tmp/ipykernel_169781/2443299559.py\u001b[0m in \u001b[0;36m<module>\u001b[0;34m\u001b[0m\n\u001b[0;32m----> 1\u001b[0;31m \u001b[0mTestDf\u001b[0m \u001b[0;34m=\u001b[0m \u001b[0mnat_parse\u001b[0m\u001b[0;34m(\u001b[0m\u001b[0mtextDf\u001b[0m\u001b[0;34m.\u001b[0m\u001b[0miloc\u001b[0m\u001b[0;34m[\u001b[0m\u001b[0;34m:\u001b[0m\u001b[0;36m1\u001b[0m\u001b[0;34m]\u001b[0m\u001b[0;34m)\u001b[0m\u001b[0;34m.\u001b[0m\u001b[0mset_index\u001b[0m\u001b[0;34m(\u001b[0m\u001b[0;34m[\u001b[0m\u001b[0;34m'p_id'\u001b[0m\u001b[0;34m,\u001b[0m \u001b[0;34m'token_num'\u001b[0m\u001b[0;34m]\u001b[0m\u001b[0;34m)\u001b[0m\u001b[0;34m\u001b[0m\u001b[0;34m\u001b[0m\u001b[0m\n\u001b[0m",
      "\u001b[0;32m~/.local/lib/python3.9/site-packages/pandas/util/_decorators.py\u001b[0m in \u001b[0;36mwrapper\u001b[0;34m(*args, **kwargs)\u001b[0m\n\u001b[1;32m    309\u001b[0m                     \u001b[0mstacklevel\u001b[0m\u001b[0;34m=\u001b[0m\u001b[0mstacklevel\u001b[0m\u001b[0;34m,\u001b[0m\u001b[0;34m\u001b[0m\u001b[0;34m\u001b[0m\u001b[0m\n\u001b[1;32m    310\u001b[0m                 )\n\u001b[0;32m--> 311\u001b[0;31m             \u001b[0;32mreturn\u001b[0m \u001b[0mfunc\u001b[0m\u001b[0;34m(\u001b[0m\u001b[0;34m*\u001b[0m\u001b[0margs\u001b[0m\u001b[0;34m,\u001b[0m \u001b[0;34m**\u001b[0m\u001b[0mkwargs\u001b[0m\u001b[0;34m)\u001b[0m\u001b[0;34m\u001b[0m\u001b[0;34m\u001b[0m\u001b[0m\n\u001b[0m\u001b[1;32m    312\u001b[0m \u001b[0;34m\u001b[0m\u001b[0m\n\u001b[1;32m    313\u001b[0m         \u001b[0;32mreturn\u001b[0m \u001b[0mwrapper\u001b[0m\u001b[0;34m\u001b[0m\u001b[0;34m\u001b[0m\u001b[0m\n",
      "\u001b[0;32m~/.local/lib/python3.9/site-packages/pandas/core/frame.py\u001b[0m in \u001b[0;36mset_index\u001b[0;34m(self, keys, drop, append, inplace, verify_integrity)\u001b[0m\n\u001b[1;32m   5456\u001b[0m \u001b[0;34m\u001b[0m\u001b[0m\n\u001b[1;32m   5457\u001b[0m         \u001b[0;32mif\u001b[0m \u001b[0mmissing\u001b[0m\u001b[0;34m:\u001b[0m\u001b[0;34m\u001b[0m\u001b[0;34m\u001b[0m\u001b[0m\n\u001b[0;32m-> 5458\u001b[0;31m             \u001b[0;32mraise\u001b[0m \u001b[0mKeyError\u001b[0m\u001b[0;34m(\u001b[0m\u001b[0;34mf\"None of {missing} are in the columns\"\u001b[0m\u001b[0;34m)\u001b[0m\u001b[0;34m\u001b[0m\u001b[0;34m\u001b[0m\u001b[0m\n\u001b[0m\u001b[1;32m   5459\u001b[0m \u001b[0;34m\u001b[0m\u001b[0m\n\u001b[1;32m   5460\u001b[0m         \u001b[0;32mif\u001b[0m \u001b[0minplace\u001b[0m\u001b[0;34m:\u001b[0m\u001b[0;34m\u001b[0m\u001b[0;34m\u001b[0m\u001b[0m\n",
      "\u001b[0;31mKeyError\u001b[0m: \"None of ['token_num'] are in the columns\""
     ]
    }
   ],
   "source": [
    "TestDf = nat_parse(textDf.iloc[:1])"
   ]
  },
  {
   "cell_type": "markdown",
   "metadata": {},
   "source": [
    "### Tokens"
   ]
  },
  {
   "cell_type": "code",
   "execution_count": null,
   "metadata": {},
   "outputs": [],
   "source": [
    "tokenDf = textDf.text.str.split('\\n\\n\\n', expand=True).stack().to_frame()\n",
    "tokenDf.index.names = tokenOHCO[:2]\n",
    "tokenDf = tokenDf.rename(columns={0:'parts'})\n",
    "tokenDf = tokenDf.parts.str.split('\\n\\s*\\n', expand=True).stack().to_frame()\n",
    "tokenDf.index.names = tokenOHCO[:3]\n",
    "tokenDf = tokenDf.rename(columns={0:'paras'})\n",
    "tokenDf = tokenDf.paras.str.split(r'!|\\?|\\.|;', expand=True).stack().to_frame()\n",
    "tokenDf.index.names = tokenOHCO[:4]\n",
    "#tokenDf \n",
    "sentDf = tokenDf = tokenDf.rename(columns={0:'sents'})\n",
    "tokenDf = tokenDf.sents.str.split(r'\\n|\\s+', expand=True).stack().to_frame()\n",
    "tokenDf.index.names = tokenOHCO\n",
    "tokenDf = tokenDf.rename(columns={0:'token'})\n",
    "tokenDf = tokenDf.token.apply(lambda x: x.lower().strip(r\"\\W\\|\\]\\}\\[\\{\\.\\'\\\"\\?;:,<>/1234567890\")).to_frame()\n",
    "tokenDf = tokenDf[tokenDf['token'].str.contains(r'\\w+')]\n",
    "tokenDf"
   ]
  },
  {
   "cell_type": "code",
   "execution_count": null,
   "metadata": {},
   "outputs": [],
   "source": [
    "tokenDf.token.value_counts().to_frame().reset_index().iloc[:60]"
   ]
  },
  {
   "cell_type": "code",
   "execution_count": null,
   "metadata": {},
   "outputs": [],
   "source": [
    "sentDf.sents.apply(lambda x: x.strip(r\"--\")).to_frame()"
   ]
  },
  {
   "cell_type": "raw",
   "metadata": {},
   "source": [
    "sentDf = sentDf[sentDf['sents'].str.contains(r'\\w+')].sents.apply(lambda x: x.lower().strip(r\"\\W\\n\\s\\|\\]\\}\\[\\{\\.\\'\\\"\\?;:,<>/1234567890\")).to_frame()\n",
    "sentDf[sentDf['sents'].str.contains('r\\w')]"
   ]
  }
 ],
 "metadata": {
  "kernelspec": {
   "display_name": "Python 3 (ipykernel)",
   "language": "python",
   "name": "python3"
  },
  "language_info": {
   "codemirror_mode": {
    "name": "ipython",
    "version": 3
   },
   "file_extension": ".py",
   "mimetype": "text/x-python",
   "name": "python",
   "nbconvert_exporter": "python",
   "pygments_lexer": "ipython3",
   "version": "3.9.6"
  }
 },
 "nbformat": 4,
 "nbformat_minor": 4
}
