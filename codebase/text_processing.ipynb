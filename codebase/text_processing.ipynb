{
 "cells": [
  {
   "cell_type": "markdown",
   "metadata": {
    "tags": []
   },
   "source": [
    "# Primary Text Processing"
   ]
  },
  {
   "cell_type": "markdown",
   "metadata": {},
   "source": [
    "## Summary"
   ]
  },
  {
   "cell_type": "code",
   "execution_count": 1,
   "metadata": {
    "tags": []
   },
   "outputs": [],
   "source": [
    "# Code summary of below"
   ]
  },
  {
   "cell_type": "code",
   "execution_count": 2,
   "metadata": {
    "tags": []
   },
   "outputs": [
    {
     "name": "stdout",
     "output_type": "stream",
     "text": [
      "Python 3.11.4\n"
     ]
    }
   ],
   "source": [
    "!python --version"
   ]
  },
  {
   "cell_type": "markdown",
   "metadata": {},
   "source": [
    "## Import"
   ]
  },
  {
   "cell_type": "markdown",
   "metadata": {},
   "source": [
    "### Libraries"
   ]
  },
  {
   "cell_type": "code",
   "execution_count": 3,
   "metadata": {
    "editable": true,
    "slideshow": {
     "slide_type": ""
    },
    "tags": []
   },
   "outputs": [],
   "source": [
    "from backend import *\n",
    "import random"
   ]
  },
  {
   "cell_type": "code",
   "execution_count": 4,
   "metadata": {
    "tags": []
   },
   "outputs": [],
   "source": [
    "%matplotlib inline"
   ]
  },
  {
   "cell_type": "markdown",
   "metadata": {},
   "source": [
    "### Definitions"
   ]
  },
  {
   "cell_type": "code",
   "execution_count": 5,
   "metadata": {
    "tags": []
   },
   "outputs": [],
   "source": [
    "texts = '../texts/fiction/utf8/'\n",
    "\n",
    "libCols = ['author','pub_year','title','text']\n",
    "tokenOHCO = ['w_id','part_num','para_num', 'sent_num', 'token_num']\n",
    "tokenCols = ['p_id', 'start', 'stop', 'text', 'token_id', 'head_id', 'rel', 'pos', 'lemma', 'anim', 'aspect', \\\n",
    "             'case', 'degree', 'gender', 'mood', 'number', 'person', 'tense', 'verb_form', 'voice']"
   ]
  },
  {
   "cell_type": "code",
   "execution_count": 6,
   "metadata": {
    "tags": []
   },
   "outputs": [],
   "source": [
    "#!curl --silent https://xkcd.com/color/rgb.txt | grep -E '(\\w+\\s?\\w?\\s?)(#[[:alnum:]]{6})' > xkcd_colors.txt\n",
    "xkcd_colors_list = './xkcd_colors.txt'\n",
    "with open(xkcd_colors_list, 'r') as f: \n",
    "    xkcd_colors = f.readlines()\n",
    "xkcd_colors_dict = {}\n",
    "for color in [x.split('\\t') for x in xkcd_colors]:\n",
    "    xkcd_colors_dict.update({color[0]:color[1]})\n",
    "    \n",
    "def xkcd_color_picker():\n",
    "    color_id = list(xkcd_colors_dict.items())[random.randint(0, len(xkcd_colors_dict)-1)]\n",
    "    return color_id"
   ]
  },
  {
   "cell_type": "markdown",
   "metadata": {},
   "source": [
    "## Library"
   ]
  },
  {
   "cell_type": "code",
   "execution_count": 7,
   "metadata": {
    "tags": []
   },
   "outputs": [
    {
     "data": {
      "text/html": [
       "<div>\n",
       "<style scoped>\n",
       "    .dataframe tbody tr th:only-of-type {\n",
       "        vertical-align: middle;\n",
       "    }\n",
       "\n",
       "    .dataframe tbody tr th {\n",
       "        vertical-align: top;\n",
       "    }\n",
       "\n",
       "    .dataframe thead th {\n",
       "        text-align: right;\n",
       "    }\n",
       "</style>\n",
       "<table border=\"1\" class=\"dataframe\">\n",
       "  <thead>\n",
       "    <tr style=\"text-align: right;\">\n",
       "      <th></th>\n",
       "      <th>author</th>\n",
       "      <th>pub_year</th>\n",
       "      <th>title</th>\n",
       "    </tr>\n",
       "    <tr>\n",
       "      <th>w_id</th>\n",
       "      <th></th>\n",
       "      <th></th>\n",
       "      <th></th>\n",
       "    </tr>\n",
       "  </thead>\n",
       "  <tbody>\n",
       "    <tr>\n",
       "      <th>0</th>\n",
       "      <td>gorkii</td>\n",
       "      <td>1900</td>\n",
       "      <td>troe</td>\n",
       "    </tr>\n",
       "    <tr>\n",
       "      <th>1</th>\n",
       "      <td>andreev</td>\n",
       "      <td>1903</td>\n",
       "      <td>zhizn-vasiliia-fiveiskogo</td>\n",
       "    </tr>\n",
       "    <tr>\n",
       "      <th>2</th>\n",
       "      <td>andreev</td>\n",
       "      <td>1904</td>\n",
       "      <td>gubernator</td>\n",
       "    </tr>\n",
       "    <tr>\n",
       "      <th>3</th>\n",
       "      <td>andreev</td>\n",
       "      <td>1905</td>\n",
       "      <td>k-zvezdam</td>\n",
       "    </tr>\n",
       "    <tr>\n",
       "      <th>4</th>\n",
       "      <td>andreev</td>\n",
       "      <td>1905</td>\n",
       "      <td>khristiane</td>\n",
       "    </tr>\n",
       "    <tr>\n",
       "      <th>5</th>\n",
       "      <td>andreev</td>\n",
       "      <td>1905</td>\n",
       "      <td>tak-bylo</td>\n",
       "    </tr>\n",
       "    <tr>\n",
       "      <th>6</th>\n",
       "      <td>gorkii</td>\n",
       "      <td>1906</td>\n",
       "      <td>mat</td>\n",
       "    </tr>\n",
       "    <tr>\n",
       "      <th>7</th>\n",
       "      <td>andreev</td>\n",
       "      <td>1906</td>\n",
       "      <td>savva-ignis-sanat</td>\n",
       "    </tr>\n",
       "    <tr>\n",
       "      <th>8</th>\n",
       "      <td>andreev</td>\n",
       "      <td>1907</td>\n",
       "      <td>iuda-iskariot</td>\n",
       "    </tr>\n",
       "    <tr>\n",
       "      <th>9</th>\n",
       "      <td>andreev</td>\n",
       "      <td>1907</td>\n",
       "      <td>zhizn-cheloveka</td>\n",
       "    </tr>\n",
       "    <tr>\n",
       "      <th>10</th>\n",
       "      <td>gorkii</td>\n",
       "      <td>1908</td>\n",
       "      <td>ispoved</td>\n",
       "    </tr>\n",
       "    <tr>\n",
       "      <th>11</th>\n",
       "      <td>gorkii</td>\n",
       "      <td>1908</td>\n",
       "      <td>zhizn-nenuzhnogo-cheloveka</td>\n",
       "    </tr>\n",
       "    <tr>\n",
       "      <th>12</th>\n",
       "      <td>gorkii</td>\n",
       "      <td>1909</td>\n",
       "      <td>gorodok-okurov</td>\n",
       "    </tr>\n",
       "    <tr>\n",
       "      <th>13</th>\n",
       "      <td>gorkii</td>\n",
       "      <td>1909</td>\n",
       "      <td>leto</td>\n",
       "    </tr>\n",
       "    <tr>\n",
       "      <th>14</th>\n",
       "      <td>gorkii</td>\n",
       "      <td>1909</td>\n",
       "      <td>razrushenie-lichnosti</td>\n",
       "    </tr>\n",
       "    <tr>\n",
       "      <th>15</th>\n",
       "      <td>andreev</td>\n",
       "      <td>1909</td>\n",
       "      <td>syn-chelovecheskii</td>\n",
       "    </tr>\n",
       "    <tr>\n",
       "      <th>16</th>\n",
       "      <td>andreev</td>\n",
       "      <td>1911</td>\n",
       "      <td>sashka-zhegulev</td>\n",
       "    </tr>\n",
       "    <tr>\n",
       "      <th>17</th>\n",
       "      <td>volnov</td>\n",
       "      <td>1911</td>\n",
       "      <td>tri-grezy</td>\n",
       "    </tr>\n",
       "    <tr>\n",
       "      <th>18</th>\n",
       "      <td>gorkii</td>\n",
       "      <td>1911</td>\n",
       "      <td>zhizn-matveia-kozhemiakina</td>\n",
       "    </tr>\n",
       "    <tr>\n",
       "      <th>19</th>\n",
       "      <td>surguchev</td>\n",
       "      <td>1912</td>\n",
       "      <td>gubernator</td>\n",
       "    </tr>\n",
       "    <tr>\n",
       "      <th>20</th>\n",
       "      <td>volnov</td>\n",
       "      <td>1912</td>\n",
       "      <td>kak-eto-bylo</td>\n",
       "    </tr>\n",
       "    <tr>\n",
       "      <th>21</th>\n",
       "      <td>volnov</td>\n",
       "      <td>1912</td>\n",
       "      <td>povest-o-dniakh-moei-zhizni</td>\n",
       "    </tr>\n",
       "    <tr>\n",
       "      <th>22</th>\n",
       "      <td>gorkii</td>\n",
       "      <td>1914</td>\n",
       "      <td>detstvo</td>\n",
       "    </tr>\n",
       "    <tr>\n",
       "      <th>23</th>\n",
       "      <td>andreev</td>\n",
       "      <td>1914</td>\n",
       "      <td>voskresenie-vsekh-mertvykh</td>\n",
       "    </tr>\n",
       "    <tr>\n",
       "      <th>24</th>\n",
       "      <td>gorkii</td>\n",
       "      <td>1915</td>\n",
       "      <td>v-liudakh</td>\n",
       "    </tr>\n",
       "    <tr>\n",
       "      <th>25</th>\n",
       "      <td>andreev</td>\n",
       "      <td>1916</td>\n",
       "      <td>igo-voiny</td>\n",
       "    </tr>\n",
       "    <tr>\n",
       "      <th>26</th>\n",
       "      <td>andreev</td>\n",
       "      <td>1919</td>\n",
       "      <td>dnevnik-satany</td>\n",
       "    </tr>\n",
       "    <tr>\n",
       "      <th>27</th>\n",
       "      <td>gorkii</td>\n",
       "      <td>1923</td>\n",
       "      <td>moi-universitety</td>\n",
       "    </tr>\n",
       "  </tbody>\n",
       "</table>\n",
       "</div>"
      ],
      "text/plain": [
       "         author pub_year                        title\n",
       "w_id                                                 \n",
       "0        gorkii     1900                         troe\n",
       "1       andreev     1903    zhizn-vasiliia-fiveiskogo\n",
       "2       andreev     1904                   gubernator\n",
       "3       andreev     1905                    k-zvezdam\n",
       "4       andreev     1905                   khristiane\n",
       "5       andreev     1905                     tak-bylo\n",
       "6        gorkii     1906                          mat\n",
       "7       andreev     1906            savva-ignis-sanat\n",
       "8       andreev     1907                iuda-iskariot\n",
       "9       andreev     1907              zhizn-cheloveka\n",
       "10       gorkii     1908                      ispoved\n",
       "11       gorkii     1908   zhizn-nenuzhnogo-cheloveka\n",
       "12       gorkii     1909               gorodok-okurov\n",
       "13       gorkii     1909                         leto\n",
       "14       gorkii     1909        razrushenie-lichnosti\n",
       "15      andreev     1909           syn-chelovecheskii\n",
       "16      andreev     1911              sashka-zhegulev\n",
       "17       volnov     1911                    tri-grezy\n",
       "18       gorkii     1911   zhizn-matveia-kozhemiakina\n",
       "19    surguchev     1912                   gubernator\n",
       "20       volnov     1912                 kak-eto-bylo\n",
       "21       volnov     1912  povest-o-dniakh-moei-zhizni\n",
       "22       gorkii     1914                      detstvo\n",
       "23      andreev     1914   voskresenie-vsekh-mertvykh\n",
       "24       gorkii     1915                    v-liudakh\n",
       "25      andreev     1916                    igo-voiny\n",
       "26      andreev     1919               dnevnik-satany\n",
       "27       gorkii     1923             moi-universitety"
      ]
     },
     "execution_count": 7,
     "metadata": {},
     "output_type": "execute_result"
    }
   ],
   "source": [
    "libDf = pd.DataFrame(columns = libCols)\n",
    "for t in os.listdir(texts): \n",
    "    if t[-4:] == '.txt': \n",
    "        #print(t)\n",
    "        info = re.match(r'(\\w+)-(\\d{4})-(.+).txt', t)\n",
    "        with codecs.open(texts+t, 'r') as f: \n",
    "            textytext = f.read()\n",
    "        subDf = pd.DataFrame({'author': info.group(1),'pub_year': int(info.group(2)), 'title': info.group(3), 'text': textytext}, index=[1])\n",
    "        libDf = pd.concat([libDf, subDf], ignore_index=True)\n",
    "        \n",
    "libDf = libDf.sort_values(libCols[1:3]).reset_index().drop(['index'], axis=1)\n",
    "libDf.index.name = 'w_id'\n",
    "libTextsDf = libDf[[libCols[3]]]\n",
    "libDf = libDf.drop(columns=[libCols[3]])\n",
    "libDf"
   ]
  },
  {
   "cell_type": "code",
   "execution_count": 8,
   "metadata": {},
   "outputs": [
    {
     "data": {
      "text/html": [
       "<div>\n",
       "<style scoped>\n",
       "    .dataframe tbody tr th:only-of-type {\n",
       "        vertical-align: middle;\n",
       "    }\n",
       "\n",
       "    .dataframe tbody tr th {\n",
       "        vertical-align: top;\n",
       "    }\n",
       "\n",
       "    .dataframe thead th {\n",
       "        text-align: right;\n",
       "    }\n",
       "</style>\n",
       "<table border=\"1\" class=\"dataframe\">\n",
       "  <thead>\n",
       "    <tr style=\"text-align: right;\">\n",
       "      <th></th>\n",
       "      <th>text</th>\n",
       "    </tr>\n",
       "    <tr>\n",
       "      <th>w_id</th>\n",
       "      <th></th>\n",
       "    </tr>\n",
       "  </thead>\n",
       "  <tbody>\n",
       "    <tr>\n",
       "      <th>0</th>\n",
       "      <td>Среди лесов Керженца рассеяно много оди...</td>\n",
       "    </tr>\n",
       "    <tr>\n",
       "      <th>1</th>\n",
       "      <td>*I*\\n\\n       Над всей жизнью Василия ...</td>\n",
       "    </tr>\n",
       "    <tr>\n",
       "      <th>2</th>\n",
       "      <td>I \\n\\n            \\n         ...</td>\n",
       "    </tr>\n",
       "    <tr>\n",
       "      <th>3</th>\n",
       "      <td>1\\n          \\n               Обсерват...</td>\n",
       "    </tr>\n",
       "    <tr>\n",
       "      <th>4</th>\n",
       "      <td>За  окнами  падал  мокрый  нояб...</td>\n",
       "    </tr>\n",
       "    <tr>\n",
       "      <th>5</th>\n",
       "      <td>1\\n\\n       Стояла на площади огромная чер...</td>\n",
       "    </tr>\n",
       "    <tr>\n",
       "      <th>6</th>\n",
       "      <td>*I*\\n\\n       Каждый день над рабочей слоб...</td>\n",
       "    </tr>\n",
       "    <tr>\n",
       "      <th>7</th>\n",
       "      <td>1\\n          \\t \\n               В...</td>\n",
       "    </tr>\n",
       "    <tr>\n",
       "      <th>8</th>\n",
       "      <td>1\\n       \\n       Иисуса Христа много раз...</td>\n",
       "    </tr>\n",
       "    <tr>\n",
       "      <th>9</th>\n",
       "      <td>0\\n\\n/*Некто в сером*, именуемый *Он*, говорит...</td>\n",
       "    </tr>\n",
       "    <tr>\n",
       "      <th>10</th>\n",
       "      <td>...Позвольте рассказать жизнь мою; врем...</td>\n",
       "    </tr>\n",
       "    <tr>\n",
       "      <th>11</th>\n",
       "      <td>*I*\\n       \\n       Когда Евсею К...</td>\n",
       "    </tr>\n",
       "    <tr>\n",
       "      <th>12</th>\n",
       "      <td>*Часть 1*\\n\\n    /\"...уездная, зве...</td>\n",
       "    </tr>\n",
       "    <tr>\n",
       "      <th>13</th>\n",
       "      <td>...Гляжу в окно -- под горою буйно кача...</td>\n",
       "    </tr>\n",
       "    <tr>\n",
       "      <th>14</th>\n",
       "      <td>*I*\\n\\n       Народ не только сила...</td>\n",
       "    </tr>\n",
       "    <tr>\n",
       "      <th>15</th>\n",
       "      <td>*Часть 1*\\n\\n       \\n       В одном великорус...</td>\n",
       "    </tr>\n",
       "    <tr>\n",
       "      <th>16</th>\n",
       "      <td>1\\n\\n     Жаждет  любовь утоления, ищут слезы ...</td>\n",
       "    </tr>\n",
       "    <tr>\n",
       "      <th>17</th>\n",
       "      <td>Идите со мною.\\n       Идите со мною! Возь...</td>\n",
       "    </tr>\n",
       "    <tr>\n",
       "      <th>18</th>\n",
       "      <td>*Часть первая*\\n\\n       По ночам,...</td>\n",
       "    </tr>\n",
       "    <tr>\n",
       "      <th>19</th>\n",
       "      <td>*I*\\n\\n       Когда губернатор еха...</td>\n",
       "    </tr>\n",
       "    <tr>\n",
       "      <th>20</th>\n",
       "      <td>Черезъ 13 дней посл? суда, приговоръ былъ ...</td>\n",
       "    </tr>\n",
       "    <tr>\n",
       "      <th>21</th>\n",
       "      <td>I\\n\\n                   В орло...</td>\n",
       "    </tr>\n",
       "    <tr>\n",
       "      <th>22</th>\n",
       "      <td>*I*\\n\\n       В полутёмной тесной ...</td>\n",
       "    </tr>\n",
       "    <tr>\n",
       "      <th>23</th>\n",
       "      <td>Трубным кличем архангелов было возвещен...</td>\n",
       "    </tr>\n",
       "    <tr>\n",
       "      <th>24</th>\n",
       "      <td>*I*\\n\\n       Я -- в людях, служу ...</td>\n",
       "    </tr>\n",
       "    <tr>\n",
       "      <th>25</th>\n",
       "      <td>*       С.-Петербург, августа 15 дня...</td>\n",
       "    </tr>\n",
       "    <tr>\n",
       "      <th>26</th>\n",
       "      <td>I\\n\\n\\n\\n\\n             18 января 1...</td>\n",
       "    </tr>\n",
       "    <tr>\n",
       "      <th>27</th>\n",
       "      <td>Итак -- я еду учиться в казанский униве...</td>\n",
       "    </tr>\n",
       "  </tbody>\n",
       "</table>\n",
       "</div>"
      ],
      "text/plain": [
       "                                                   text\n",
       "w_id                                                   \n",
       "0            Среди лесов Керженца рассеяно много оди...\n",
       "1             *I*\\n\\n       Над всей жизнью Василия ...\n",
       "2                      I \\n\\n            \\n         ...\n",
       "3             1\\n          \\n               Обсерват...\n",
       "4                    За  окнами  падал  мокрый  нояб...\n",
       "5         1\\n\\n       Стояла на площади огромная чер...\n",
       "6         *I*\\n\\n       Каждый день над рабочей слоб...\n",
       "7                 1\\n          \\t \\n               В...\n",
       "8         1\\n       \\n       Иисуса Христа много раз...\n",
       "9     0\\n\\n/*Некто в сером*, именуемый *Он*, говорит...\n",
       "10           ...Позвольте рассказать жизнь мою; врем...\n",
       "11                *I*\\n       \\n       Когда Евсею К...\n",
       "12                *Часть 1*\\n\\n    /\"...уездная, зве...\n",
       "13           ...Гляжу в окно -- под горою буйно кача...\n",
       "14                *I*\\n\\n       Народ не только сила...\n",
       "15    *Часть 1*\\n\\n       \\n       В одном великорус...\n",
       "16    1\\n\\n     Жаждет  любовь утоления, ищут слезы ...\n",
       "17        Идите со мною.\\n       Идите со мною! Возь...\n",
       "18                *Часть первая*\\n\\n       По ночам,...\n",
       "19                *I*\\n\\n       Когда губернатор еха...\n",
       "20        Черезъ 13 дней посл? суда, приговоръ былъ ...\n",
       "21                    I\\n\\n                   В орло...\n",
       "22                *I*\\n\\n       В полутёмной тесной ...\n",
       "23           Трубным кличем архангелов было возвещен...\n",
       "24                *I*\\n\\n       Я -- в людях, служу ...\n",
       "25              *       С.-Петербург, августа 15 дня...\n",
       "26               I\\n\\n\\n\\n\\n             18 января 1...\n",
       "27           Итак -- я еду учиться в казанский униве..."
      ]
     },
     "execution_count": 8,
     "metadata": {},
     "output_type": "execute_result"
    }
   ],
   "source": [
    "libTextsDf"
   ]
  },
  {
   "cell_type": "markdown",
   "metadata": {},
   "source": [
    "### Regularize"
   ]
  },
  {
   "cell_type": "code",
   "execution_count": 9,
   "metadata": {},
   "outputs": [
    {
     "data": {
      "text/html": [
       "<div>\n",
       "<style scoped>\n",
       "    .dataframe tbody tr th:only-of-type {\n",
       "        vertical-align: middle;\n",
       "    }\n",
       "\n",
       "    .dataframe tbody tr th {\n",
       "        vertical-align: top;\n",
       "    }\n",
       "\n",
       "    .dataframe thead th {\n",
       "        text-align: right;\n",
       "    }\n",
       "</style>\n",
       "<table border=\"1\" class=\"dataframe\">\n",
       "  <thead>\n",
       "    <tr style=\"text-align: right;\">\n",
       "      <th></th>\n",
       "      <th>text</th>\n",
       "      <th>paraID</th>\n",
       "    </tr>\n",
       "  </thead>\n",
       "  <tbody>\n",
       "    <tr>\n",
       "      <th>0</th>\n",
       "      <td>...Позвольте рассказать жизнь мою; врем...</td>\n",
       "      <td>1</td>\n",
       "    </tr>\n",
       "    <tr>\n",
       "      <th>1</th>\n",
       "      <td>Я -- крапивник, подкидыш, незаконный че...</td>\n",
       "      <td>2</td>\n",
       "    </tr>\n",
       "    <tr>\n",
       "      <th>2</th>\n",
       "      <td>У Данилы прожил я до четырёх лет, но он...</td>\n",
       "      <td>3</td>\n",
       "    </tr>\n",
       "    <tr>\n",
       "      <th>3</th>\n",
       "      <td>Четырёх лет взял меня к себе дьячок Лар...</td>\n",
       "      <td>4</td>\n",
       "    </tr>\n",
       "    <tr>\n",
       "      <th>4</th>\n",
       "      <td>От людей в стороне стоял, жил бедно, на...</td>\n",
       "      <td>5</td>\n",
       "    </tr>\n",
       "    <tr>\n",
       "      <th>...</th>\n",
       "      <td>...</td>\n",
       "      <td>...</td>\n",
       "    </tr>\n",
       "    <tr>\n",
       "      <th>2357</th>\n",
       "      <td>Окрыляет он жизнь её величием деяний и ...</td>\n",
       "      <td>2356</td>\n",
       "    </tr>\n",
       "    <tr>\n",
       "      <th>2358</th>\n",
       "      <td>-- Ты еси мой бог и творец всех богов, ...</td>\n",
       "      <td>2357</td>\n",
       "    </tr>\n",
       "    <tr>\n",
       "      <th>2359</th>\n",
       "      <td>-- Да не будут миру бози инии разве теб...</td>\n",
       "      <td>2358</td>\n",
       "    </tr>\n",
       "    <tr>\n",
       "      <th>2360</th>\n",
       "      <td>-- Тако верую и исповедую!</td>\n",
       "      <td>2359</td>\n",
       "    </tr>\n",
       "    <tr>\n",
       "      <th>2361</th>\n",
       "      <td>...И -- по сём возвращаюсь туда, где лю...</td>\n",
       "      <td>2360</td>\n",
       "    </tr>\n",
       "  </tbody>\n",
       "</table>\n",
       "<p>2360 rows × 2 columns</p>\n",
       "</div>"
      ],
      "text/plain": [
       "                                                   text  paraID\n",
       "0            ...Позвольте рассказать жизнь мою; врем...       1\n",
       "1            Я -- крапивник, подкидыш, незаконный че...       2\n",
       "2            У Данилы прожил я до четырёх лет, но он...       3\n",
       "3            Четырёх лет взял меня к себе дьячок Лар...       4\n",
       "4            От людей в стороне стоял, жил бедно, на...       5\n",
       "...                                                 ...     ...\n",
       "2357         Окрыляет он жизнь её величием деяний и ...    2356\n",
       "2358         -- Ты еси мой бог и творец всех богов, ...    2357\n",
       "2359         -- Да не будут миру бози инии разве теб...    2358\n",
       "2360                         -- Тако верую и исповедую!    2359\n",
       "2361         ...И -- по сём возвращаюсь туда, где лю...    2360\n",
       "\n",
       "[2360 rows x 2 columns]"
      ]
     },
     "execution_count": 9,
     "metadata": {},
     "output_type": "execute_result"
    }
   ],
   "source": [
    "confessionTextDf = textRegularize(libTextsDf, 10)\n",
    "confessionTextDf"
   ]
  },
  {
   "cell_type": "code",
   "execution_count": 10,
   "metadata": {},
   "outputs": [
    {
     "data": {
      "text/html": [
       "<div>\n",
       "<style scoped>\n",
       "    .dataframe tbody tr th:only-of-type {\n",
       "        vertical-align: middle;\n",
       "    }\n",
       "\n",
       "    .dataframe tbody tr th {\n",
       "        vertical-align: top;\n",
       "    }\n",
       "\n",
       "    .dataframe thead th {\n",
       "        text-align: right;\n",
       "    }\n",
       "</style>\n",
       "<table border=\"1\" class=\"dataframe\">\n",
       "  <thead>\n",
       "    <tr style=\"text-align: right;\">\n",
       "      <th></th>\n",
       "      <th>chapID</th>\n",
       "      <th>para</th>\n",
       "      <th>text</th>\n",
       "      <th>paraID</th>\n",
       "    </tr>\n",
       "  </thead>\n",
       "  <tbody>\n",
       "    <tr>\n",
       "      <th>0</th>\n",
       "      <td>1</td>\n",
       "      <td>1</td>\n",
       "      <td>Народ не только сила, создающая все мат...</td>\n",
       "      <td>1</td>\n",
       "    </tr>\n",
       "    <tr>\n",
       "      <th>1</th>\n",
       "      <td>1</td>\n",
       "      <td>2</td>\n",
       "      <td>Во дни своего детства, руководимый инст...</td>\n",
       "      <td>2</td>\n",
       "    </tr>\n",
       "    <tr>\n",
       "      <th>2</th>\n",
       "      <td>1</td>\n",
       "      <td>3</td>\n",
       "      <td>В мифе и эпосе, как и в языке, главном ...</td>\n",
       "      <td>3</td>\n",
       "    </tr>\n",
       "    <tr>\n",
       "      <th>3</th>\n",
       "      <td>1</td>\n",
       "      <td>4</td>\n",
       "      <td>Что образование и построение языка -- п...</td>\n",
       "      <td>4</td>\n",
       "    </tr>\n",
       "    <tr>\n",
       "      <th>4</th>\n",
       "      <td>1</td>\n",
       "      <td>5</td>\n",
       "      <td>Мы еще не имеем достаточного количества...</td>\n",
       "      <td>5</td>\n",
       "    </tr>\n",
       "    <tr>\n",
       "      <th>...</th>\n",
       "      <td>...</td>\n",
       "      <td>...</td>\n",
       "      <td>...</td>\n",
       "      <td>...</td>\n",
       "    </tr>\n",
       "    <tr>\n",
       "      <th>287</th>\n",
       "      <td>12</td>\n",
       "      <td>28</td>\n",
       "      <td>Но хулиган -- кровное дитя мещанина, эт...</td>\n",
       "      <td>266</td>\n",
       "    </tr>\n",
       "    <tr>\n",
       "      <th>288</th>\n",
       "      <td>12</td>\n",
       "      <td>29</td>\n",
       "      <td>Это драма -- семейная драма врага; мы с...</td>\n",
       "      <td>267</td>\n",
       "    </tr>\n",
       "    <tr>\n",
       "      <th>289</th>\n",
       "      <td>12</td>\n",
       "      <td>30</td>\n",
       "      <td>Нам -- это естественное желание здорово...</td>\n",
       "      <td>268</td>\n",
       "    </tr>\n",
       "    <tr>\n",
       "      <th>290</th>\n",
       "      <td>12</td>\n",
       "      <td>31</td>\n",
       "      <td>Ибо для нас история всемирной культуры ...</td>\n",
       "      <td>269</td>\n",
       "    </tr>\n",
       "    <tr>\n",
       "      <th>291</th>\n",
       "      <td>12</td>\n",
       "      <td>32</td>\n",
       "      <td>Жизнь человечества -- творчество, стрем...</td>\n",
       "      <td>270</td>\n",
       "    </tr>\n",
       "  </tbody>\n",
       "</table>\n",
       "<p>270 rows × 4 columns</p>\n",
       "</div>"
      ],
      "text/plain": [
       "     chapID  para                                               text  paraID\n",
       "0         1     1         Народ не только сила, создающая все мат...       1\n",
       "1         1     2         Во дни своего детства, руководимый инст...       2\n",
       "2         1     3         В мифе и эпосе, как и в языке, главном ...       3\n",
       "3         1     4         Что образование и построение языка -- п...       4\n",
       "4         1     5         Мы еще не имеем достаточного количества...       5\n",
       "..      ...   ...                                                ...     ...\n",
       "287      12    28         Но хулиган -- кровное дитя мещанина, эт...     266\n",
       "288      12    29         Это драма -- семейная драма врага; мы с...     267\n",
       "289      12    30         Нам -- это естественное желание здорово...     268\n",
       "290      12    31         Ибо для нас история всемирной культуры ...     269\n",
       "291      12    32         Жизнь человечества -- творчество, стрем...     270\n",
       "\n",
       "[270 rows x 4 columns]"
      ]
     },
     "execution_count": 10,
     "metadata": {},
     "output_type": "execute_result"
    }
   ],
   "source": [
    "dpTextDf = textRegularize(libTextsDf, 14)\n",
    "dpTextDf"
   ]
  },
  {
   "cell_type": "code",
   "execution_count": 11,
   "metadata": {},
   "outputs": [
    {
     "data": {
      "text/html": [
       "<div>\n",
       "<style scoped>\n",
       "    .dataframe tbody tr th:only-of-type {\n",
       "        vertical-align: middle;\n",
       "    }\n",
       "\n",
       "    .dataframe tbody tr th {\n",
       "        vertical-align: top;\n",
       "    }\n",
       "\n",
       "    .dataframe thead th {\n",
       "        text-align: right;\n",
       "    }\n",
       "</style>\n",
       "<table border=\"1\" class=\"dataframe\">\n",
       "  <thead>\n",
       "    <tr style=\"text-align: right;\">\n",
       "      <th></th>\n",
       "      <th>chapID</th>\n",
       "      <th>para</th>\n",
       "      <th>text</th>\n",
       "      <th>paraID</th>\n",
       "    </tr>\n",
       "  </thead>\n",
       "  <tbody>\n",
       "    <tr>\n",
       "      <th>0</th>\n",
       "      <td>1</td>\n",
       "      <td>1</td>\n",
       "      <td>Каждый день над рабочей слободкой, в ды...</td>\n",
       "      <td>1</td>\n",
       "    </tr>\n",
       "    <tr>\n",
       "      <th>1</th>\n",
       "      <td>1</td>\n",
       "      <td>2</td>\n",
       "      <td>Вечером, когда садилось солнце, и на ст...</td>\n",
       "      <td>2</td>\n",
       "    </tr>\n",
       "    <tr>\n",
       "      <th>2</th>\n",
       "      <td>1</td>\n",
       "      <td>3</td>\n",
       "      <td>День проглочен фабрикой, машины высосал...</td>\n",
       "      <td>3</td>\n",
       "    </tr>\n",
       "    <tr>\n",
       "      <th>3</th>\n",
       "      <td>1</td>\n",
       "      <td>4</td>\n",
       "      <td>По праздникам спали часов до десяти, по...</td>\n",
       "      <td>4</td>\n",
       "    </tr>\n",
       "    <tr>\n",
       "      <th>4</th>\n",
       "      <td>1</td>\n",
       "      <td>5</td>\n",
       "      <td>Усталость, накопленная годами, лишала л...</td>\n",
       "      <td>5</td>\n",
       "    </tr>\n",
       "    <tr>\n",
       "      <th>...</th>\n",
       "      <td>...</td>\n",
       "      <td>...</td>\n",
       "      <td>...</td>\n",
       "      <td>...</td>\n",
       "    </tr>\n",
       "    <tr>\n",
       "      <th>4490</th>\n",
       "      <td>58</td>\n",
       "      <td>90</td>\n",
       "      <td>Ударили по руке.</td>\n",
       "      <td>4432</td>\n",
       "    </tr>\n",
       "    <tr>\n",
       "      <th>4491</th>\n",
       "      <td>58</td>\n",
       "      <td>91</td>\n",
       "      <td>-- Только злобы накопите, безумные! На ...</td>\n",
       "      <td>4433</td>\n",
       "    </tr>\n",
       "    <tr>\n",
       "      <th>4492</th>\n",
       "      <td>58</td>\n",
       "      <td>92</td>\n",
       "      <td>Жандарм схватил ее за горло и стал души...</td>\n",
       "      <td>4434</td>\n",
       "    </tr>\n",
       "    <tr>\n",
       "      <th>4493</th>\n",
       "      <td>58</td>\n",
       "      <td>93</td>\n",
       "      <td>-- Несчастные...</td>\n",
       "      <td>4435</td>\n",
       "    </tr>\n",
       "    <tr>\n",
       "      <th>4494</th>\n",
       "      <td>58</td>\n",
       "      <td>94</td>\n",
       "      <td>Кто-то ответил ей громким рыданием.</td>\n",
       "      <td>4436</td>\n",
       "    </tr>\n",
       "  </tbody>\n",
       "</table>\n",
       "<p>4436 rows × 4 columns</p>\n",
       "</div>"
      ],
      "text/plain": [
       "      chapID  para                                               text  paraID\n",
       "0          1     1         Каждый день над рабочей слободкой, в ды...       1\n",
       "1          1     2         Вечером, когда садилось солнце, и на ст...       2\n",
       "2          1     3         День проглочен фабрикой, машины высосал...       3\n",
       "3          1     4         По праздникам спали часов до десяти, по...       4\n",
       "4          1     5         Усталость, накопленная годами, лишала л...       5\n",
       "...      ...   ...                                                ...     ...\n",
       "4490      58    90                                   Ударили по руке.    4432\n",
       "4491      58    91         -- Только злобы накопите, безумные! На ...    4433\n",
       "4492      58    92         Жандарм схватил ее за горло и стал души...    4434\n",
       "4493      58    93                                   -- Несчастные...    4435\n",
       "4494      58    94                Кто-то ответил ей громким рыданием.    4436\n",
       "\n",
       "[4436 rows x 4 columns]"
      ]
     },
     "execution_count": 11,
     "metadata": {},
     "output_type": "execute_result"
    }
   ],
   "source": [
    "motherTextDf = textRegularize(libTextsDf, 6)\n",
    "motherTextDf"
   ]
  },
  {
   "cell_type": "code",
   "execution_count": 12,
   "metadata": {
    "tags": []
   },
   "outputs": [
    {
     "data": {
      "text/plain": [
       "<Axes: xlabel='chapID', ylabel='# paragraphs'>"
      ]
     },
     "execution_count": 12,
     "metadata": {},
     "output_type": "execute_result"
    },
    {
     "data": {
      "image/png": "[encoded data removed]",
      "text/plain": [
       "<Figure size 640x480 with 1 Axes>"
      ]
     },
     "metadata": {},
     "output_type": "display_data"
    }
   ],
   "source": [
    "motherTextDf.groupby('chapID').paraID.count().to_frame().plot(kind='bar', ylabel='# paragraphs', legend=False)"
   ]
  },
  {
   "cell_type": "code",
   "execution_count": 13,
   "metadata": {},
   "outputs": [
    {
     "data": {
      "text/html": [
       "<div>\n",
       "<style scoped>\n",
       "    .dataframe tbody tr th:only-of-type {\n",
       "        vertical-align: middle;\n",
       "    }\n",
       "\n",
       "    .dataframe tbody tr th {\n",
       "        vertical-align: top;\n",
       "    }\n",
       "\n",
       "    .dataframe thead th {\n",
       "        text-align: right;\n",
       "    }\n",
       "</style>\n",
       "<table border=\"1\" class=\"dataframe\">\n",
       "  <thead>\n",
       "    <tr style=\"text-align: right;\">\n",
       "      <th></th>\n",
       "      <th>chapID</th>\n",
       "      <th>para</th>\n",
       "      <th>text</th>\n",
       "      <th>paraID</th>\n",
       "    </tr>\n",
       "  </thead>\n",
       "  <tbody>\n",
       "    <tr>\n",
       "      <th>0</th>\n",
       "      <td>0</td>\n",
       "      <td>1</td>\n",
       "      <td>В полутёмной тесной комнате, на полу, п...</td>\n",
       "      <td>1</td>\n",
       "    </tr>\n",
       "    <tr>\n",
       "      <th>1</th>\n",
       "      <td>0</td>\n",
       "      <td>2</td>\n",
       "      <td>Мать, полуголая, в красной юбке, стоит ...</td>\n",
       "      <td>2</td>\n",
       "    </tr>\n",
       "    <tr>\n",
       "      <th>2</th>\n",
       "      <td>0</td>\n",
       "      <td>3</td>\n",
       "      <td>Меня держит за руку бабушка -- круглая,...</td>\n",
       "      <td>3</td>\n",
       "    </tr>\n",
       "    <tr>\n",
       "      <th>3</th>\n",
       "      <td>0</td>\n",
       "      <td>4</td>\n",
       "      <td>Я никогда ещё не видал, чтобы большие п...</td>\n",
       "      <td>4</td>\n",
       "    </tr>\n",
       "    <tr>\n",
       "      <th>4</th>\n",
       "      <td>0</td>\n",
       "      <td>5</td>\n",
       "      <td>-- Попрощайся с тятей-то, никогда уж не...</td>\n",
       "      <td>5</td>\n",
       "    </tr>\n",
       "    <tr>\n",
       "      <th>...</th>\n",
       "      <td>...</td>\n",
       "      <td>...</td>\n",
       "      <td>...</td>\n",
       "      <td>...</td>\n",
       "    </tr>\n",
       "    <tr>\n",
       "      <th>2848</th>\n",
       "      <td>23</td>\n",
       "      <td>212</td>\n",
       "      <td>-- Гляди, ты гляди, чего он делает! -- ...</td>\n",
       "      <td>2780</td>\n",
       "    </tr>\n",
       "    <tr>\n",
       "      <th>2849</th>\n",
       "      <td>23</td>\n",
       "      <td>213</td>\n",
       "      <td>Мне понравилось это, и мы пошли в поле.</td>\n",
       "      <td>2781</td>\n",
       "    </tr>\n",
       "    <tr>\n",
       "      <th>2851</th>\n",
       "      <td>23</td>\n",
       "      <td>215</td>\n",
       "      <td>Через несколько дней после похорон мате...</td>\n",
       "      <td>2782</td>\n",
       "    </tr>\n",
       "    <tr>\n",
       "      <th>2852</th>\n",
       "      <td>23</td>\n",
       "      <td>216</td>\n",
       "      <td>-- Ну, Лексей, ты -- не медаль, на шее ...</td>\n",
       "      <td>2783</td>\n",
       "    </tr>\n",
       "    <tr>\n",
       "      <th>2853</th>\n",
       "      <td>23</td>\n",
       "      <td>217</td>\n",
       "      <td>И пошёл я в люди.</td>\n",
       "      <td>2784</td>\n",
       "    </tr>\n",
       "  </tbody>\n",
       "</table>\n",
       "<p>2784 rows × 4 columns</p>\n",
       "</div>"
      ],
      "text/plain": [
       "      chapID  para                                               text  paraID\n",
       "0          0     1         В полутёмной тесной комнате, на полу, п...       1\n",
       "1          0     2         Мать, полуголая, в красной юбке, стоит ...       2\n",
       "2          0     3         Меня держит за руку бабушка -- круглая,...       3\n",
       "3          0     4         Я никогда ещё не видал, чтобы большие п...       4\n",
       "4          0     5         -- Попрощайся с тятей-то, никогда уж не...       5\n",
       "...      ...   ...                                                ...     ...\n",
       "2848      23   212         -- Гляди, ты гляди, чего он делает! -- ...    2780\n",
       "2849      23   213            Мне понравилось это, и мы пошли в поле.    2781\n",
       "2851      23   215         Через несколько дней после похорон мате...    2782\n",
       "2852      23   216         -- Ну, Лексей, ты -- не медаль, на шее ...    2783\n",
       "2853      23   217                                  И пошёл я в люди.    2784\n",
       "\n",
       "[2784 rows x 4 columns]"
      ]
     },
     "execution_count": 13,
     "metadata": {},
     "output_type": "execute_result"
    }
   ],
   "source": [
    "# split into chapters\n",
    "detstvoTextDf = libTextsDf.loc[[22]]\n",
    "detstvoTextDf = pd.DataFrame(data=detstvoTextDf.text.str.split(r'\\*\\w+\\*\\n\\n').to_list()[0]).reset_index()\n",
    "detstvoTextDf = detstvoTextDf.rename(columns={'index':'chap', 0:'text'})[1:]\n",
    "detstvoTextDf = detstvoTextDf.text.str.split('\\n\\n', expand=True).stack().to_frame().reset_index().drop('level_1', axis=1).drop([1, 4, 6, 8, 10, 12, 14, 16, 18, 20, 22], axis=0)\n",
    "detstvoTextDf = detstvoTextDf.rename(columns={'level_0':'chap', 0:'text'})\n",
    "detstvoTextDf = detstvoTextDf['text'].str.split(' \\n', expand=True).stack().to_frame().reset_index().rename(columns={'level_0':'chapID','level_1':'para',0:'text'})\n",
    "# regularize\n",
    "detstvoTextDf['text'] = detstvoTextDf.text.str.replace('\\n|\\s{2,}', '')\n",
    "# remove white space paragraphs\n",
    "detstvoTextDf = detstvoTextDf.loc[~detstvoTextDf.text.str.contains(r\"^\\W*$\", regex=True)]\n",
    "#textDf['part'] = detstvoTextDf.chapID.apply(lambda x: int('1') if x < 30 else int('2'))\n",
    "#textDf['chap'] = detstvoTextDf.chapID.map(textDf['chapID'].to_dict())\n",
    "detstvoTextDf['para'] = detstvoTextDf['para'].apply(lambda x: x+1)\n",
    "detstvoTextDf['paraID'] = range(1, len(detstvoTextDf)+1)\n",
    "detstvoTextDf"
   ]
  },
  {
   "cell_type": "markdown",
   "metadata": {},
   "source": [
    "## Words"
   ]
  },
  {
   "cell_type": "markdown",
   "metadata": {},
   "source": [
    "### Tokens"
   ]
  },
  {
   "cell_type": "raw",
   "metadata": {
    "tags": []
   },
   "source": [
    "motherTokenDf = nat_parse(motherTextDf.set_index('paraID')[['text']])"
   ]
  },
  {
   "cell_type": "code",
   "execution_count": null,
   "metadata": {},
   "outputs": [],
   "source": [
    "motherTokenDf = pd.read_pickle('./proc/MotherTokendf.pkl')#.set_index(['p_id','token_id'])"
   ]
  },
  {
   "cell_type": "code",
   "execution_count": null,
   "metadata": {
    "tags": []
   },
   "outputs": [],
   "source": [
    "motherTokenDf.set_index(['p_id','token_id'])"
   ]
  },
  {
   "cell_type": "raw",
   "metadata": {
    "jupyter": {
     "source_hidden": true
    },
    "tags": []
   },
   "source": [
    "from IPython.core.display import display, HTML\n",
    "\n",
    "def display_side_by_side(dfs:list, captions:list, tablespacing=5):\n",
    "    \"\"\"Display tables side by side to save vertical space\n",
    "    Input:\n",
    "        dfs: list of pandas.DataFrame\n",
    "        captions: list of table captions\n",
    "    \"\"\"\n",
    "    output = \"\"\n",
    "    for (caption, df) in zip(captions, dfs):\n",
    "        output += df.style.set_table_attributes(\"style='display:inline'\").set_caption(caption)._repr_html_()\n",
    "        output += tablespacing * \"\\xa0\"\n",
    "    display(HTML(output))"
   ]
  },
  {
   "cell_type": "raw",
   "metadata": {
    "jupyter": {
     "source_hidden": true
    },
    "tags": []
   },
   "source": [
    "df1 = motherTokenDf.rel.value_counts().to_frame()\n",
    "df2 = motherTokenDf.anim.value_counts().to_frame()\n",
    "df3 = motherTokenDf.aspect.value_counts().to_frame()\n",
    "df4 = motherTokenDf.case.value_counts().to_frame()\n",
    "df5 = motherTokenDf.degree.value_counts().to_frame()\n",
    "df6 = motherTokenDf.gender.value_counts().to_frame()\n",
    "df7 = motherTokenDf.mood.value_counts().to_frame()\n",
    "df8 = motherTokenDf.number.value_counts().to_frame()\n",
    "df9 = motherTokenDf.person.value_counts().to_frame()\n",
    "df10 = motherTokenDf.tense.value_counts().to_frame()\n",
    "df11 = motherTokenDf.verb_form.value_counts().to_frame()\n",
    "df12 = motherTokenDf.voice.value_counts().to_frame()\n",
    "\n",
    "display_side_by_side([df1, df2, df3, df4, df5, df6, df7, df8, df9, df10, df11, df12], ['rel', 'anim', 'aspect', 'case', 'degree', 'gender', 'mood', 'number', 'person', 'tense', 'verb form', 'voice'])"
   ]
  },
  {
   "cell_type": "raw",
   "metadata": {
    "jupyter": {
     "source_hidden": true
    },
    "tags": []
   },
   "source": [
    "from ipywidgets import widgets, Layout\n",
    "from IPython import display\n",
    "\n",
    "# sample data\n",
    "df1 = pd.DataFrame(np.random.randn(8, 3))\n",
    "df2 = pd.DataFrame(np.random.randn(8, 3))\n",
    "\n",
    "# create output widgets\n",
    "widget1 = widgets.Output()\n",
    "widget2 = widgets.Output()\n",
    "\n",
    "# render in output widgets\n",
    "with widget1:\n",
    "    display.display(df1.style.set_caption('First dataframe'))\n",
    "    df1.info()\n",
    "with widget2:\n",
    "    display.display(df2.style.set_caption('Second dataframe'))\n",
    "    df1.info()\n",
    "\n",
    "\n",
    "# add some CSS styles to distribute free space\n",
    "box_layout = Layout(display='flex',\n",
    "                    flex_flow='row',\n",
    "                    justify_content='space-around',\n",
    "                    width='auto'\n",
    "                   )\n",
    "    \n",
    "# create Horisontal Box container\n",
    "hbox = widgets.HBox([widget1, widget2], layout=box_layout)\n",
    "\n",
    "# render hbox\n",
    "hbox"
   ]
  },
  {
   "cell_type": "raw",
   "metadata": {
    "tags": []
   },
   "source": [
    "confessionTokenDf = nat_parse(confessionTextDf.set_index('paraID')[['text']])"
   ]
  },
  {
   "cell_type": "raw",
   "metadata": {
    "tags": []
   },
   "source": [
    "confessionTokenDf.to_pickle('./proc/ConfessionTokenDf.pkl')#.set_index(['p_id', 'token_id'])"
   ]
  },
  {
   "cell_type": "code",
   "execution_count": null,
   "metadata": {},
   "outputs": [],
   "source": [
    "confessionTokenDf = pd.read_pickle('./proc/ConfessionTokenDf.pkl')"
   ]
  },
  {
   "cell_type": "code",
   "execution_count": null,
   "metadata": {
    "tags": []
   },
   "outputs": [],
   "source": [
    "confessionTokenDf.set_index(['p_id', 'token_id'])"
   ]
  },
  {
   "cell_type": "raw",
   "metadata": {
    "tags": []
   },
   "source": [
    "detstvoTokenDf = nat_parse(detstvoTextDf.set_index('paraID')[['text']])"
   ]
  },
  {
   "cell_type": "raw",
   "metadata": {
    "tags": []
   },
   "source": [
    "detstvoTokenDf.to_pickle('./proc/ChildhoodTokenDf.pkl')#.set_index(['p_id', 'token_id'])"
   ]
  },
  {
   "cell_type": "code",
   "execution_count": null,
   "metadata": {
    "tags": []
   },
   "outputs": [],
   "source": [
    "childhoodTokenDf = pd.read_pickle('./proc/ChildhoodTokenDf.pkl')"
   ]
  },
  {
   "cell_type": "code",
   "execution_count": null,
   "metadata": {
    "tags": []
   },
   "outputs": [],
   "source": [
    "childhoodTokenDf.set_index(['p_id', 'token_id'])"
   ]
  },
  {
   "cell_type": "raw",
   "metadata": {
    "tags": []
   },
   "source": [
    "dpTokenDf = nat_parse(dpTextDf.set_index('paraID')[['text']])"
   ]
  },
  {
   "cell_type": "raw",
   "metadata": {
    "tags": []
   },
   "source": [
    "dpTokenDf.to_pickle('./proc/DpTokenDf.pkl')#.set_index(['p_id', 'token_id'])"
   ]
  },
  {
   "cell_type": "code",
   "execution_count": null,
   "metadata": {
    "tags": []
   },
   "outputs": [],
   "source": [
    "dpTokenDf = pd.read_pickle('./proc/DpTokenDf.pkl')"
   ]
  },
  {
   "cell_type": "code",
   "execution_count": null,
   "metadata": {
    "tags": []
   },
   "outputs": [],
   "source": [
    "dpTokenDf.set_index(['p_id', 'token_id'])"
   ]
  },
  {
   "cell_type": "markdown",
   "metadata": {},
   "source": [
    "### Vocab"
   ]
  },
  {
   "cell_type": "code",
   "execution_count": null,
   "metadata": {},
   "outputs": [],
   "source": [
    "motherRankDf = GetRankDf(motherTokenDf)\n",
    "motherRankDf"
   ]
  },
  {
   "cell_type": "code",
   "execution_count": null,
   "metadata": {},
   "outputs": [],
   "source": [
    "confessionRankDf = GetRankDf(confessionTokenDf)\n",
    "confessionRankDf"
   ]
  },
  {
   "cell_type": "code",
   "execution_count": null,
   "metadata": {
    "tags": []
   },
   "outputs": [],
   "source": [
    "childhoodRankDf = GetRankDf(childhoodTokenDf)\n",
    "childhoodRankDf"
   ]
  },
  {
   "cell_type": "code",
   "execution_count": null,
   "metadata": {
    "tags": []
   },
   "outputs": [],
   "source": [
    "dpRankDf = GetRankDf(dpTokenDf)\n",
    "dpRankDf"
   ]
  },
  {
   "cell_type": "code",
   "execution_count": null,
   "metadata": {},
   "outputs": [],
   "source": [
    "def arrangeFigures(*figures):\n",
    "    fig, ax = plt.subplots(1,2)\n",
    "    sns.plotType(someData, ax=ax[0])  # plot1\n",
    "    sns.plotType(someData, ax=ax[1])  # plot2\n",
    "    fig.show()"
   ]
  },
  {
   "cell_type": "markdown",
   "metadata": {},
   "source": [
    "### Time-Token Matrices (TTM)"
   ]
  },
  {
   "cell_type": "code",
   "execution_count": null,
   "metadata": {
    "tags": []
   },
   "outputs": [],
   "source": [
    "def makeBOW(tokenDf):\n",
    "    bowDf = tokenDf.groupby(['p_id', 'lemma']).lemma.count().to_frame('n')\n",
    "    return bowDf\n",
    "\n",
    "def makeDTCM(bowDf):\n",
    "    dtcmDf = bowDf.n.unstack(fill_value=0)\n",
    "    return dtcmDf\n",
    "\n",
    "def makeTTM(tokenDf):\n",
    "    TTM = pd.get_dummies(tokenDf['lemma'], columns=['lemma'], prefix_sep='', drop_first=False).reset_index(drop=True).iloc[:,1:]\n",
    "    TTM.index.name = 'time_id'\n",
    "    TTM = TTM.astype('int')\n",
    "    return TTM\n",
    "\n",
    "def getVocabTTM(TTM, vocab_words):\n",
    "    cfg = {'figsize': (20,6)}\n",
    "    num_words = len(vocab_words)\n",
    "    fig, axs = plt.subplots(num_words, sharex=True, sharey=True, **cfg)\n",
    "    fig.suptitle('Appearance of vocab in Mother')\n",
    "    for i in range(0, num_words):\n",
    "        graph_color = xkcd_color_picker()[1]\n",
    "        axs[i].plot(TTM[vocab_words[i]], graph_color)\n",
    "        axs[i].set_title(vocab_words[i], color=graph_color, rotation='vertical',x=-0.01,y=0.3)\n",
    "    for ax in axs:\n",
    "        ax.set_yticks([])"
   ]
  },
  {
   "cell_type": "code",
   "execution_count": null,
   "metadata": {
    "tags": []
   },
   "outputs": [],
   "source": [
    "ttmwords = ['мать', 'павел', 'христос']\n",
    "motherTTM = makeTTM(motherTokenDf)\n",
    "getVocabTTM(motherTTM, ttmwords)"
   ]
  },
  {
   "cell_type": "markdown",
   "metadata": {},
   "source": [
    "## Vectorization"
   ]
  },
  {
   "cell_type": "markdown",
   "metadata": {},
   "source": [
    "### TFIDF"
   ]
  },
  {
   "cell_type": "code",
   "execution_count": null,
   "metadata": {
    "tags": []
   },
   "outputs": [],
   "source": [
    "motherRankDf, confessionRankDf, childhoodRankDf, dpRankDf"
   ]
  },
  {
   "cell_type": "code",
   "execution_count": null,
   "metadata": {
    "tags": []
   },
   "outputs": [],
   "source": [
    "motherChapParaDict = dict(zip(motherTextDf.paraID, motherTextDf.chapID))"
   ]
  },
  {
   "cell_type": "code",
   "execution_count": null,
   "metadata": {},
   "outputs": [],
   "source": [
    "motherTokenDf = motherTokenDf.reset_index().drop('index', axis=1)\n",
    "motherTokenDf['c_id'] = motherTokenDf.p_id.apply(lambda x: motherChapParaDict.get(x))\n",
    "motherTokenDf"
   ]
  },
  {
   "cell_type": "code",
   "execution_count": null,
   "metadata": {
    "tags": []
   },
   "outputs": [],
   "source": [
    "motherBOW = motherTokenDf.groupby(['c_id', 'lemma']).lemma.count().to_frame('n')\n",
    "motherDTCM = motherBOW.n.unstack(fill_value=0)\n",
    "\n",
    "motherTF = motherDTCM.T / motherDTCM.T.sum()\n",
    "motherTF = motherTF.transpose()\n",
    "\n",
    "motherDF = motherDTCM.astype('bool').sum()\n",
    "motherN = motherDTCM.shape[0]\n",
    "motherIDF = np.log2(motherN / motherDF)\n",
    "\n",
    "motherTFIDF = motherTF * motherIDF\n",
    "\n",
    "motherRankDf['df'] = motherDF\n",
    "motherRankDf['idf'] = motherIDF\n",
    "\n",
    "motherBOW['tf'] = motherTF.stack()\n",
    "motherBOW['tfidf'] = motherTFIDF.stack()\n",
    "motherBOW.sort_values('tfidf', ascending=False)[:20]"
   ]
  },
  {
   "cell_type": "code",
   "execution_count": null,
   "metadata": {
    "tags": []
   },
   "outputs": [],
   "source": [
    "motherDTCM = motherBOW.n.unstack(fill_value=0)\n",
    "MothermotherTF = motherDTCM.T / motherDTCM.T.sum()\n",
    "motherTF = motherTF.transpose()\n",
    "motherDF = motherDTCM.astype('bool').sum()\n",
    "motherN = motherDTCM.shape[0]\n",
    "motherIDF = np.log2(motherN / motherDF)\n",
    "motherTFIDF = motherTF * motherIDF"
   ]
  },
  {
   "cell_type": "code",
   "execution_count": null,
   "metadata": {
    "tags": []
   },
   "outputs": [],
   "source": [
    "motherRankDf['df'] = motherDF\n",
    "motherRankDf['idf'] = motherIDF"
   ]
  },
  {
   "cell_type": "code",
   "execution_count": null,
   "metadata": {
    "tags": []
   },
   "outputs": [],
   "source": [
    "motherRankDf"
   ]
  },
  {
   "cell_type": "code",
   "execution_count": null,
   "metadata": {
    "tags": []
   },
   "outputs": [],
   "source": [
    "motherBOW['tf'] = motherTF.stack()\n",
    "motherBOW['tfidf'] = motherTFIDF.stack()\n",
    "motherBOW.sort_values('tfidf', ascending=False)[:20]"
   ]
  },
  {
   "cell_type": "code",
   "execution_count": null,
   "metadata": {
    "tags": []
   },
   "outputs": [],
   "source": [
    "IDF = makeDTCM(makeBOW(childhoodTokenDf)).astype('bool').sum()\n",
    "TF = makeBOW(childhoodTokenDf).groupby('p_id').apply(lambda x: x.n / x.n.sum())\n",
    "TFIDF = TF * IDF\n",
    "TFIDF = TFIDF.to_frame()"
   ]
  },
  {
   "cell_type": "code",
   "execution_count": null,
   "metadata": {
    "tags": []
   },
   "outputs": [],
   "source": [
    "TFIDF"
   ]
  },
  {
   "cell_type": "markdown",
   "metadata": {
    "tags": []
   },
   "source": [
    "## Vector Space"
   ]
  },
  {
   "cell_type": "code",
   "execution_count": null,
   "metadata": {
    "tags": []
   },
   "outputs": [],
   "source": [
    "fasttext_model_loc = './models/cc.ru.300.bin'\n",
    "ft = fasttext.load_model(fasttext_model_loc)\n",
    "ft.get_dimension()"
   ]
  },
  {
   "cell_type": "code",
   "execution_count": null,
   "metadata": {
    "tags": []
   },
   "outputs": [],
   "source": [
    "motherModel = fasttext.train_unsupervised('./models/gorkii-1906-mother.txt', model='skipgram')"
   ]
  },
  {
   "cell_type": "markdown",
   "metadata": {},
   "source": [
    "## Primary Component Analysis (PCA)"
   ]
  },
  {
   "cell_type": "code",
   "execution_count": null,
   "metadata": {},
   "outputs": [],
   "source": [
    "from sklearn.decomposition import PCA\n",
    "import plotly_express as px\n",
    "import seaborn as sns\n",
    "\n",
    "sns.set(style='ticks')"
   ]
  },
  {
   "cell_type": "code",
   "execution_count": null,
   "metadata": {
    "tags": []
   },
   "outputs": [],
   "source": [
    "libDf"
   ]
  },
  {
   "cell_type": "code",
   "execution_count": null,
   "metadata": {
    "tags": []
   },
   "outputs": [],
   "source": [
    "motherTokenDf['w_id'] = 6\n",
    "confessionTokenDf['w_id'] = 10\n",
    "tokensDf = pd.concat([confessionTokenDf, motherTokenDf]).set_index('w_id')"
   ]
  },
  {
   "cell_type": "code",
   "execution_count": null,
   "metadata": {
    "tags": []
   },
   "outputs": [],
   "source": [
    "tokensDf"
   ]
  },
  {
   "cell_type": "code",
   "execution_count": null,
   "metadata": {
    "tags": []
   },
   "outputs": [],
   "source": [
    "import sklearn\n",
    "from sklearn.decomposition import PCA\n",
    "pca_engine = PCA(n_components=10)\n",
    "\n",
    "DCM = pd.DataFrame(pca_engine.fit_transform(TFIDF.fillna(0)), index=TFIDF.index)\n",
    "DCM.columns = ['PC{}'.format(i) for i in DCM.columns]\n",
    "DCM = DCM.join(LIB[['author','label']], on='book_id')\n",
    "\n",
    "def vis_pcs(M, a, b, label='author', hover_name='label', symbol=None, size=None):\n",
    "    return px.scatter(M, f\"PC{a}\", f\"PC{b}\", color=label, hover_name=hover_name, \n",
    "                     symbol=symbol, size=size,\n",
    "                     marginal_x='box', height=800)\n",
    "\n",
    "def vis_loadings(a=0, b=1, hover_name='term_str'):\n",
    "    X = LOADINGS.join(VSHORT)\n",
    "    return px.scatter(X.reset_index(), f\"PC{a}\", f\"PC{b}\", \n",
    "                      text='term_str', size='i', color='max_pos_group', \n",
    "                      marginal_x='box', height=800)\n",
    "\n",
    "vis_pcs(DCM, 0, 1)"
   ]
  },
  {
   "cell_type": "code",
   "execution_count": null,
   "metadata": {},
   "outputs": [],
   "source": [
    "pca_engine = PCA(n_components=10)\n",
    "\n",
    "DCM = pd.DataFrame(pca_engine.fit_transform(TFIDF.fillna(0)), index=TFIDF.index)\n",
    "DCM.columns = ['PC{}'.format(i) for i in DCM.columns]\n",
    "DCM = DCM.join(LIB[['author','label']], on='book_id')\n",
    "\n",
    "def vis_pcs(M, a, b, label='author', hover_name='label', symbol=None, size=None):\n",
    "    return px.scatter(M, f\"PC{a}\", f\"PC{b}\", color=label, hover_name=hover_name, \n",
    "                     symbol=symbol, size=size,\n",
    "                     marginal_x='box', height=800)\n",
    "\n",
    "def vis_loadings(a=0, b=1, hover_name='term_str'):\n",
    "    X = LOADINGS.join(VSHORT)\n",
    "    return px.scatter(X.reset_index(), f\"PC{a}\", f\"PC{b}\", \n",
    "                      text='term_str', size='i', color='max_pos_group', \n",
    "                      marginal_x='box', height=800)"
   ]
  },
  {
   "cell_type": "code",
   "execution_count": null,
   "metadata": {},
   "outputs": [],
   "source": [
    "from navec import Navec\n",
    "\n",
    "navec_model_loc = './models/navec_hudlit_v1_12B_500K_300d_100q.tar'\n",
    "navec = Navec.load(path)"
   ]
  },
  {
   "cell_type": "code",
   "execution_count": null,
   "metadata": {},
   "outputs": [],
   "source": [
    "import torch\n",
    "from slovnet.model.emb import NavecEmbedding"
   ]
  },
  {
   "cell_type": "code",
   "execution_count": null,
   "metadata": {},
   "outputs": [],
   "source": [
    "emb = NavecEmbedding(navec)\n",
    "input = torch.tensor([1, 2, 0])\n",
    "output = emb(input)"
   ]
  },
  {
   "cell_type": "code",
   "execution_count": null,
   "metadata": {},
   "outputs": [],
   "source": [
    "output.shape"
   ]
  },
  {
   "cell_type": "code",
   "execution_count": null,
   "metadata": {},
   "outputs": [],
   "source": [
    "def vectorize_text(text, embeddings):\n",
    "    # Simple tokenization based on spaces (for demonstration purposes)\n",
    "    tokens = text.split()\n",
    "    \n",
    "    # Initialize an empty tensor for storing embeddings\n",
    "    vector = torch.zeros(embeddings.dim)\n",
    "    \n",
    "    for token in tokens:\n",
    "        # Add the embeddings of each token; you might want to handle OOV (out-of-vocabulary) tokens\n",
    "        vector += embeddings.get_vecs_by_tokens(token.lower(), lower_case_backup=True)\n",
    "    \n",
    "    # Average the vectors (simple approach)\n",
    "    return vector / len(tokens)"
   ]
  },
  {
   "cell_type": "code",
   "execution_count": null,
   "metadata": {},
   "outputs": [],
   "source": [
    "data = {'text': ['Hello world', 'PyTorch vectorization example', 'Text vectorization with PyTorch']}\n",
    "df = pd.DataFrame(data)"
   ]
  },
  {
   "cell_type": "code",
   "execution_count": null,
   "metadata": {},
   "outputs": [],
   "source": [
    "# Loading GloVe embeddings\n",
    "glove = GloVe(name='6B', dim=100)  # Example: 100-dimensional GloVe vectors\n"
   ]
  },
  {
   "cell_type": "code",
   "execution_count": null,
   "metadata": {},
   "outputs": [],
   "source": [
    "# Apply vectorization to each row in the DataFrame\n",
    "df['vector'] = df['text'].apply(lambda x: vectorize_text(x, glove))"
   ]
  }
 ],
 "metadata": {
  "kernelspec": {
   "display_name": "Python 3 (ipykernel)",
   "language": "python",
   "name": "python3"
  },
  "language_info": {
   "codemirror_mode": {
    "name": "ipython",
    "version": 3
   },
   "file_extension": ".py",
   "mimetype": "text/x-python",
   "name": "python",
   "nbconvert_exporter": "python",
   "pygments_lexer": "ipython3",
   "version": "3.10.13"
  }
 },
 "nbformat": 4,
 "nbformat_minor": 4
}
