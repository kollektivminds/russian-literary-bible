{
 "cells": [
  {
   "cell_type": "markdown",
   "metadata": {
    "tags": []
   },
   "source": [
    "# Primary Text Processing"
   ]
  },
  {
   "cell_type": "markdown",
   "metadata": {},
   "source": [
    "## Summary"
   ]
  },
  {
   "cell_type": "code",
   "execution_count": 1,
   "metadata": {},
   "outputs": [],
   "source": [
    "# Code summary of below"
   ]
  },
  {
   "cell_type": "code",
   "execution_count": 2,
   "metadata": {},
   "outputs": [
    {
     "name": "stdout",
     "output_type": "stream",
     "text": [
      "Python 3.10.13\n"
     ]
    }
   ],
   "source": [
    "!python --version"
   ]
  },
  {
   "cell_type": "markdown",
   "metadata": {},
   "source": [
    "## Import"
   ]
  },
  {
   "cell_type": "markdown",
   "metadata": {},
   "source": [
    "### Libraries"
   ]
  },
  {
   "cell_type": "code",
   "execution_count": 3,
   "metadata": {
    "editable": true,
    "slideshow": {
     "slide_type": ""
    },
    "tags": []
   },
   "outputs": [],
   "source": [
    "import os \n",
    "import codecs\n",
    "\n",
    "from backend import *"
   ]
  },
  {
   "cell_type": "markdown",
   "metadata": {},
   "source": [
    "### Definitions"
   ]
  },
  {
   "cell_type": "code",
   "execution_count": 4,
   "metadata": {},
   "outputs": [],
   "source": [
    "texts = '../texts/fiction/'\n",
    "\n",
    "libCols = ['author','pub_year','title','text']\n",
    "tokenOHCO = ['w_id','part_num','para_num', 'sent_num', 'token_num']\n",
    "tokenCols = ['p_id', 'start', 'stop', 'text', 'token_id', 'head_id', 'rel', 'pos', 'lemma', 'anim', 'aspect', \\\n",
    "             'case', 'degree', 'gender', 'mood', 'number', 'person', 'tense', 'verb_form', 'voice']"
   ]
  },
  {
   "cell_type": "markdown",
   "metadata": {},
   "source": [
    "## Library"
   ]
  },
  {
   "cell_type": "code",
   "execution_count": 6,
   "metadata": {},
   "outputs": [
    {
     "ename": "AttributeError",
     "evalue": "'DataFrame' object has no attribute 'concat'",
     "output_type": "error",
     "traceback": [
      "\u001b[0;31m---------------------------------------------------------------------------\u001b[0m",
      "\u001b[0;31mAttributeError\u001b[0m                            Traceback (most recent call last)",
      "\u001b[0;32m/tmp/ipykernel_18679/577766791.py\u001b[0m in \u001b[0;36m?\u001b[0;34m()\u001b[0m\n\u001b[1;32m      4\u001b[0m         \u001b[0;31m#print(t)\u001b[0m\u001b[0;34m\u001b[0m\u001b[0;34m\u001b[0m\u001b[0m\n\u001b[1;32m      5\u001b[0m         \u001b[0minfo\u001b[0m \u001b[0;34m=\u001b[0m \u001b[0mre\u001b[0m\u001b[0;34m.\u001b[0m\u001b[0mmatch\u001b[0m\u001b[0;34m(\u001b[0m\u001b[0;34mr'(\\w+)-(\\d{4})-(.+).txt'\u001b[0m\u001b[0;34m,\u001b[0m \u001b[0mt\u001b[0m\u001b[0;34m)\u001b[0m\u001b[0;34m\u001b[0m\u001b[0;34m\u001b[0m\u001b[0m\n\u001b[1;32m      6\u001b[0m         \u001b[0;32mwith\u001b[0m \u001b[0mcodecs\u001b[0m\u001b[0;34m.\u001b[0m\u001b[0mopen\u001b[0m\u001b[0;34m(\u001b[0m\u001b[0mtexts\u001b[0m\u001b[0;34m+\u001b[0m\u001b[0mt\u001b[0m\u001b[0;34m,\u001b[0m \u001b[0;34m'r'\u001b[0m\u001b[0;34m,\u001b[0m \u001b[0mencoding\u001b[0m\u001b[0;34m=\u001b[0m\u001b[0;34m'windows-1251'\u001b[0m\u001b[0;34m)\u001b[0m \u001b[0;32mas\u001b[0m \u001b[0mf\u001b[0m\u001b[0;34m:\u001b[0m\u001b[0;34m\u001b[0m\u001b[0;34m\u001b[0m\u001b[0m\n\u001b[1;32m      7\u001b[0m             \u001b[0mtextytext\u001b[0m \u001b[0;34m=\u001b[0m \u001b[0mf\u001b[0m\u001b[0;34m.\u001b[0m\u001b[0mread\u001b[0m\u001b[0;34m(\u001b[0m\u001b[0;34m)\u001b[0m\u001b[0;34m\u001b[0m\u001b[0;34m\u001b[0m\u001b[0m\n\u001b[0;32m----> 8\u001b[0;31m         libDf = libDf.concat({\n\u001b[0m\u001b[1;32m      9\u001b[0m             \u001b[0;34m'author'\u001b[0m\u001b[0;34m:\u001b[0m \u001b[0minfo\u001b[0m\u001b[0;34m.\u001b[0m\u001b[0mgroup\u001b[0m\u001b[0;34m(\u001b[0m\u001b[0;36m1\u001b[0m\u001b[0;34m)\u001b[0m\u001b[0;34m,\u001b[0m\u001b[0;34m\u001b[0m\u001b[0;34m\u001b[0m\u001b[0m\n\u001b[1;32m     10\u001b[0m             \u001b[0;34m'pub_year'\u001b[0m\u001b[0;34m:\u001b[0m \u001b[0mint\u001b[0m\u001b[0;34m(\u001b[0m\u001b[0minfo\u001b[0m\u001b[0;34m.\u001b[0m\u001b[0mgroup\u001b[0m\u001b[0;34m(\u001b[0m\u001b[0;36m2\u001b[0m\u001b[0;34m)\u001b[0m\u001b[0;34m)\u001b[0m\u001b[0;34m,\u001b[0m\u001b[0;34m\u001b[0m\u001b[0;34m\u001b[0m\u001b[0m\n\u001b[1;32m     11\u001b[0m             \u001b[0;34m'title'\u001b[0m\u001b[0;34m:\u001b[0m \u001b[0minfo\u001b[0m\u001b[0;34m.\u001b[0m\u001b[0mgroup\u001b[0m\u001b[0;34m(\u001b[0m\u001b[0;36m3\u001b[0m\u001b[0;34m)\u001b[0m\u001b[0;34m,\u001b[0m\u001b[0;34m\u001b[0m\u001b[0;34m\u001b[0m\u001b[0m\n",
      "\u001b[0;32m~/miniconda3/envs/diss/lib/python3.10/site-packages/pandas/core/generic.py\u001b[0m in \u001b[0;36m?\u001b[0;34m(self, name)\u001b[0m\n\u001b[1;32m   6292\u001b[0m             \u001b[0;32mand\u001b[0m \u001b[0mname\u001b[0m \u001b[0;32mnot\u001b[0m \u001b[0;32min\u001b[0m \u001b[0mself\u001b[0m\u001b[0;34m.\u001b[0m\u001b[0m_accessors\u001b[0m\u001b[0;34m\u001b[0m\u001b[0;34m\u001b[0m\u001b[0m\n\u001b[1;32m   6293\u001b[0m             \u001b[0;32mand\u001b[0m \u001b[0mself\u001b[0m\u001b[0;34m.\u001b[0m\u001b[0m_info_axis\u001b[0m\u001b[0;34m.\u001b[0m\u001b[0m_can_hold_identifiers_and_holds_name\u001b[0m\u001b[0;34m(\u001b[0m\u001b[0mname\u001b[0m\u001b[0;34m)\u001b[0m\u001b[0;34m\u001b[0m\u001b[0;34m\u001b[0m\u001b[0m\n\u001b[1;32m   6294\u001b[0m         ):\n\u001b[1;32m   6295\u001b[0m             \u001b[0;32mreturn\u001b[0m \u001b[0mself\u001b[0m\u001b[0;34m[\u001b[0m\u001b[0mname\u001b[0m\u001b[0;34m]\u001b[0m\u001b[0;34m\u001b[0m\u001b[0;34m\u001b[0m\u001b[0m\n\u001b[0;32m-> 6296\u001b[0;31m         \u001b[0;32mreturn\u001b[0m \u001b[0mobject\u001b[0m\u001b[0;34m.\u001b[0m\u001b[0m__getattribute__\u001b[0m\u001b[0;34m(\u001b[0m\u001b[0mself\u001b[0m\u001b[0;34m,\u001b[0m \u001b[0mname\u001b[0m\u001b[0;34m)\u001b[0m\u001b[0;34m\u001b[0m\u001b[0;34m\u001b[0m\u001b[0m\n\u001b[0m",
      "\u001b[0;31mAttributeError\u001b[0m: 'DataFrame' object has no attribute 'concat'"
     ]
    }
   ],
   "source": [
    "libDf = pd.DataFrame(columns = libCols)\n",
    "for t in os.listdir(texts): \n",
    "    if t[-4:] == '.txt': \n",
    "        #print(t)\n",
    "        info = re.match(r'(\\w+)-(\\d{4})-(.+).txt', t)\n",
    "        with codecs.open(texts+t, 'r', encoding='windows-1251') as f: \n",
    "            textytext = f.read()\n",
    "        libDf = libDf.concat({\n",
    "            'author': info.group(1),\n",
    "            'pub_year': int(info.group(2)), \n",
    "            'title': info.group(3), \n",
    "            'text': textytext\n",
    "        }, ignore_index=True)\n",
    "        \n",
    "libDf = libDf.sort_values(libCols[1:3]).reset_index().drop(['index'], axis=1)\n",
    "libDf.index.name = 'w_id'\n",
    "libTextsDf = libDf[[libCols[3]]]\n",
    "libDf = libDf.drop(columns=[libCols[3]])\n",
    "libDf"
   ]
  },
  {
   "cell_type": "code",
   "execution_count": null,
   "metadata": {},
   "outputs": [],
   "source": [
    "libTextsDf"
   ]
  },
  {
   "cell_type": "markdown",
   "metadata": {},
   "source": [
    "### Regularize"
   ]
  },
  {
   "cell_type": "code",
   "execution_count": null,
   "metadata": {},
   "outputs": [],
   "source": [
    "confessionDf = textRegularize(libTextsDf, 10)\n",
    "#confessionDf"
   ]
  },
  {
   "cell_type": "code",
   "execution_count": null,
   "metadata": {},
   "outputs": [],
   "source": [
    "dpDf = textRegularize(libTextsDf, 14)\n",
    "#dpDf"
   ]
  },
  {
   "cell_type": "code",
   "execution_count": null,
   "metadata": {},
   "outputs": [],
   "source": [
    "motherTextDf = textRegularize(libTextsDf, 6)\n",
    "#motherTextDf"
   ]
  },
  {
   "cell_type": "code",
   "execution_count": null,
   "metadata": {},
   "outputs": [],
   "source": [
    "# split into chapters\n",
    "detstvoTextDf = libTextsDf.loc[[22]]\n",
    "detstvoTextDf = pd.DataFrame(data=detstvoTextDf.text.str.split(r'\\*\\w+\\*\\n\\n').to_list()[0]).reset_index()\n",
    "detstvoTextDf = detstvoTextDf.rename(columns={'index':'chap', 0:'text'})[1:]\n",
    "detstvoTextDf = detstvoTextDf.text.str.split('\\n\\n', expand=True).stack().to_frame()\n",
    "#detstvoTextDf"
   ]
  },
  {
   "cell_type": "markdown",
   "metadata": {},
   "source": [
    "## Words"
   ]
  },
  {
   "cell_type": "markdown",
   "metadata": {},
   "source": [
    "### Tokens"
   ]
  },
  {
   "cell_type": "raw",
   "metadata": {
    "collapsed": true,
    "jupyter": {
     "outputs_hidden": true
    },
    "tags": []
   },
   "source": [
    "motherTokenDf = nat_parse(motherXmlDf.set_index('paraID')[['text']])"
   ]
  },
  {
   "cell_type": "code",
   "execution_count": 7,
   "metadata": {},
   "outputs": [],
   "source": [
    "motherTokenDf = pd.read_pickle('./proc/MotherTokendf.pkl')#.set_index(['p_id','token_id'])"
   ]
  },
  {
   "cell_type": "code",
   "execution_count": 8,
   "metadata": {
    "tags": []
   },
   "outputs": [
    {
     "data": {
      "text/html": [
       "<div>\n",
       "<style scoped>\n",
       "    .dataframe tbody tr th:only-of-type {\n",
       "        vertical-align: middle;\n",
       "    }\n",
       "\n",
       "    .dataframe tbody tr th {\n",
       "        vertical-align: top;\n",
       "    }\n",
       "\n",
       "    .dataframe thead th {\n",
       "        text-align: right;\n",
       "    }\n",
       "</style>\n",
       "<table border=\"1\" class=\"dataframe\">\n",
       "  <thead>\n",
       "    <tr style=\"text-align: right;\">\n",
       "      <th></th>\n",
       "      <th></th>\n",
       "      <th>start</th>\n",
       "      <th>stop</th>\n",
       "      <th>text</th>\n",
       "      <th>head_id</th>\n",
       "      <th>rel</th>\n",
       "      <th>pos</th>\n",
       "      <th>lemma</th>\n",
       "      <th>anim</th>\n",
       "      <th>aspect</th>\n",
       "      <th>case</th>\n",
       "      <th>degree</th>\n",
       "      <th>gender</th>\n",
       "      <th>mood</th>\n",
       "      <th>number</th>\n",
       "      <th>person</th>\n",
       "      <th>tense</th>\n",
       "      <th>verb_form</th>\n",
       "      <th>voice</th>\n",
       "    </tr>\n",
       "    <tr>\n",
       "      <th>p_id</th>\n",
       "      <th>token_id</th>\n",
       "      <th></th>\n",
       "      <th></th>\n",
       "      <th></th>\n",
       "      <th></th>\n",
       "      <th></th>\n",
       "      <th></th>\n",
       "      <th></th>\n",
       "      <th></th>\n",
       "      <th></th>\n",
       "      <th></th>\n",
       "      <th></th>\n",
       "      <th></th>\n",
       "      <th></th>\n",
       "      <th></th>\n",
       "      <th></th>\n",
       "      <th></th>\n",
       "      <th></th>\n",
       "      <th></th>\n",
       "    </tr>\n",
       "  </thead>\n",
       "  <tbody>\n",
       "    <tr>\n",
       "      <th rowspan=\"5\" valign=\"top\">1</th>\n",
       "      <th>1_1</th>\n",
       "      <td>0</td>\n",
       "      <td>6</td>\n",
       "      <td>Каждый</td>\n",
       "      <td>1_2</td>\n",
       "      <td>det</td>\n",
       "      <td>DET</td>\n",
       "      <td>каждый</td>\n",
       "      <td>None</td>\n",
       "      <td>None</td>\n",
       "      <td>Acc</td>\n",
       "      <td>None</td>\n",
       "      <td>Masc</td>\n",
       "      <td>None</td>\n",
       "      <td>Sing</td>\n",
       "      <td>None</td>\n",
       "      <td>None</td>\n",
       "      <td>None</td>\n",
       "      <td>None</td>\n",
       "    </tr>\n",
       "    <tr>\n",
       "      <th>1_2</th>\n",
       "      <td>7</td>\n",
       "      <td>11</td>\n",
       "      <td>день</td>\n",
       "      <td>1_27</td>\n",
       "      <td>obl</td>\n",
       "      <td>NOUN</td>\n",
       "      <td>день</td>\n",
       "      <td>Inan</td>\n",
       "      <td>None</td>\n",
       "      <td>Acc</td>\n",
       "      <td>None</td>\n",
       "      <td>Masc</td>\n",
       "      <td>None</td>\n",
       "      <td>Sing</td>\n",
       "      <td>None</td>\n",
       "      <td>None</td>\n",
       "      <td>None</td>\n",
       "      <td>None</td>\n",
       "    </tr>\n",
       "    <tr>\n",
       "      <th>1_3</th>\n",
       "      <td>12</td>\n",
       "      <td>15</td>\n",
       "      <td>над</td>\n",
       "      <td>1_5</td>\n",
       "      <td>case</td>\n",
       "      <td>ADP</td>\n",
       "      <td>над</td>\n",
       "      <td>None</td>\n",
       "      <td>None</td>\n",
       "      <td>None</td>\n",
       "      <td>None</td>\n",
       "      <td>None</td>\n",
       "      <td>None</td>\n",
       "      <td>None</td>\n",
       "      <td>None</td>\n",
       "      <td>None</td>\n",
       "      <td>None</td>\n",
       "      <td>None</td>\n",
       "    </tr>\n",
       "    <tr>\n",
       "      <th>1_4</th>\n",
       "      <td>16</td>\n",
       "      <td>23</td>\n",
       "      <td>рабочей</td>\n",
       "      <td>1_5</td>\n",
       "      <td>amod</td>\n",
       "      <td>ADJ</td>\n",
       "      <td>рабочий</td>\n",
       "      <td>None</td>\n",
       "      <td>None</td>\n",
       "      <td>Ins</td>\n",
       "      <td>Pos</td>\n",
       "      <td>Fem</td>\n",
       "      <td>None</td>\n",
       "      <td>Sing</td>\n",
       "      <td>None</td>\n",
       "      <td>None</td>\n",
       "      <td>None</td>\n",
       "      <td>None</td>\n",
       "    </tr>\n",
       "    <tr>\n",
       "      <th>1_5</th>\n",
       "      <td>24</td>\n",
       "      <td>33</td>\n",
       "      <td>слободкой</td>\n",
       "      <td>1_27</td>\n",
       "      <td>obl</td>\n",
       "      <td>NOUN</td>\n",
       "      <td>слободка</td>\n",
       "      <td>Inan</td>\n",
       "      <td>None</td>\n",
       "      <td>Ins</td>\n",
       "      <td>None</td>\n",
       "      <td>Fem</td>\n",
       "      <td>None</td>\n",
       "      <td>Sing</td>\n",
       "      <td>None</td>\n",
       "      <td>None</td>\n",
       "      <td>None</td>\n",
       "      <td>None</td>\n",
       "    </tr>\n",
       "    <tr>\n",
       "      <th>...</th>\n",
       "      <th>...</th>\n",
       "      <td>...</td>\n",
       "      <td>...</td>\n",
       "      <td>...</td>\n",
       "      <td>...</td>\n",
       "      <td>...</td>\n",
       "      <td>...</td>\n",
       "      <td>...</td>\n",
       "      <td>...</td>\n",
       "      <td>...</td>\n",
       "      <td>...</td>\n",
       "      <td>...</td>\n",
       "      <td>...</td>\n",
       "      <td>...</td>\n",
       "      <td>...</td>\n",
       "      <td>...</td>\n",
       "      <td>...</td>\n",
       "      <td>...</td>\n",
       "      <td>...</td>\n",
       "    </tr>\n",
       "    <tr>\n",
       "      <th rowspan=\"5\" valign=\"top\">4436</th>\n",
       "      <th>1_1</th>\n",
       "      <td>0</td>\n",
       "      <td>6</td>\n",
       "      <td>Кто-то</td>\n",
       "      <td>1_2</td>\n",
       "      <td>nsubj</td>\n",
       "      <td>PRON</td>\n",
       "      <td>кто-то</td>\n",
       "      <td>None</td>\n",
       "      <td>None</td>\n",
       "      <td>Nom</td>\n",
       "      <td>None</td>\n",
       "      <td>None</td>\n",
       "      <td>None</td>\n",
       "      <td>None</td>\n",
       "      <td>None</td>\n",
       "      <td>None</td>\n",
       "      <td>None</td>\n",
       "      <td>None</td>\n",
       "    </tr>\n",
       "    <tr>\n",
       "      <th>1_2</th>\n",
       "      <td>7</td>\n",
       "      <td>14</td>\n",
       "      <td>ответил</td>\n",
       "      <td>1_0</td>\n",
       "      <td>root</td>\n",
       "      <td>VERB</td>\n",
       "      <td>ответить</td>\n",
       "      <td>None</td>\n",
       "      <td>Perf</td>\n",
       "      <td>None</td>\n",
       "      <td>None</td>\n",
       "      <td>Masc</td>\n",
       "      <td>Ind</td>\n",
       "      <td>Sing</td>\n",
       "      <td>None</td>\n",
       "      <td>Past</td>\n",
       "      <td>Fin</td>\n",
       "      <td>Act</td>\n",
       "    </tr>\n",
       "    <tr>\n",
       "      <th>1_3</th>\n",
       "      <td>15</td>\n",
       "      <td>17</td>\n",
       "      <td>ей</td>\n",
       "      <td>1_2</td>\n",
       "      <td>iobj</td>\n",
       "      <td>PRON</td>\n",
       "      <td>она</td>\n",
       "      <td>None</td>\n",
       "      <td>None</td>\n",
       "      <td>Dat</td>\n",
       "      <td>None</td>\n",
       "      <td>Fem</td>\n",
       "      <td>None</td>\n",
       "      <td>Sing</td>\n",
       "      <td>3</td>\n",
       "      <td>None</td>\n",
       "      <td>None</td>\n",
       "      <td>None</td>\n",
       "    </tr>\n",
       "    <tr>\n",
       "      <th>1_4</th>\n",
       "      <td>18</td>\n",
       "      <td>25</td>\n",
       "      <td>громким</td>\n",
       "      <td>1_5</td>\n",
       "      <td>amod</td>\n",
       "      <td>ADJ</td>\n",
       "      <td>громкий</td>\n",
       "      <td>None</td>\n",
       "      <td>None</td>\n",
       "      <td>Dat</td>\n",
       "      <td>Pos</td>\n",
       "      <td>None</td>\n",
       "      <td>None</td>\n",
       "      <td>Plur</td>\n",
       "      <td>None</td>\n",
       "      <td>None</td>\n",
       "      <td>None</td>\n",
       "      <td>None</td>\n",
       "    </tr>\n",
       "    <tr>\n",
       "      <th>1_5</th>\n",
       "      <td>26</td>\n",
       "      <td>34</td>\n",
       "      <td>рыданием</td>\n",
       "      <td>1_2</td>\n",
       "      <td>obl</td>\n",
       "      <td>NOUN</td>\n",
       "      <td>рыдание</td>\n",
       "      <td>Anim</td>\n",
       "      <td>None</td>\n",
       "      <td>Dat</td>\n",
       "      <td>None</td>\n",
       "      <td>Masc</td>\n",
       "      <td>None</td>\n",
       "      <td>Plur</td>\n",
       "      <td>None</td>\n",
       "      <td>None</td>\n",
       "      <td>None</td>\n",
       "      <td>None</td>\n",
       "    </tr>\n",
       "  </tbody>\n",
       "</table>\n",
       "<p>81373 rows × 18 columns</p>\n",
       "</div>"
      ],
      "text/plain": [
       "              start stop       text head_id    rel   pos     lemma  anim  \\\n",
       "p_id token_id                                                              \n",
       "1    1_1          0    6     Каждый     1_2    det   DET    каждый  None   \n",
       "     1_2          7   11       день    1_27    obl  NOUN      день  Inan   \n",
       "     1_3         12   15        над     1_5   case   ADP       над  None   \n",
       "     1_4         16   23    рабочей     1_5   amod   ADJ   рабочий  None   \n",
       "     1_5         24   33  слободкой    1_27    obl  NOUN  слободка  Inan   \n",
       "...             ...  ...        ...     ...    ...   ...       ...   ...   \n",
       "4436 1_1          0    6     Кто-то     1_2  nsubj  PRON    кто-то  None   \n",
       "     1_2          7   14    ответил     1_0   root  VERB  ответить  None   \n",
       "     1_3         15   17         ей     1_2   iobj  PRON       она  None   \n",
       "     1_4         18   25    громким     1_5   amod   ADJ   громкий  None   \n",
       "     1_5         26   34   рыданием     1_2    obl  NOUN   рыдание  Anim   \n",
       "\n",
       "              aspect  case degree gender  mood number person tense verb_form  \\\n",
       "p_id token_id                                                                  \n",
       "1    1_1        None   Acc   None   Masc  None   Sing   None  None      None   \n",
       "     1_2        None   Acc   None   Masc  None   Sing   None  None      None   \n",
       "     1_3        None  None   None   None  None   None   None  None      None   \n",
       "     1_4        None   Ins    Pos    Fem  None   Sing   None  None      None   \n",
       "     1_5        None   Ins   None    Fem  None   Sing   None  None      None   \n",
       "...              ...   ...    ...    ...   ...    ...    ...   ...       ...   \n",
       "4436 1_1        None   Nom   None   None  None   None   None  None      None   \n",
       "     1_2        Perf  None   None   Masc   Ind   Sing   None  Past       Fin   \n",
       "     1_3        None   Dat   None    Fem  None   Sing      3  None      None   \n",
       "     1_4        None   Dat    Pos   None  None   Plur   None  None      None   \n",
       "     1_5        None   Dat   None   Masc  None   Plur   None  None      None   \n",
       "\n",
       "              voice  \n",
       "p_id token_id        \n",
       "1    1_1       None  \n",
       "     1_2       None  \n",
       "     1_3       None  \n",
       "     1_4       None  \n",
       "     1_5       None  \n",
       "...             ...  \n",
       "4436 1_1       None  \n",
       "     1_2        Act  \n",
       "     1_3       None  \n",
       "     1_4       None  \n",
       "     1_5       None  \n",
       "\n",
       "[81373 rows x 18 columns]"
      ]
     },
     "execution_count": 8,
     "metadata": {},
     "output_type": "execute_result"
    }
   ],
   "source": [
    "motherTokenDf.set_index(['p_id','token_id'])"
   ]
  },
  {
   "cell_type": "raw",
   "metadata": {
    "jupyter": {
     "source_hidden": true
    },
    "tags": []
   },
   "source": [
    "from IPython.core.display import display, HTML\n",
    "\n",
    "def display_side_by_side(dfs:list, captions:list, tablespacing=5):\n",
    "    \"\"\"Display tables side by side to save vertical space\n",
    "    Input:\n",
    "        dfs: list of pandas.DataFrame\n",
    "        captions: list of table captions\n",
    "    \"\"\"\n",
    "    output = \"\"\n",
    "    for (caption, df) in zip(captions, dfs):\n",
    "        output += df.style.set_table_attributes(\"style='display:inline'\").set_caption(caption)._repr_html_()\n",
    "        output += tablespacing * \"\\xa0\"\n",
    "    display(HTML(output))"
   ]
  },
  {
   "cell_type": "raw",
   "metadata": {
    "jupyter": {
     "source_hidden": true
    }
   },
   "source": [
    "df1 = motherTokenDf.rel.value_counts().to_frame()\n",
    "df2 = motherTokenDf.anim.value_counts().to_frame()\n",
    "df3 = motherTokenDf.aspect.value_counts().to_frame()\n",
    "df4 = motherTokenDf.case.value_counts().to_frame()\n",
    "df5 = motherTokenDf.degree.value_counts().to_frame()\n",
    "df6 = motherTokenDf.gender.value_counts().to_frame()\n",
    "df7 = motherTokenDf.mood.value_counts().to_frame()\n",
    "df8 = motherTokenDf.number.value_counts().to_frame()\n",
    "df9 = motherTokenDf.person.value_counts().to_frame()\n",
    "df10 = motherTokenDf.tense.value_counts().to_frame()\n",
    "df11 = motherTokenDf.verb_form.value_counts().to_frame()\n",
    "df12 = motherTokenDf.voice.value_counts().to_frame()\n",
    "\n",
    "display_side_by_side([df1, df2, df3, df4, df5, df6, df7, df8, df9, df10, df11, df12], ['rel', 'anim', 'aspect', 'case', 'degree', 'gender', 'mood', 'number', 'person', 'tense', 'verb form', 'voice'])"
   ]
  },
  {
   "cell_type": "raw",
   "metadata": {
    "jupyter": {
     "source_hidden": true
    }
   },
   "source": [
    "from ipywidgets import widgets, Layout\n",
    "from IPython import display\n",
    "\n",
    "# sample data\n",
    "df1 = pd.DataFrame(np.random.randn(8, 3))\n",
    "df2 = pd.DataFrame(np.random.randn(8, 3))\n",
    "\n",
    "# create output widgets\n",
    "widget1 = widgets.Output()\n",
    "widget2 = widgets.Output()\n",
    "\n",
    "# render in output widgets\n",
    "with widget1:\n",
    "    display.display(df1.style.set_caption('First dataframe'))\n",
    "    df1.info()\n",
    "with widget2:\n",
    "    display.display(df2.style.set_caption('Second dataframe'))\n",
    "    df1.info()\n",
    "\n",
    "\n",
    "# add some CSS styles to distribute free space\n",
    "box_layout = Layout(display='flex',\n",
    "                    flex_flow='row',\n",
    "                    justify_content='space-around',\n",
    "                    width='auto'\n",
    "                   )\n",
    "    \n",
    "# create Horisontal Box container\n",
    "hbox = widgets.HBox([widget1, widget2], layout=box_layout)\n",
    "\n",
    "# render hbox\n",
    "hbox"
   ]
  },
  {
   "cell_type": "markdown",
   "metadata": {},
   "source": [
    "### Vocab"
   ]
  },
  {
   "cell_type": "code",
   "execution_count": 9,
   "metadata": {},
   "outputs": [
    {
     "data": {
      "text/html": [
       "<div>\n",
       "<style scoped>\n",
       "    .dataframe tbody tr th:only-of-type {\n",
       "        vertical-align: middle;\n",
       "    }\n",
       "\n",
       "    .dataframe tbody tr th {\n",
       "        vertical-align: top;\n",
       "    }\n",
       "\n",
       "    .dataframe thead th {\n",
       "        text-align: right;\n",
       "    }\n",
       "</style>\n",
       "<table border=\"1\" class=\"dataframe\">\n",
       "  <thead>\n",
       "    <tr style=\"text-align: right;\">\n",
       "      <th></th>\n",
       "      <th>count</th>\n",
       "      <th>rank</th>\n",
       "    </tr>\n",
       "    <tr>\n",
       "      <th>lemma</th>\n",
       "      <th></th>\n",
       "      <th></th>\n",
       "    </tr>\n",
       "  </thead>\n",
       "  <tbody>\n",
       "    <tr>\n",
       "      <th>она</th>\n",
       "      <td>1997</td>\n",
       "      <td>1</td>\n",
       "    </tr>\n",
       "    <tr>\n",
       "      <th>он</th>\n",
       "      <td>1813</td>\n",
       "      <td>2</td>\n",
       "    </tr>\n",
       "    <tr>\n",
       "      <th>я</th>\n",
       "      <td>1120</td>\n",
       "      <td>3</td>\n",
       "    </tr>\n",
       "    <tr>\n",
       "      <th>мать</th>\n",
       "      <td>899</td>\n",
       "      <td>4</td>\n",
       "    </tr>\n",
       "    <tr>\n",
       "      <th>весь</th>\n",
       "      <td>807</td>\n",
       "      <td>5</td>\n",
       "    </tr>\n",
       "    <tr>\n",
       "      <th>...</th>\n",
       "      <td>...</td>\n",
       "      <td>...</td>\n",
       "    </tr>\n",
       "    <tr>\n",
       "      <th>прибавиться</th>\n",
       "      <td>1</td>\n",
       "      <td>11873</td>\n",
       "    </tr>\n",
       "    <tr>\n",
       "      <th>имущество</th>\n",
       "      <td>1</td>\n",
       "      <td>11874</td>\n",
       "    </tr>\n",
       "    <tr>\n",
       "      <th>еевнимательный</th>\n",
       "      <td>1</td>\n",
       "      <td>11875</td>\n",
       "    </tr>\n",
       "    <tr>\n",
       "      <th>пестрядинный</th>\n",
       "      <td>1</td>\n",
       "      <td>11876</td>\n",
       "    </tr>\n",
       "    <tr>\n",
       "      <th>накопите</th>\n",
       "      <td>1</td>\n",
       "      <td>11877</td>\n",
       "    </tr>\n",
       "  </tbody>\n",
       "</table>\n",
       "<p>11877 rows × 2 columns</p>\n",
       "</div>"
      ],
      "text/plain": [
       "                count   rank\n",
       "lemma                       \n",
       "она              1997      1\n",
       "он               1813      2\n",
       "я                1120      3\n",
       "мать              899      4\n",
       "весь              807      5\n",
       "...               ...    ...\n",
       "прибавиться         1  11873\n",
       "имущество           1  11874\n",
       "еевнимательный      1  11875\n",
       "пестрядинный        1  11876\n",
       "накопите            1  11877\n",
       "\n",
       "[11877 rows x 2 columns]"
      ]
     },
     "execution_count": 9,
     "metadata": {},
     "output_type": "execute_result"
    }
   ],
   "source": [
    "motherRankDf = GetRankDf(motherTokenDf)\n",
    "motherRankDf"
   ]
  },
  {
   "cell_type": "markdown",
   "metadata": {},
   "source": [
    "## Vector Space"
   ]
  },
  {
   "cell_type": "code",
   "execution_count": 14,
   "metadata": {},
   "outputs": [],
   "source": [
    "import fasttext"
   ]
  },
  {
   "cell_type": "markdown",
   "metadata": {},
   "source": [
    "### BOW"
   ]
  },
  {
   "cell_type": "code",
   "execution_count": null,
   "metadata": {},
   "outputs": [],
   "source": [
    "motherBOW = motherTokenDf.groupby(['p_id', 'lemma']).lemma.count().to_frame('n')"
   ]
  },
  {
   "cell_type": "code",
   "execution_count": null,
   "metadata": {},
   "outputs": [],
   "source": [
    "motherBOW"
   ]
  },
  {
   "cell_type": "code",
   "execution_count": null,
   "metadata": {},
   "outputs": [],
   "source": [
    "motherDTCM = motherBOW.n.unstack(fill_value=0)\n",
    "motherDTCM"
   ]
  },
  {
   "cell_type": "markdown",
   "metadata": {},
   "source": [
    "### TFIDF"
   ]
  },
  {
   "cell_type": "markdown",
   "metadata": {},
   "source": [
    "### TTM"
   ]
  },
  {
   "cell_type": "code",
   "execution_count": null,
   "metadata": {},
   "outputs": [],
   "source": [
    "TTM = pd.get_dummies(motherTokenDf['lemma'], columns=['lemma'], prefix_sep='', drop_first=False).reset_index(drop=True).iloc[:,1:]\n",
    "TTM.index.name = 'time_id'\n",
    "TTM = TTM.astype('int')\n",
    "TTM"
   ]
  },
  {
   "cell_type": "code",
   "execution_count": null,
   "metadata": {},
   "outputs": [],
   "source": [
    "cfg = {'figsize': (20,1)}"
   ]
  },
  {
   "cell_type": "code",
   "execution_count": null,
   "metadata": {},
   "outputs": [],
   "source": [
    "TTM['мать'].plot(**cfg);"
   ]
  },
  {
   "cell_type": "markdown",
   "metadata": {},
   "source": [
    "## Vectorization"
   ]
  },
  {
   "cell_type": "markdown",
   "metadata": {},
   "source": [
    "## Primary Component Analysis (PCA)"
   ]
  },
  {
   "cell_type": "code",
   "execution_count": null,
   "metadata": {},
   "outputs": [],
   "source": [
    "from navec import Navec\n",
    "\n",
    "path = './models/navec_hudlit_v1_12B_500K_300d_100q.tar'\n",
    "navec = Navec.load(path)"
   ]
  },
  {
   "cell_type": "code",
   "execution_count": null,
   "metadata": {},
   "outputs": [],
   "source": [
    "import torch\n",
    "from slovnet.model.emb import NavecEmbedding"
   ]
  },
  {
   "cell_type": "code",
   "execution_count": null,
   "metadata": {},
   "outputs": [],
   "source": [
    "emb = NavecEmbedding(navec)\n",
    "input = torch.tensor([1, 2, 0])\n",
    "output = emb(input)"
   ]
  },
  {
   "cell_type": "code",
   "execution_count": null,
   "metadata": {},
   "outputs": [],
   "source": [
    "output.shape"
   ]
  },
  {
   "cell_type": "code",
   "execution_count": null,
   "metadata": {},
   "outputs": [],
   "source": [
    "def vectorize_text(text, embeddings):\n",
    "    # Simple tokenization based on spaces (for demonstration purposes)\n",
    "    tokens = text.split()\n",
    "    \n",
    "    # Initialize an empty tensor for storing embeddings\n",
    "    vector = torch.zeros(embeddings.dim)\n",
    "    \n",
    "    for token in tokens:\n",
    "        # Add the embeddings of each token; you might want to handle OOV (out-of-vocabulary) tokens\n",
    "        vector += embeddings.get_vecs_by_tokens(token.lower(), lower_case_backup=True)\n",
    "    \n",
    "    # Average the vectors (simple approach)\n",
    "    return vector / len(tokens)"
   ]
  },
  {
   "cell_type": "code",
   "execution_count": null,
   "metadata": {},
   "outputs": [],
   "source": [
    "data = {'text': ['Hello world', 'PyTorch vectorization example', 'Text vectorization with PyTorch']}\n",
    "df = pd.DataFrame(data)"
   ]
  },
  {
   "cell_type": "code",
   "execution_count": null,
   "metadata": {},
   "outputs": [],
   "source": [
    "# Loading GloVe embeddings\n",
    "glove = GloVe(name='6B', dim=100)  # Example: 100-dimensional GloVe vectors\n"
   ]
  },
  {
   "cell_type": "code",
   "execution_count": null,
   "metadata": {},
   "outputs": [],
   "source": [
    "# Apply vectorization to each row in the DataFrame\n",
    "df['vector'] = df['text'].apply(lambda x: vectorize_text(x, glove))"
   ]
  }
 ],
 "metadata": {
  "kernelspec": {
   "display_name": "Python (diss)",
   "language": "python",
   "name": "diss"
  },
  "language_info": {
   "codemirror_mode": {
    "name": "ipython",
    "version": 3
   },
   "file_extension": ".py",
   "mimetype": "text/x-python",
   "name": "python",
   "nbconvert_exporter": "python",
   "pygments_lexer": "ipython3",
   "version": "3.10.13"
  }
 },
 "nbformat": 4,
 "nbformat_minor": 4
}
