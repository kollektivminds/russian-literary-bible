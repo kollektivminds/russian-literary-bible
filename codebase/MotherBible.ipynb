{
 "cells": [
  {
   "cell_type": "markdown",
   "id": "2a369691-b00d-49da-9f85-3fcb684738eb",
   "metadata": {
    "tags": []
   },
   "source": [
    "# Synodal Bible & Mother"
   ]
  },
  {
   "cell_type": "markdown",
   "id": "6613b100-20dd-489e-857f-bcf145d1f8d0",
   "metadata": {},
   "source": [
    "## Summary"
   ]
  },
  {
   "cell_type": "code",
   "execution_count": null,
   "id": "96f94134-774b-4ba2-b67d-5ff8672f5738",
   "metadata": {
    "tags": []
   },
   "outputs": [],
   "source": [
    "# Code summary of below"
   ]
  },
  {
   "cell_type": "code",
   "execution_count": null,
   "id": "19c94aee-67e0-4fae-a70a-4890d5916c66",
   "metadata": {
    "tags": []
   },
   "outputs": [],
   "source": [
    "!python --version"
   ]
  },
  {
   "cell_type": "markdown",
   "id": "81150c35-805c-479c-b0cc-754bd314ef7c",
   "metadata": {},
   "source": [
    "## Import"
   ]
  },
  {
   "cell_type": "markdown",
   "id": "ba5391cc-af4e-4028-9c1b-cb2585b2e396",
   "metadata": {},
   "source": [
    "### Libraries"
   ]
  },
  {
   "cell_type": "code",
   "execution_count": null,
   "id": "c2b1ba77-b72c-4599-9e23-c62589a37bee",
   "metadata": {
    "editable": true,
    "slideshow": {
     "slide_type": ""
    },
    "tags": []
   },
   "outputs": [],
   "source": [
    "from backend import *\n",
    "import multiprocessing as mp\n",
    "from multiprocessing import Pool, Process\n",
    "num_cores = int(mp.cpu_count()-2)\n",
    "print(\"Number of cores : \", mp.cpu_count())"
   ]
  },
  {
   "cell_type": "code",
   "execution_count": null,
   "id": "3f14af7f-82be-48ec-bf2c-098c3fddcaa8",
   "metadata": {
    "tags": []
   },
   "outputs": [],
   "source": [
    "%matplotlib inline"
   ]
  },
  {
   "cell_type": "markdown",
   "id": "4a700f02-da3e-4628-85fc-60868cad4423",
   "metadata": {},
   "source": [
    "### Definitions"
   ]
  },
  {
   "cell_type": "code",
   "execution_count": null,
   "id": "03c199dd-c3f6-4a0a-8db5-3cafb94f80fe",
   "metadata": {
    "tags": []
   },
   "outputs": [],
   "source": [
    "texts = '../texts/fiction/utf8/'\n",
    "\n",
    "libCols = ['author','pub_year','title','text']\n",
    "tokenOHCO = ['w_id','part_num','para_num', 'sent_num', 'token_num']\n",
    "tokenCols = ['p_id', 'start', 'stop', 'text', 'token_id', 'head_id', 'rel', 'pos', 'lemma', 'anim', 'aspect', \\\n",
    "             'case', 'degree', 'gender', 'mood', 'number', 'person', 'tense', 'verb_form', 'voice']"
   ]
  },
  {
   "cell_type": "code",
   "execution_count": null,
   "id": "2777424b-faa0-4d69-95be-18dc507c6bb3",
   "metadata": {
    "tags": []
   },
   "outputs": [],
   "source": [
    "motherTokenDf = pd.read_pickle('./proc/MotherTokendf.pkl')\n",
    "bibleTokenDf = pd.read_pickle('./proc/BibleTokenDf.pkl')"
   ]
  },
  {
   "cell_type": "code",
   "execution_count": null,
   "id": "5b62cd7d-a549-4467-85d7-f36b3bfe0acc",
   "metadata": {
    "tags": []
   },
   "outputs": [],
   "source": [
    "# add stopword boolean, True if all attribute columns are null\n",
    "motherTokenDf['stopword'] = ~motherTokenDf.loc[:, tokenCols[9:]].any(axis=1)\n",
    "TokenDfIdx = pd.Index(range(1, (motherTokenDf.shape[0]+1)), name='id')\n",
    "motherTokenDf.index = TokenDfIdx# = TokenDf.set_index(['p_id', 'token_id'])\n",
    "\n",
    "bibleTokenDf['stopword'] = ~bibleTokenDf.loc[:, tokenCols[9:]].any(axis=1)\n",
    "TokenDfIdx = pd.Index(range(1, (bibleTokenDf.shape[0]+1)), name='id')\n",
    "bibleTokenDf.index = TokenDfIdx# = TokenDf.set_index(['p_id', 'token_id'])"
   ]
  },
  {
   "cell_type": "markdown",
   "id": "f29e8068-3d72-4c44-ab7f-5db318ec8ab2",
   "metadata": {},
   "source": [
    "## Bible and Mother Token Dataframes"
   ]
  },
  {
   "cell_type": "code",
   "execution_count": null,
   "id": "690fa276-b51c-4b57-81f2-349667b13aea",
   "metadata": {
    "tags": []
   },
   "outputs": [],
   "source": [
    "bibleTokenDf"
   ]
  },
  {
   "cell_type": "code",
   "execution_count": null,
   "id": "6b0b6c2b-3970-42bc-a9c5-411525698da3",
   "metadata": {
    "tags": []
   },
   "outputs": [],
   "source": [
    "motherTokenDf#.set_index(['p_id','token_id'])"
   ]
  },
  {
   "cell_type": "code",
   "execution_count": null,
   "id": "894b8245-eed2-4bf6-affe-2e68865dbfba",
   "metadata": {
    "tags": []
   },
   "outputs": [],
   "source": [
    "motherTokenDf.lemma.loc[motherTokenDf.stopword == False]"
   ]
  },
  {
   "cell_type": "code",
   "execution_count": null,
   "id": "639dcd23-e439-4fe5-9240-ad4f2f868c5b",
   "metadata": {
    "tags": []
   },
   "outputs": [],
   "source": [
    "lemmaDf = bibleTokenDf[['lemma']].loc[bibleTokenDf.stopword == False].join(motherTokenDf[['lemma']].loc[motherTokenDf.stopword == False], on='id', lsuffix='_bible', rsuffix='_mother')\n",
    "lemmaDf"
   ]
  },
  {
   "cell_type": "markdown",
   "id": "43e011f0-94b5-4930-b913-059c89dfb83b",
   "metadata": {},
   "source": [
    "## Shared Lemmas"
   ]
  },
  {
   "cell_type": "code",
   "execution_count": null,
   "id": "e1e08bca-f309-438e-95a8-bda27c5cdf83",
   "metadata": {
    "tags": []
   },
   "outputs": [],
   "source": [
    "bible_lemmas = lemmaDf.lemma_bible.unique()\n",
    "mother_lemmas = lemmaDf.lemma_mother.unique()"
   ]
  },
  {
   "cell_type": "code",
   "execution_count": null,
   "id": "4f020ddf-4b97-4e55-92d3-8b614da87203",
   "metadata": {
    "tags": []
   },
   "outputs": [],
   "source": [
    "common_lemmas = []\n",
    "common_lemmas_count = 0\n",
    "for lemma in mother_lemmas:\n",
    "    #print(lemma)\n",
    "    if lemma in bible_lemmas:\n",
    "        common_lemmas.append(lemma)\n",
    "        common_lemmas_count += 1\n",
    "        \n",
    "print(f\"Shared unique words between Mother and the Bible: \"+str(common_lemmas_count)+\", that's ~\"+str(round(((common_lemmas_count/len(lemmaDf.lemma_mother.unique()))*100),2))+\"%\")"
   ]
  },
  {
   "cell_type": "code",
   "execution_count": null,
   "id": "9fb321ab-55bb-46b8-8cc1-4a74011c02b5",
   "metadata": {
    "tags": []
   },
   "outputs": [],
   "source": [
    "bibleTokenWindow = np.array([])\n",
    "bibleTokenWindow = np.array([np.array(bibleTokenDf.lemma[i:i+7]) for i in range(len(bibleTokenDf.lemma)-6)])\n",
    "bibleTokenWindow"
   ]
  },
  {
   "cell_type": "code",
   "execution_count": null,
   "id": "4653c120-6f90-4686-9609-f7c9d24e897e",
   "metadata": {
    "tags": []
   },
   "outputs": [],
   "source": [
    "motherTokenWindow = np.array([])\n",
    "motherTokenWindow = np.array([np.array(motherTokenDf.lemma[i:i+7]) for i in range(len(motherTokenDf.lemma)-6)])\n",
    "motherTokenWindow"
   ]
  },
  {
   "cell_type": "raw",
   "id": "3c4b87a8-6f05-4034-9ba9-e830414fd38f",
   "metadata": {
    "tags": []
   },
   "source": [
    "order_matters = False\n",
    "work_sim_count = 0\n",
    "for child_window in motherTokenWindow:\n",
    "    window_sim_count = 0\n",
    "    for parent_window in bibleTokenWindow:\n",
    "        for i in range(len(child_window)):\n",
    "            if order_matters:\n",
    "                if child_window[i] == parent_window[i]:\n",
    "                    window_sim_count=+1\n",
    "            else:\n",
    "                if child_window[i] in parent_window:\n",
    "                    window_sim_count=+1\n",
    "    print(f\"{child_window}: {window_sim_count}\")"
   ]
  },
  {
   "cell_type": "code",
   "execution_count": null,
   "id": "1ece887f-ac69-445d-9743-3e3c5b76034b",
   "metadata": {
    "tags": []
   },
   "outputs": [],
   "source": [
    "def token_window(lemma_array, window_size):\n",
    "    token_window_array = np.array([])\n",
    "    token_window_array = np.array([np.array(lemma_array[i:i+window_size]) for i in range(len(lemma_array)-(window_size-1))])\n",
    "    return token_window_array\n",
    "\n",
    "def get_sim_count(child_window_array, parent_window_array, order_matters=False):\n",
    "    work_sim_count = 0\n",
    "    sim_count_tuples = []\n",
    "    for child_window in child_window_array:\n",
    "        #print(f\"child window: {child_window}\")\n",
    "        child_window_sim_total_count = 0\n",
    "        for parent_window in parent_window_array:\n",
    "            #print(f\"parent window: {parent_window}\")\n",
    "            child_window_sim_sub_count = 0\n",
    "            for i in range(len(child_window)):\n",
    "                if order_matters:\n",
    "                    if child_window[i] == parent_window[i]:\n",
    "                        child_window_sim_total_count=+1\n",
    "                        work_sim_count=+1\n",
    "                else:\n",
    "                    if child_window[i] in parent_window:\n",
    "                        #print(f\"{child_window[i]} is in parent!\")\n",
    "                        child_window_sim_total_count=+1\n",
    "                        work_sim_count=+1\n",
    "                    #else:\n",
    "                        #print(f\"{child_window[i]} is not in parent!\")\n",
    "        #print(f\"{child_window}: {child_window_sim_total_count}\")\n",
    "        sim_count_tuples.append((child_window, child_window_sim_total_count))\n",
    "    return sim_count_tuples\n",
    "\n",
    "def dna_test_windows(child_lemmas, parent_lemmas, window_size=10):\n",
    "    sim_counter = 0\n",
    "    sim_list = np.array([])\n",
    "    parent_window_array = token_window(parent_lemmas, window_size)\n",
    "    child_window_array = token_window(child_lemmas, window_size)\n",
    "    sim_list = get_sim_count(child_window_array, parent_window_array)\n",
    "    return sim_list"
   ]
  },
  {
   "cell_type": "code",
   "execution_count": null,
   "id": "73461604-db09-4a68-b7af-66cecd9cace4",
   "metadata": {
    "tags": []
   },
   "outputs": [],
   "source": [
    "def ListSplit(lst, numGroups, sort=True): \n",
    "    \"\"\"Takes a list and a number and splits the \n",
    "    list into evenly divided n groups (as much as possible)\"\"\"\n",
    "    # choose to sort list by ascending\n",
    "    if sort: \n",
    "        lst.sort()\n",
    "    # get length of list given to sort\n",
    "    listLen = len(lst)\n",
    "    # groupLen is the maximum number of items per group to allow for the most groups <= numGroups in a list (numGroups-1 OR numGroups)\n",
    "    groupLen = (listLen//numGroups) + (listLen % numGroups > 0)\n",
    "    # yield generator object of nested listed with length of numGroups \n",
    "    for i in range(0,len(lst), groupLen): \n",
    "        yield lst[i:i+groupLen]"
   ]
  },
  {
   "cell_type": "code",
   "execution_count": null,
   "id": "5c288c7f-ad41-4169-a121-19e8c7b49a08",
   "metadata": {
    "tags": []
   },
   "outputs": [],
   "source": [
    "(dna_test_windows, [(x, bibleTokenDf.lemma) for x in ListSplit(motherTokenDf[:1000].lemma, num_cores, False)])"
   ]
  },
  {
   "cell_type": "code",
   "execution_count": null,
   "id": "715d6f98-bda0-4992-8706-7b3667bcb931",
   "metadata": {
    "tags": []
   },
   "outputs": [],
   "source": []
  },
  {
   "cell_type": "code",
   "execution_count": null,
   "id": "4b47d068-79f7-4b50-82fd-d16122162343",
   "metadata": {
    "tags": []
   },
   "outputs": [],
   "source": [
    "%%time\n",
    "if __name__ == \"__main__\":\n",
    "    pool = Pool(processes=num_cores)\n",
    "    workerAssignments = list(ListSplit(motherTokenWindow, num_cores, False))\n",
    "    print(f\"Splitting into {len(workerAssignments)} groups to make token table\")\n",
    "    token_start_time = time.time()\n",
    "    pool.starmap(dna_test_windows, [(x, bibleTokenDf.lemma) for x in ListSplit(motherTokenDf[:1000].lemma, num_cores, False)])\n",
    "    token_end_time = time.time()\n",
    "    print(f\"Finished in {round(token_end_time-token_start_time, 3)} seconds.\")"
   ]
  },
  {
   "cell_type": "code",
   "execution_count": null,
   "id": "01ab6a58-5d0b-48c0-87be-9027d8ca8729",
   "metadata": {
    "tags": []
   },
   "outputs": [],
   "source": [
    "%%time\n",
    "if __name__ == \"__main__\":\n",
    "    p = Process(target=dna_test_windows, args=(motherTokenDf[:5000].lemma.loc[motherTokenDf.stopword == False], bibleTokenDf[:5000].lemma.loc[bibleTokenDf.stopword == False], 10,))\n",
    "    p.start()\n",
    "    p.join()"
   ]
  },
  {
   "cell_type": "code",
   "execution_count": null,
   "id": "af01ead3-a67c-4a1e-b22d-25283e21217b",
   "metadata": {
    "tags": []
   },
   "outputs": [],
   "source": [
    "%%time\n",
    "sim_tuples = dna_test_windows(child_lemmas=motherTokenDf[:5000].lemma.loc[motherTokenDf.stopword == False], parent_lemmas=bibleTokenDf[:5000].lemma.loc[bibleTokenDf.stopword == False], window_size=10)"
   ]
  },
  {
   "cell_type": "code",
   "execution_count": null,
   "id": "c75c0448-a3f4-497a-9f34-43a2b3835dc9",
   "metadata": {
    "tags": []
   },
   "outputs": [],
   "source": [
    "pd.DataFrame(sim_tuples, columns=['window_vocab', 'sim_count']).sort_values(by='sim_count', axis=0, ascending=False)"
   ]
  },
  {
   "cell_type": "code",
   "execution_count": null,
   "id": "62036625-db0c-4e15-bdc9-8d07e3d1211a",
   "metadata": {
    "tags": []
   },
   "outputs": [],
   "source": [
    "import pickle\n",
    "with open('./proc/sim_tuples.pkl', 'wb') as file:\n",
    "    pickle.dump(sim_tuples, file)"
   ]
  },
  {
   "cell_type": "code",
   "execution_count": null,
   "id": "fece4ec9-7350-4d04-8dfb-be145383dd28",
   "metadata": {
    "tags": []
   },
   "outputs": [],
   "source": [
    "pd.DataFrame(sim_tuples, columns=['window_vocab', 'sim_count']).locsort_values(by='sim_count', axis=0, ascending=False)"
   ]
  },
  {
   "cell_type": "markdown",
   "id": "4da474da-4ff9-4dfb-ac01-2626061862d4",
   "metadata": {},
   "source": [
    "How do Gor'kii's *Mother* and the Synodal Bible overlap? \n",
    "windows of 3-5 words with 1-2+ of overlap"
   ]
  }
 ],
 "metadata": {
  "kernelspec": {
   "display_name": "diss",
   "language": "python",
   "name": "diss"
  },
  "language_info": {
   "codemirror_mode": {
    "name": "ipython",
    "version": 3
   },
   "file_extension": ".py",
   "mimetype": "text/x-python",
   "name": "python",
   "nbconvert_exporter": "python",
   "pygments_lexer": "ipython3",
   "version": "3.10.13"
  },
  "vscode": {
   "interpreter": {
    "hash": "ea13d3b8728aada41f8a13ca417c5cc9432fd2a5df9ca31286f49d0e6820a779"
   }
  }
 },
 "nbformat": 4,
 "nbformat_minor": 5
}
