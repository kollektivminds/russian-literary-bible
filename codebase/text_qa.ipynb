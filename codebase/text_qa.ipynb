{
 "cells": [
  {
   "cell_type": "markdown",
   "id": "32d5b30c-44a4-4f82-b1a3-f7682d03d870",
   "metadata": {},
   "source": [
    "# Text Q&A"
   ]
  },
  {
   "cell_type": "markdown",
   "id": "ab06c959-8168-41c6-b17b-bf5b8b0a0ec8",
   "metadata": {},
   "source": [
    "## Lexical Questions"
   ]
  },
  {
   "cell_type": "markdown",
   "id": "806fd19a-47c2-4ab1-97c2-5d94968b079c",
   "metadata": {},
   "source": [
    "### Most Common Words in..."
   ]
  },
  {
   "cell_type": "code",
   "execution_count": 8,
   "id": "abbe9709-2f5e-4ee4-a224-4cb40d41a585",
   "metadata": {},
   "outputs": [
    {
     "data": {
      "text/html": [
       "<div>\n",
       "<style scoped>\n",
       "    .dataframe tbody tr th:only-of-type {\n",
       "        vertical-align: middle;\n",
       "    }\n",
       "\n",
       "    .dataframe tbody tr th {\n",
       "        vertical-align: top;\n",
       "    }\n",
       "\n",
       "    .dataframe thead th {\n",
       "        text-align: right;\n",
       "    }\n",
       "</style>\n",
       "<table border=\"1\" class=\"dataframe\">\n",
       "  <thead>\n",
       "    <tr style=\"text-align: right;\">\n",
       "      <th></th>\n",
       "      <th>n</th>\n",
       "      <th>rank</th>\n",
       "    </tr>\n",
       "    <tr>\n",
       "      <th>lemma</th>\n",
       "      <th></th>\n",
       "      <th></th>\n",
       "    </tr>\n",
       "  </thead>\n",
       "  <tbody>\n",
       "    <tr>\n",
       "      <th>она</th>\n",
       "      <td>1997</td>\n",
       "      <td>1</td>\n",
       "    </tr>\n",
       "    <tr>\n",
       "      <th>он</th>\n",
       "      <td>1813</td>\n",
       "      <td>2</td>\n",
       "    </tr>\n",
       "    <tr>\n",
       "      <th>я</th>\n",
       "      <td>1120</td>\n",
       "      <td>3</td>\n",
       "    </tr>\n",
       "    <tr>\n",
       "      <th>мать</th>\n",
       "      <td>899</td>\n",
       "      <td>4</td>\n",
       "    </tr>\n",
       "    <tr>\n",
       "      <th>весь</th>\n",
       "      <td>807</td>\n",
       "      <td>5</td>\n",
       "    </tr>\n",
       "    <tr>\n",
       "      <th>...</th>\n",
       "      <td>...</td>\n",
       "      <td>...</td>\n",
       "    </tr>\n",
       "    <tr>\n",
       "      <th>прибавиться</th>\n",
       "      <td>1</td>\n",
       "      <td>11873</td>\n",
       "    </tr>\n",
       "    <tr>\n",
       "      <th>имущество</th>\n",
       "      <td>1</td>\n",
       "      <td>11874</td>\n",
       "    </tr>\n",
       "    <tr>\n",
       "      <th>еевнимательный</th>\n",
       "      <td>1</td>\n",
       "      <td>11875</td>\n",
       "    </tr>\n",
       "    <tr>\n",
       "      <th>пестрядинный</th>\n",
       "      <td>1</td>\n",
       "      <td>11876</td>\n",
       "    </tr>\n",
       "    <tr>\n",
       "      <th>накопите</th>\n",
       "      <td>1</td>\n",
       "      <td>11877</td>\n",
       "    </tr>\n",
       "  </tbody>\n",
       "</table>\n",
       "<p>11877 rows × 2 columns</p>\n",
       "</div>"
      ],
      "text/plain": [
       "                   n   rank\n",
       "lemma                      \n",
       "она             1997      1\n",
       "он              1813      2\n",
       "я               1120      3\n",
       "мать             899      4\n",
       "весь             807      5\n",
       "...              ...    ...\n",
       "прибавиться        1  11873\n",
       "имущество          1  11874\n",
       "еевнимательный     1  11875\n",
       "пестрядинный       1  11876\n",
       "накопите           1  11877\n",
       "\n",
       "[11877 rows x 2 columns]"
      ]
     },
     "execution_count": 8,
     "metadata": {},
     "output_type": "execute_result"
    }
   ],
   "source": [
    "motherRankDf = GetRankDf(motherTokenDf)\n",
    "motherRankDf"
   ]
  },
  {
   "cell_type": "code",
   "execution_count": 7,
   "id": "f303f239-5655-4c0b-baa2-c6a8d84607f8",
   "metadata": {},
   "outputs": [
    {
     "data": {
      "text/html": [
       "<div>\n",
       "<style scoped>\n",
       "    .dataframe tbody tr th:only-of-type {\n",
       "        vertical-align: middle;\n",
       "    }\n",
       "\n",
       "    .dataframe tbody tr th {\n",
       "        vertical-align: top;\n",
       "    }\n",
       "\n",
       "    .dataframe thead th {\n",
       "        text-align: right;\n",
       "    }\n",
       "</style>\n",
       "<table border=\"1\" class=\"dataframe\">\n",
       "  <thead>\n",
       "    <tr style=\"text-align: right;\">\n",
       "      <th></th>\n",
       "      <th>n</th>\n",
       "      <th>rank</th>\n",
       "    </tr>\n",
       "    <tr>\n",
       "      <th>lemma</th>\n",
       "      <th></th>\n",
       "      <th></th>\n",
       "    </tr>\n",
       "  </thead>\n",
       "  <tbody>\n",
       "    <tr>\n",
       "      <th>оборот</th>\n",
       "      <td>1</td>\n",
       "      <td>4091</td>\n",
       "    </tr>\n",
       "    <tr>\n",
       "      <th>деловой</th>\n",
       "      <td>1</td>\n",
       "      <td>4092</td>\n",
       "    </tr>\n",
       "    <tr>\n",
       "      <th>разжать</th>\n",
       "      <td>1</td>\n",
       "      <td>4093</td>\n",
       "    </tr>\n",
       "    <tr>\n",
       "      <th>обнимаюсь</th>\n",
       "      <td>1</td>\n",
       "      <td>4094</td>\n",
       "    </tr>\n",
       "    <tr>\n",
       "      <th>лицоруками</th>\n",
       "      <td>1</td>\n",
       "      <td>4095</td>\n",
       "    </tr>\n",
       "    <tr>\n",
       "      <th>...</th>\n",
       "      <td>...</td>\n",
       "      <td>...</td>\n",
       "    </tr>\n",
       "    <tr>\n",
       "      <th>прибавиться</th>\n",
       "      <td>1</td>\n",
       "      <td>11873</td>\n",
       "    </tr>\n",
       "    <tr>\n",
       "      <th>имущество</th>\n",
       "      <td>1</td>\n",
       "      <td>11874</td>\n",
       "    </tr>\n",
       "    <tr>\n",
       "      <th>еевнимательный</th>\n",
       "      <td>1</td>\n",
       "      <td>11875</td>\n",
       "    </tr>\n",
       "    <tr>\n",
       "      <th>пестрядинный</th>\n",
       "      <td>1</td>\n",
       "      <td>11876</td>\n",
       "    </tr>\n",
       "    <tr>\n",
       "      <th>накопите</th>\n",
       "      <td>1</td>\n",
       "      <td>11877</td>\n",
       "    </tr>\n",
       "  </tbody>\n",
       "</table>\n",
       "<p>7787 rows × 2 columns</p>\n",
       "</div>"
      ],
      "text/plain": [
       "                n   rank\n",
       "lemma                   \n",
       "оборот          1   4091\n",
       "деловой         1   4092\n",
       "разжать         1   4093\n",
       "обнимаюсь       1   4094\n",
       "лицоруками      1   4095\n",
       "...            ..    ...\n",
       "прибавиться     1  11873\n",
       "имущество       1  11874\n",
       "еевнимательный  1  11875\n",
       "пестрядинный    1  11876\n",
       "накопите        1  11877\n",
       "\n",
       "[7787 rows x 2 columns]"
      ]
     },
     "execution_count": 7,
     "metadata": {},
     "output_type": "execute_result"
    }
   ],
   "source": [
    "motherRankDf.loc[motherRankDf.n==1]"
   ]
  },
  {
   "cell_type": "markdown",
   "id": "81a46e7c-56f9-45bd-a016-5b0db59c1f0e",
   "metadata": {},
   "source": [
    "### Most Common X"
   ]
  },
  {
   "cell_type": "markdown",
   "id": "2d24e79b-ed31-4952-8f92-666b9345907a",
   "metadata": {},
   "source": [
    "### Most Common X"
   ]
  },
  {
   "cell_type": "markdown",
   "id": "fb994423-42ab-4524-b778-4911925b77cf",
   "metadata": {},
   "source": [
    "## Vectorization Questions"
   ]
  },
  {
   "cell_type": "markdown",
   "id": "65352061-3301-4271-82cf-111479968555",
   "metadata": {},
   "source": [
    "### Most Common X"
   ]
  },
  {
   "cell_type": "markdown",
   "id": "e6269fe5-fab9-4d63-8c89-17e715ee3dfb",
   "metadata": {},
   "source": [
    "### Most Common X"
   ]
  },
  {
   "cell_type": "markdown",
   "id": "1f8a7c66-0187-4447-bceb-6843bf4d9be5",
   "metadata": {},
   "source": [
    "### Most Common X"
   ]
  },
  {
   "cell_type": "code",
   "execution_count": null,
   "id": "e0e5883a-c5e7-4cfd-9e98-85e69875e220",
   "metadata": {},
   "outputs": [],
   "source": []
  }
 ],
 "metadata": {
  "kernelspec": {
   "display_name": "Python 3 (ipykernel)",
   "language": "python",
   "name": "python3"
  },
  "language_info": {
   "codemirror_mode": {
    "name": "ipython",
    "version": 3
   },
   "file_extension": ".py",
   "mimetype": "text/x-python",
   "name": "python",
   "nbconvert_exporter": "python",
   "pygments_lexer": "ipython3",
   "version": "3.11.4"
  }
 },
 "nbformat": 4,
 "nbformat_minor": 5
}
