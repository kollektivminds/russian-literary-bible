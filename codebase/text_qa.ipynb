{
 "cells": [
  {
   "cell_type": "markdown",
   "id": "32d5b30c-44a4-4f82-b1a3-f7682d03d870",
   "metadata": {},
   "source": [
    "# Text Q&A"
   ]
  },
  {
   "cell_type": "markdown",
   "id": "ab06c959-8168-41c6-b17b-bf5b8b0a0ec8",
   "metadata": {},
   "source": [
    "## Lexical Questions"
   ]
  },
  {
   "cell_type": "markdown",
   "id": "806fd19a-47c2-4ab1-97c2-5d94968b079c",
   "metadata": {},
   "source": [
    "### Most Common X"
   ]
  },
  {
   "cell_type": "markdown",
   "id": "81a46e7c-56f9-45bd-a016-5b0db59c1f0e",
   "metadata": {},
   "source": [
    "### Most Common X"
   ]
  },
  {
   "cell_type": "markdown",
   "id": "2d24e79b-ed31-4952-8f92-666b9345907a",
   "metadata": {},
   "source": [
    "### Most Common X"
   ]
  },
  {
   "cell_type": "markdown",
   "id": "fb994423-42ab-4524-b778-4911925b77cf",
   "metadata": {},
   "source": [
    "## Vectorization Questions"
   ]
  },
  {
   "cell_type": "markdown",
   "id": "65352061-3301-4271-82cf-111479968555",
   "metadata": {},
   "source": [
    "### Most Common X"
   ]
  },
  {
   "cell_type": "markdown",
   "id": "e6269fe5-fab9-4d63-8c89-17e715ee3dfb",
   "metadata": {},
   "source": [
    "### Most Common X"
   ]
  },
  {
   "cell_type": "markdown",
   "id": "1f8a7c66-0187-4447-bceb-6843bf4d9be5",
   "metadata": {},
   "source": [
    "### Most Common X"
   ]
  },
  {
   "cell_type": "code",
   "execution_count": null,
   "id": "e0e5883a-c5e7-4cfd-9e98-85e69875e220",
   "metadata": {},
   "outputs": [],
   "source": []
  }
 ],
 "metadata": {
  "kernelspec": {
   "display_name": "Python 3 (ipykernel)",
   "language": "python",
   "name": "python3"
  },
  "language_info": {
   "codemirror_mode": {
    "name": "ipython",
    "version": 3
   },
   "file_extension": ".py",
   "mimetype": "text/x-python",
   "name": "python",
   "nbconvert_exporter": "python",
   "pygments_lexer": "ipython3",
   "version": "3.9.12"
  }
 },
 "nbformat": 4,
 "nbformat_minor": 5
}
