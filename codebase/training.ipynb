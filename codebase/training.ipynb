{
 "cells": [
  {
   "cell_type": "markdown",
   "id": "c0cd337c-3bc2-4381-8e3b-501f994ecca1",
   "metadata": {},
   "source": [
    "NN Training for Russian Literary Bible"
   ]
  },
  {
   "cell_type": "code",
   "execution_count": 3,
   "id": "5d1d27c4-9b06-4dd3-8721-277eb9a05bef",
   "metadata": {},
   "outputs": [],
   "source": [
    "from backend import *\n",
    "import torch"
   ]
  },
  {
   "cell_type": "code",
   "execution_count": null,
   "id": "7ca82fde-0ca3-40af-b0c6-03629d144bb4",
   "metadata": {},
   "outputs": [],
   "source": []
  }
 ],
 "metadata": {
  "kernelspec": {
   "display_name": "Python 3 (ipykernel)",
   "language": "python",
   "name": "python3"
  },
  "language_info": {
   "codemirror_mode": {
    "name": "ipython",
    "version": 3
   },
   "file_extension": ".py",
   "mimetype": "text/x-python",
   "name": "python",
   "nbconvert_exporter": "python",
   "pygments_lexer": "ipython3",
   "version": "3.9.6"
  }
 },
 "nbformat": 4,
 "nbformat_minor": 5
}
