{
 "cells": [
  {
   "cell_type": "markdown",
   "id": "aa07089e",
   "metadata": {},
   "source": [
    "# Russian Synodal Bible (1885)"
   ]
  },
  {
   "cell_type": "markdown",
   "id": "3db1fea7",
   "metadata": {},
   "source": [
    "## Import"
   ]
  },
  {
   "cell_type": "markdown",
   "id": "c8e48e5b",
   "metadata": {},
   "source": [
    "### Libraries"
   ]
  },
  {
   "cell_type": "code",
   "execution_count": 2,
   "id": "af782c13",
   "metadata": {
    "tags": []
   },
   "outputs": [],
   "source": [
    "import os\n",
    "from itertools import chain\n",
    "from backend import *\n",
    "import matplotlib\n",
    "import string"
   ]
  },
  {
   "cell_type": "markdown",
   "id": "afadbec5",
   "metadata": {},
   "source": [
    "### Definitions"
   ]
  },
  {
   "cell_type": "code",
   "execution_count": 3,
   "id": "59a42e7e",
   "metadata": {
    "tags": []
   },
   "outputs": [],
   "source": [
    "bibleTXT = '../texts/bible/sinodalnyi-perevod.txt' \n",
    "booksJSON = './proc/booksDict.json'\n",
    "bibleJSON = '../texts/bible/bible.json'\n",
    "bibleIdJSON = '../texts/bible/bibleID.json'\n",
    "bibleXML = '../texts/bible/bible.xml'\n",
    "bibFrazyTXT = '../texts/bible/Dubrovina_Slovar_Bibleyskikh_Frazeologizmov.txt'\n",
    "\n",
    "bibleOHCO = ['test', 'book', 'chap', 'verse']\n",
    "tokenCols = ['p_id', 'start', 'stop', 'text', 'token_id', 'head_id', 'rel', 'pos', 'lemma', 'anim', 'aspect', 'case', 'degree', 'gender', 'mood', 'number', 'person', 'tense', 'verb_form', 'voice']\n",
    "\n",
    "chap_lines_re = '^===\\s(\\d{1,3})\\s===$'\n",
    "book_lines_re = '^==\\s(.+)\\s==$'\n",
    "matt_name = 'От Матфея святое благовествование'"
   ]
  },
  {
   "cell_type": "code",
   "execution_count": 4,
   "id": "e140359c",
   "metadata": {
    "tags": []
   },
   "outputs": [],
   "source": [
    "with open(booksJSON) as json_file: \n",
    "    booksDict = json.load(json_file)"
   ]
  },
  {
   "cell_type": "markdown",
   "id": "29f975d2",
   "metadata": {
    "tags": []
   },
   "source": [
    "## Pre-Processing"
   ]
  },
  {
   "cell_type": "markdown",
   "id": "f3f2e781",
   "metadata": {
    "tags": []
   },
   "source": [
    "### Import Text into DF"
   ]
  },
  {
   "cell_type": "code",
   "execution_count": null,
   "id": "72f02826",
   "metadata": {
    "tags": []
   },
   "outputs": [],
   "source": [
    "with open(bibleTXT, 'r', encoding='windows-1251') as f: \n",
    "    bibleText = f.readlines()\n",
    "\n",
    "bibliiaDf = pd.DataFrame(bibleText).rename(columns={0:'text'}).dropna()\n",
    "bibliiaDf"
   ]
  },
  {
   "cell_type": "markdown",
   "id": "f1eae545",
   "metadata": {
    "tags": []
   },
   "source": [
    "### Tidy Up"
   ]
  },
  {
   "cell_type": "code",
   "execution_count": null,
   "id": "04cb693d",
   "metadata": {
    "tags": []
   },
   "outputs": [],
   "source": [
    "# remove blank lines and select puncutation, keeping only header & clean text lines\n",
    "bibliiaDf.loc[:,'text'] = bibliiaDf.loc[:,'text'].str.replace(r'\\n|^\\s$', '')\n",
    "\n",
    "#unwanted_parts = bibliiaDf.loc[bibliiaDf.text.str.contains('Предисловие|Примечания')].index.tolist() + bibliiaDf.loc[bibliiaDf.text.str.contains('^[^\\d|^=]')].index.tolist() + [x for x in range(21483,21490)] + [x for x in range(16571,16577)]\n",
    "\n",
    "# concat list of unwanted sections' indices\n",
    "get_rid = chain(range(13259,13261), range(15172,15175), range(16571,16578), range(21483,21491))\n",
    "\n",
    "# drop notes section from Book of Job\n",
    "bibliiaDf = bibliiaDf.drop(index=[x for x in get_rid])\n",
    "\n",
    "# rename foreword section for Esther and Wisdom of Jesus to match chapter style\n",
    "#bibliiaDf.loc[:,'text'] = bibliiaDf.loc[:,'text'].str.replace('=== Предисловие ===', '=== 0 ===')\n",
    "\n",
    "# remove various errata and notes marks\n",
    "bibliiaDf.loc[:,'text'] = bibliiaDf.loc[:,'text'].str.replace('\\]|\\[|_|-|', '')\n",
    "bibliiaDf = bibliiaDf.loc[bibliiaDf.text != '']#.reset_index().drop(columns=\"index\")\n",
    "\n",
    "bibliiaDf"
   ]
  },
  {
   "cell_type": "code",
   "execution_count": null,
   "id": "c760d2f7",
   "metadata": {
    "tags": []
   },
   "outputs": [],
   "source": [
    "#bibliiaDf.loc[13259:13260] # MOLITVA and gospodi vsederzhiteliu\n",
    "#bibliiaDf.loc[15172:15174] # predislovie for Esfira\n",
    "#bibliiaDf.loc[16571:16577] # notes for Job\n",
    "#bibliiaDf.loc[21483:21490] # предисловие for WisdJes"
   ]
  },
  {
   "cell_type": "markdown",
   "id": "f8476b8b",
   "metadata": {
    "tags": []
   },
   "source": [
    "### Find Parts"
   ]
  },
  {
   "cell_type": "code",
   "execution_count": null,
   "id": "70a1d42b",
   "metadata": {
    "tags": []
   },
   "outputs": [],
   "source": [
    "# find df rows containing all the book and chapter title lines \n",
    "# as well as the OT/NT split on the 1st page of Matthew\n",
    "chap_lines = bibliiaDf.loc[bibliiaDf.text.str.contains(chap_lines_re)].index\n",
    "book_lines = bibliiaDf.loc[bibliiaDf.text.str.contains(book_lines_re)].index\n",
    "test_line = bibliiaDf.loc[bibliiaDf.text.str.contains(matt_name)].index\n",
    "\n",
    "# combine the title lines for extraction later\n",
    "title_lines = test_line.append([chap_lines, book_lines]).sort_values()"
   ]
  },
  {
   "cell_type": "markdown",
   "id": "75ba77b3",
   "metadata": {
    "tags": []
   },
   "source": [
    "### Assign OHCO Labels"
   ]
  },
  {
   "cell_type": "code",
   "execution_count": null,
   "id": "8a966acf-e02f-4278-ab3b-5a068d8dbbcf",
   "metadata": {
    "tags": []
   },
   "outputs": [],
   "source": [
    "bibliiaDf.text.str.split(pat=' ', n=0)"
   ]
  },
  {
   "cell_type": "code",
   "execution_count": null,
   "id": "451c9e43-bc55-472a-a26d-99bf3788fa76",
   "metadata": {
    "tags": []
   },
   "outputs": [],
   "source": [
    "bibliiaDf"
   ]
  },
  {
   "cell_type": "code",
   "execution_count": null,
   "id": "309ba5f2-db00-4d48-8a49-7887cbd3baa6",
   "metadata": {
    "tags": []
   },
   "outputs": [],
   "source": [
    "# ['test']\n",
    "bibliiaDf[bibleOHCO[0]] = np.where(bibliiaDf.index<test_line[0], 1, 2)\n",
    "# ['book']\n",
    "bibliiaDf[bibleOHCO[1]] = bibliiaDf.loc[book_lines].text.str.extract(book_lines_re)\n",
    "# ['chap']\n",
    "bibliiaDf[bibleOHCO[2]] = bibliiaDf.loc[chap_lines].text.str.extract(chap_lines_re)\n",
    "# ['verse'] by splitting verse num at beginning from text in current verse lines\n",
    "bibliiaDf[[bibleOHCO[3], 'text']] = bibliiaDf.text.str.split(' ', n=1, expand=True)\n",
    "bibliiaDf"
   ]
  },
  {
   "cell_type": "code",
   "execution_count": null,
   "id": "c7c1bcdb",
   "metadata": {
    "tags": []
   },
   "outputs": [],
   "source": [
    "# ['test']\n",
    "#bibliiaDf[bibleOHCO[0]] = np.where(bibliiaDf.index<test_line[0], 1, 2)\n",
    "# ['book']\n",
    "#bibliiaDf[bibleOHCO[1]] = bibliiaDf.loc[book_lines].text.str.extract(book_lines_re)\n",
    "# ['chap']\n",
    "#bibliiaDf[bibleOHCO[2]] = bibliiaDf.loc[chap_lines].text.str.extract(chap_lines_re)\n",
    "# ['verse'] by splitting verse num at beginning from text in current verse lines\n",
    "#bibliiaDf[[bibleOHCO[3],'text']] = bibliiaDf.text.str.split(pat=' ', n=1).iloc[:, [0, 1]]\n",
    "\n",
    "# fill in book and chapter titles to cells below them\n",
    "bibliiaDf[bibleOHCO[1:3]] = bibliiaDf[['book','chap']].ffill()\n",
    "\n",
    "# transfer book numbers onto book titles\n",
    "#bibliiaDf[bibleOHCO[1]] = bibliiaDf[bibleOHCO[1]].map(dict([(y,x) for (x,y) in enumerate(bibliiaDf.book.unique(), start=1)]))\n",
    "\n",
    "# drop title lines and reset index to give verse id num \n",
    "bibliiaDf = bibliiaDf.drop(title_lines, axis=0).reset_index()#.set_index(bibleOHCO)\n",
    "bibliiaDf.index = range(1,len(bibliiaDf)+1)\n",
    "bibliiaDf.index.name = 'v_id'\n",
    "\n",
    "# reorder columns\n",
    "bibliiaDf = bibliiaDf[['test', 'book', 'chap', 'verse', 'text']]\n",
    "bibliiaDf"
   ]
  },
  {
   "cell_type": "markdown",
   "id": "c7f7cc95",
   "metadata": {},
   "source": [
    "### Swap Russian Book Name for English Equivalent"
   ]
  },
  {
   "cell_type": "code",
   "execution_count": null,
   "id": "e6258084-baef-414d-9599-5784d8ff0e2c",
   "metadata": {
    "tags": []
   },
   "outputs": [],
   "source": [
    "booksDict.keys()\n",
    "total_books = 0\n",
    "for book in booksDict.keys():\n",
    "    total_books += sum(booksDict[book]['chap_verse'].values())\n",
    "print(total_books)"
   ]
  },
  {
   "cell_type": "code",
   "execution_count": null,
   "id": "c298a8c1-e45c-445d-ab32-014760eddf77",
   "metadata": {
    "tags": []
   },
   "outputs": [],
   "source": [
    "book_nums = [(x,y) for x,y in enumerate(bibliiaDf.book.unique())][1:]\n",
    "bibliiaDf['book_en'] = [booksDict[str(x)]['en_name'] for x,y in book_nums for name in bibliiaDf.book if y == name]"
   ]
  },
  {
   "cell_type": "code",
   "execution_count": null,
   "id": "4962ef66-aaf7-49e5-bf60-372a5a706e86",
   "metadata": {
    "tags": []
   },
   "outputs": [],
   "source": [
    "bibliiaDf.loc[~bibliiaDf.isnull().any(axis=1)].reset_index()"
   ]
  },
  {
   "cell_type": "markdown",
   "id": "801d1dd1",
   "metadata": {
    "tags": []
   },
   "source": [
    "### Export to JSON"
   ]
  },
  {
   "cell_type": "code",
   "execution_count": null,
   "id": "bf68e609",
   "metadata": {
    "tags": []
   },
   "outputs": [],
   "source": [
    "bibliiaDf.to_json(bibleJSON, orient='index')"
   ]
  },
  {
   "cell_type": "markdown",
   "id": "503d18f8",
   "metadata": {},
   "source": [
    "## Processing"
   ]
  },
  {
   "cell_type": "markdown",
   "id": "99e5f423",
   "metadata": {},
   "source": [
    "### OHCO DFs"
   ]
  },
  {
   "cell_type": "markdown",
   "id": "46bd4d9e",
   "metadata": {},
   "source": [
    "#### Dictionaries for testament and book IDs"
   ]
  },
  {
   "cell_type": "code",
   "execution_count": null,
   "id": "66e034a3",
   "metadata": {},
   "outputs": [],
   "source": [
    "#testsDict = dict(enumerate(bibliiaDf.test.unique()))\n",
    "testsDict = dict([(value, key) for key, value in dict(enumerate(bibliiaDf.test.unique())).items()])\n",
    "booksDict = dict([(value, key) for key, value in dict(enumerate(bibliiaDf.book.unique())).items()])"
   ]
  },
  {
   "cell_type": "markdown",
   "id": "da0ce06e",
   "metadata": {},
   "source": [
    "#### Testaments"
   ]
  },
  {
   "cell_type": "code",
   "execution_count": null,
   "id": "63268275-656a-4af5-9bf2-fa04642eb375",
   "metadata": {
    "tags": []
   },
   "outputs": [],
   "source": [
    "# make df of testament texts\n",
    "\n",
    "TestsDf = pd.DataFrame([(x, ' '.join(y)) for (x,y) in bibliiaDf.\\\n",
    "    groupby('test', sort=False).text], columns=['test', 'text']).\\\n",
    "        set_index(np.arange(1,len(bibliiaDf.test.unique())+1))\n",
    "TestsDf.index.name = 't_id'\n",
    "TestsDf "
   ]
  },
  {
   "cell_type": "markdown",
   "id": "1e809400",
   "metadata": {},
   "source": [
    "#### Books"
   ]
  },
  {
   "cell_type": "code",
   "execution_count": null,
   "id": "184313bf-450a-435e-a826-091cbbfcafc7",
   "metadata": {
    "tags": []
   },
   "outputs": [],
   "source": [
    "## make Df of book texts\n",
    "\n",
    "BooksDf = pd.DataFrame([(x, ' '.join(y)) for (x,y) in bibliiaDf.\\\n",
    "    groupby('book', sort=False).text], columns=['book', 'text'])\\\n",
    "    .set_index(np.arange(1,len(bibliiaDf.book.unique())+1))\n",
    "BooksDf.index.name = 'b_id'\n",
    "\n",
    "BooksDf "
   ]
  },
  {
   "cell_type": "markdown",
   "id": "3a0912b9",
   "metadata": {},
   "source": [
    "#### Chapters"
   ]
  },
  {
   "cell_type": "code",
   "execution_count": null,
   "id": "235f1d39-f7c1-497f-945b-fcddc55c5e95",
   "metadata": {
    "tags": []
   },
   "outputs": [],
   "source": [
    "# grab book name and chapter number from main df\n",
    "ChapsDf = pd.DataFrame([(x, ' '.join(y)) for (x,y) in bibliiaDf.groupby(bibleOHCO[1:3], sort=False).text], columns=[('book', 'chap'), 'text'])\n",
    "ChapsDf[['book','chap']] = pd.DataFrame(list(ChapsDf[('book', 'chap')]), index=ChapsDf.index, columns=bibleOHCO[1:3])\n",
    "del ChapsDf[('book', 'chap')]\n",
    "#ChapsDf = ChapsDf.replace({\"book\": booksDict}).sort_values(by=bibleOHCO[1:3], ascending=[True, True])\n",
    "\n",
    "ChapsDf = ChapsDf.reset_index().drop(['index'], axis=1).set_index(np.arange(1,len(ChapsDf)+1))\n",
    "ChapsDf.index.name = 'c_id'\n",
    "\n",
    "#ChapsDf = ChapsDf.replace({\"book\":dict(enumerate(bibliiaDf.book.unique()))})\n",
    "#ChapsDf = ChapsDf.reset_index().set_index(bibleOHCO[:3])\n",
    "\n",
    "ChapsDf"
   ]
  },
  {
   "cell_type": "code",
   "execution_count": null,
   "id": "1c0c1a7f-528f-4d5e-bb44-a16511f621c7",
   "metadata": {
    "tags": []
   },
   "outputs": [],
   "source": [
    "# make t_id and b_id columns with TestsDf and BooksDf IDs respectively\n",
    "bibliiaDf['t_id'] = bibliiaDf['test'].map(TestsDf.reset_index().set_index('test')['t_id'])\n",
    "bibliiaDf['b_id'] = bibliiaDf['book'].map(BooksDf.reset_index().set_index('book')['b_id'])\n",
    "\n",
    "# merge existing bibliiaDf with Chapsdf for c_id column (because it's based on multiple matching columns)\n",
    "bibliiaDf = pd.merge(bibliiaDf, ChapsDf.reset_index()[['book', 'chap', 'c_id']], on=['book', 'chap'], how='left')\n",
    "\n",
    "# remake index\n",
    "bibliiaDf = bibliiaDf.reset_index().drop(['index'], axis=1).set_index(np.arange(1,len(bibliiaDf)+1))\n",
    "bibliiaDf.index.name = 'v_id'\n",
    "\n",
    "bibliiaDf"
   ]
  },
  {
   "cell_type": "code",
   "execution_count": null,
   "id": "979ab688-8e92-437e-9224-3a6887b9a5d2",
   "metadata": {
    "tags": []
   },
   "outputs": [],
   "source": [
    "bibliiaDf.to_json(bibleIdJSON, orient='index')"
   ]
  },
  {
   "cell_type": "markdown",
   "id": "090af10f",
   "metadata": {},
   "source": [
    "### Make XML"
   ]
  },
  {
   "cell_type": "code",
   "execution_count": 5,
   "id": "b69cd7a0-9d1e-43b2-bd64-8c3e92d6f709",
   "metadata": {
    "tags": []
   },
   "outputs": [],
   "source": [
    "bibliiaDf = pd.read_json(bibleIdJSON, orient='index')"
   ]
  },
  {
   "cell_type": "code",
   "execution_count": 6,
   "id": "fcad355a-c65d-40a4-96ba-3c30cfa1f991",
   "metadata": {
    "tags": []
   },
   "outputs": [
    {
     "data": {
      "text/html": [
       "<div>\n",
       "<style scoped>\n",
       "    .dataframe tbody tr th:only-of-type {\n",
       "        vertical-align: middle;\n",
       "    }\n",
       "\n",
       "    .dataframe tbody tr th {\n",
       "        vertical-align: top;\n",
       "    }\n",
       "\n",
       "    .dataframe thead th {\n",
       "        text-align: right;\n",
       "    }\n",
       "</style>\n",
       "<table border=\"1\" class=\"dataframe\">\n",
       "  <thead>\n",
       "    <tr style=\"text-align: right;\">\n",
       "      <th></th>\n",
       "      <th>test</th>\n",
       "      <th>book</th>\n",
       "      <th>chap</th>\n",
       "      <th>verse</th>\n",
       "      <th>text</th>\n",
       "      <th>t_id</th>\n",
       "      <th>b_id</th>\n",
       "      <th>c_id_x</th>\n",
       "      <th>book_en</th>\n",
       "      <th>c_id_y</th>\n",
       "    </tr>\n",
       "  </thead>\n",
       "  <tbody>\n",
       "    <tr>\n",
       "      <th>1</th>\n",
       "      <td>1</td>\n",
       "      <td>Бытие</td>\n",
       "      <td>1</td>\n",
       "      <td>1</td>\n",
       "      <td>В начале сотворил Бог небо и землю.</td>\n",
       "      <td>1</td>\n",
       "      <td>1</td>\n",
       "      <td>1</td>\n",
       "      <td>Genesis</td>\n",
       "      <td>1</td>\n",
       "    </tr>\n",
       "    <tr>\n",
       "      <th>2</th>\n",
       "      <td>1</td>\n",
       "      <td>Бытие</td>\n",
       "      <td>1</td>\n",
       "      <td>2</td>\n",
       "      <td>Земля же была безвидна и пуста, и тьма над без...</td>\n",
       "      <td>1</td>\n",
       "      <td>1</td>\n",
       "      <td>1</td>\n",
       "      <td>Genesis</td>\n",
       "      <td>1</td>\n",
       "    </tr>\n",
       "    <tr>\n",
       "      <th>3</th>\n",
       "      <td>1</td>\n",
       "      <td>Бытие</td>\n",
       "      <td>1</td>\n",
       "      <td>3</td>\n",
       "      <td>И сказал Бог: да будет свет. И стал свет.</td>\n",
       "      <td>1</td>\n",
       "      <td>1</td>\n",
       "      <td>1</td>\n",
       "      <td>Genesis</td>\n",
       "      <td>1</td>\n",
       "    </tr>\n",
       "    <tr>\n",
       "      <th>4</th>\n",
       "      <td>1</td>\n",
       "      <td>Бытие</td>\n",
       "      <td>1</td>\n",
       "      <td>4</td>\n",
       "      <td>И увидел Бог свет, что он хорош, и отделил Бог...</td>\n",
       "      <td>1</td>\n",
       "      <td>1</td>\n",
       "      <td>1</td>\n",
       "      <td>Genesis</td>\n",
       "      <td>1</td>\n",
       "    </tr>\n",
       "    <tr>\n",
       "      <th>5</th>\n",
       "      <td>1</td>\n",
       "      <td>Бытие</td>\n",
       "      <td>1</td>\n",
       "      <td>5</td>\n",
       "      <td>И назвал Бог свет днем, а тьму ночью. И был ве...</td>\n",
       "      <td>1</td>\n",
       "      <td>1</td>\n",
       "      <td>1</td>\n",
       "      <td>Genesis</td>\n",
       "      <td>1</td>\n",
       "    </tr>\n",
       "    <tr>\n",
       "      <th>...</th>\n",
       "      <td>...</td>\n",
       "      <td>...</td>\n",
       "      <td>...</td>\n",
       "      <td>...</td>\n",
       "      <td>...</td>\n",
       "      <td>...</td>\n",
       "      <td>...</td>\n",
       "      <td>...</td>\n",
       "      <td>...</td>\n",
       "      <td>...</td>\n",
       "    </tr>\n",
       "    <tr>\n",
       "      <th>37082</th>\n",
       "      <td>2</td>\n",
       "      <td>Откровение святого Иоанна Богослова</td>\n",
       "      <td>22</td>\n",
       "      <td>17</td>\n",
       "      <td>И Дух и невеста говорят: прииди! И слышавший д...</td>\n",
       "      <td>2</td>\n",
       "      <td>77</td>\n",
       "      <td>1361</td>\n",
       "      <td>Book of Revelation</td>\n",
       "      <td>1361</td>\n",
       "    </tr>\n",
       "    <tr>\n",
       "      <th>37083</th>\n",
       "      <td>2</td>\n",
       "      <td>Откровение святого Иоанна Богослова</td>\n",
       "      <td>22</td>\n",
       "      <td>18</td>\n",
       "      <td>И я также свидетельствую всякому слышащему сло...</td>\n",
       "      <td>2</td>\n",
       "      <td>77</td>\n",
       "      <td>1361</td>\n",
       "      <td>Book of Revelation</td>\n",
       "      <td>1361</td>\n",
       "    </tr>\n",
       "    <tr>\n",
       "      <th>37084</th>\n",
       "      <td>2</td>\n",
       "      <td>Откровение святого Иоанна Богослова</td>\n",
       "      <td>22</td>\n",
       "      <td>19</td>\n",
       "      <td>и если кто отнимет что от слов книги пророчест...</td>\n",
       "      <td>2</td>\n",
       "      <td>77</td>\n",
       "      <td>1361</td>\n",
       "      <td>Book of Revelation</td>\n",
       "      <td>1361</td>\n",
       "    </tr>\n",
       "    <tr>\n",
       "      <th>37085</th>\n",
       "      <td>2</td>\n",
       "      <td>Откровение святого Иоанна Богослова</td>\n",
       "      <td>22</td>\n",
       "      <td>20</td>\n",
       "      <td>Свидетельствующий сие говорит: ей, гряду скоро...</td>\n",
       "      <td>2</td>\n",
       "      <td>77</td>\n",
       "      <td>1361</td>\n",
       "      <td>Book of Revelation</td>\n",
       "      <td>1361</td>\n",
       "    </tr>\n",
       "    <tr>\n",
       "      <th>37086</th>\n",
       "      <td>2</td>\n",
       "      <td>Откровение святого Иоанна Богослова</td>\n",
       "      <td>22</td>\n",
       "      <td>21</td>\n",
       "      <td>Благодать Господа нашего Иисуса Христа со всем...</td>\n",
       "      <td>2</td>\n",
       "      <td>77</td>\n",
       "      <td>1361</td>\n",
       "      <td>Book of Revelation</td>\n",
       "      <td>1361</td>\n",
       "    </tr>\n",
       "  </tbody>\n",
       "</table>\n",
       "<p>37086 rows × 10 columns</p>\n",
       "</div>"
      ],
      "text/plain": [
       "       test                                 book  chap  verse  \\\n",
       "1         1                                Бытие     1      1   \n",
       "2         1                                Бытие     1      2   \n",
       "3         1                                Бытие     1      3   \n",
       "4         1                                Бытие     1      4   \n",
       "5         1                                Бытие     1      5   \n",
       "...     ...                                  ...   ...    ...   \n",
       "37082     2  Откровение святого Иоанна Богослова    22     17   \n",
       "37083     2  Откровение святого Иоанна Богослова    22     18   \n",
       "37084     2  Откровение святого Иоанна Богослова    22     19   \n",
       "37085     2  Откровение святого Иоанна Богослова    22     20   \n",
       "37086     2  Откровение святого Иоанна Богослова    22     21   \n",
       "\n",
       "                                                    text  t_id  b_id  c_id_x  \\\n",
       "1                    В начале сотворил Бог небо и землю.     1     1       1   \n",
       "2      Земля же была безвидна и пуста, и тьма над без...     1     1       1   \n",
       "3              И сказал Бог: да будет свет. И стал свет.     1     1       1   \n",
       "4      И увидел Бог свет, что он хорош, и отделил Бог...     1     1       1   \n",
       "5      И назвал Бог свет днем, а тьму ночью. И был ве...     1     1       1   \n",
       "...                                                  ...   ...   ...     ...   \n",
       "37082  И Дух и невеста говорят: прииди! И слышавший д...     2    77    1361   \n",
       "37083  И я также свидетельствую всякому слышащему сло...     2    77    1361   \n",
       "37084  и если кто отнимет что от слов книги пророчест...     2    77    1361   \n",
       "37085  Свидетельствующий сие говорит: ей, гряду скоро...     2    77    1361   \n",
       "37086  Благодать Господа нашего Иисуса Христа со всем...     2    77    1361   \n",
       "\n",
       "                  book_en  c_id_y  \n",
       "1                 Genesis       1  \n",
       "2                 Genesis       1  \n",
       "3                 Genesis       1  \n",
       "4                 Genesis       1  \n",
       "5                 Genesis       1  \n",
       "...                   ...     ...  \n",
       "37082  Book of Revelation    1361  \n",
       "37083  Book of Revelation    1361  \n",
       "37084  Book of Revelation    1361  \n",
       "37085  Book of Revelation    1361  \n",
       "37086  Book of Revelation    1361  \n",
       "\n",
       "[37086 rows x 10 columns]"
      ]
     },
     "execution_count": 6,
     "metadata": {},
     "output_type": "execute_result"
    }
   ],
   "source": [
    "bibliiaDf#.rename(columns={'book':'book_ru'})"
   ]
  },
  {
   "cell_type": "code",
   "execution_count": null,
   "id": "909ad3ef",
   "metadata": {
    "tags": []
   },
   "outputs": [],
   "source": [
    "bookRefDict = {}\n",
    "for book in booksDict.items():\n",
    "    cleanDict = {int(book[0]):book[1]}\n",
    "    cleanDict[int(book[0])]['chap_verse'] = bibliiaDf.loc[bibliiaDf.b_id == int(book[0])].groupby('chap').max().to_dict()['verse']\n",
    "    #print(verseDict)\n",
    "    #cleanDict.update(verseDict)\n",
    "    #print(cleanDict)\n",
    "    bookRefDict.update(cleanDict)\n",
    "#bookRefDict"
   ]
  },
  {
   "cell_type": "code",
   "execution_count": null,
   "id": "c99cd032",
   "metadata": {
    "tags": []
   },
   "outputs": [],
   "source": [
    "with open('../site/data/booksDict.json', \"w\") as outfile:\n",
    "    json.dump(bookRefDict, outfile)\n",
    "    #json.dump('../site/data/booksDict.json', outfile)"
   ]
  },
  {
   "cell_type": "code",
   "execution_count": null,
   "id": "ffc9999c-2861-45b2-91ee-165b2cd14d49",
   "metadata": {
    "tags": []
   },
   "outputs": [],
   "source": [
    "root = etree.Element(\"bible\")\n",
    "print(root.tag)\n",
    "t = b = c = v = 1\n",
    "#TestList = [x for x in bibliiaDf.test.unique()]\n",
    "#for test in range(len(TestList)): \n",
    "#    root.append(etree.Element(\"t\", n=str(t), name=TestList[test]))\n",
    "BookList = list(bibliiaDf.book.unique())\n",
    "for book in range(len(BookList)): \n",
    "    root.append(etree.Element(\"b\", n=str(b), name_ru=BookList[book], name_en=bibliiaDf.loc[bibliiaDf.book==BookList[book]].book_en.unique()[0]))\n",
    "    ChapList = list(bibliiaDf.loc[bibliiaDf['book'] == BookList[book]].chap.unique())\n",
    "    for chap in range(len(ChapList)): \n",
    "        root[book].append(etree.Element(\"c\", n=str(c), name=str(chap+1)))\n",
    "        VerseList = list(bibliiaDf.loc[(bibliiaDf['book'] == BookList[book]) & (bibliiaDf['chap'] == ChapList[chap])].index)\n",
    "        for verse in range(len(VerseList)): \n",
    "            root[book][chap].append(etree.Element(\"v\", n=str(v), name=str(verse+1)))\n",
    "            verse_text = bibliiaDf.loc[v].text\n",
    "            root[book][chap][verse].text = verse_text\n",
    "            v+=1\n",
    "        c+=1\n",
    "    b+=1\n",
    "#t+=1\n",
    "#print(etree.tostring(root, pretty_print=True, xml_declaration=True))\n",
    "etree.ElementTree(root).write(bibleXML, pretty_print=True, xml_declaration=True, encoding='windows-1251')"
   ]
  },
  {
   "cell_type": "markdown",
   "id": "d95bca5a-c656-416c-a340-c39f6a9c237f",
   "metadata": {},
   "source": [
    "## Token DFs"
   ]
  },
  {
   "cell_type": "code",
   "execution_count": 57,
   "id": "fb5a86b2-0c0c-40a4-8a38-707c56fff1e9",
   "metadata": {
    "tags": []
   },
   "outputs": [],
   "source": [
    "bibliiaDf = pd.read_json(bibleIdJSON, orient='index')"
   ]
  },
  {
   "cell_type": "code",
   "execution_count": 58,
   "id": "9ec141c0-b06d-4c49-b864-51fdf70856ef",
   "metadata": {
    "tags": []
   },
   "outputs": [
    {
     "data": {
      "text/html": [
       "<div>\n",
       "<style scoped>\n",
       "    .dataframe tbody tr th:only-of-type {\n",
       "        vertical-align: middle;\n",
       "    }\n",
       "\n",
       "    .dataframe tbody tr th {\n",
       "        vertical-align: top;\n",
       "    }\n",
       "\n",
       "    .dataframe thead th {\n",
       "        text-align: right;\n",
       "    }\n",
       "</style>\n",
       "<table border=\"1\" class=\"dataframe\">\n",
       "  <thead>\n",
       "    <tr style=\"text-align: right;\">\n",
       "      <th></th>\n",
       "      <th>test</th>\n",
       "      <th>book</th>\n",
       "      <th>chap</th>\n",
       "      <th>verse</th>\n",
       "      <th>text</th>\n",
       "      <th>t_id</th>\n",
       "      <th>b_id</th>\n",
       "      <th>c_id</th>\n",
       "      <th>book_en</th>\n",
       "    </tr>\n",
       "    <tr>\n",
       "      <th>v_id</th>\n",
       "      <th></th>\n",
       "      <th></th>\n",
       "      <th></th>\n",
       "      <th></th>\n",
       "      <th></th>\n",
       "      <th></th>\n",
       "      <th></th>\n",
       "      <th></th>\n",
       "      <th></th>\n",
       "    </tr>\n",
       "  </thead>\n",
       "  <tbody>\n",
       "    <tr>\n",
       "      <th>1</th>\n",
       "      <td>1</td>\n",
       "      <td>Бытие</td>\n",
       "      <td>1</td>\n",
       "      <td>1</td>\n",
       "      <td>В начале сотворил Бог небо и землю.</td>\n",
       "      <td>1</td>\n",
       "      <td>1</td>\n",
       "      <td>1</td>\n",
       "      <td>Genesis</td>\n",
       "    </tr>\n",
       "    <tr>\n",
       "      <th>2</th>\n",
       "      <td>1</td>\n",
       "      <td>Бытие</td>\n",
       "      <td>1</td>\n",
       "      <td>2</td>\n",
       "      <td>Земля же была безвидна и пуста, и тьма над без...</td>\n",
       "      <td>1</td>\n",
       "      <td>1</td>\n",
       "      <td>1</td>\n",
       "      <td>Genesis</td>\n",
       "    </tr>\n",
       "    <tr>\n",
       "      <th>3</th>\n",
       "      <td>1</td>\n",
       "      <td>Бытие</td>\n",
       "      <td>1</td>\n",
       "      <td>3</td>\n",
       "      <td>И сказал Бог: да будет свет. И стал свет.</td>\n",
       "      <td>1</td>\n",
       "      <td>1</td>\n",
       "      <td>1</td>\n",
       "      <td>Genesis</td>\n",
       "    </tr>\n",
       "    <tr>\n",
       "      <th>4</th>\n",
       "      <td>1</td>\n",
       "      <td>Бытие</td>\n",
       "      <td>1</td>\n",
       "      <td>4</td>\n",
       "      <td>И увидел Бог свет, что он хорош, и отделил Бог...</td>\n",
       "      <td>1</td>\n",
       "      <td>1</td>\n",
       "      <td>1</td>\n",
       "      <td>Genesis</td>\n",
       "    </tr>\n",
       "    <tr>\n",
       "      <th>5</th>\n",
       "      <td>1</td>\n",
       "      <td>Бытие</td>\n",
       "      <td>1</td>\n",
       "      <td>5</td>\n",
       "      <td>И назвал Бог свет днем, а тьму ночью. И был ве...</td>\n",
       "      <td>1</td>\n",
       "      <td>1</td>\n",
       "      <td>1</td>\n",
       "      <td>Genesis</td>\n",
       "    </tr>\n",
       "    <tr>\n",
       "      <th>...</th>\n",
       "      <td>...</td>\n",
       "      <td>...</td>\n",
       "      <td>...</td>\n",
       "      <td>...</td>\n",
       "      <td>...</td>\n",
       "      <td>...</td>\n",
       "      <td>...</td>\n",
       "      <td>...</td>\n",
       "      <td>...</td>\n",
       "    </tr>\n",
       "    <tr>\n",
       "      <th>37082</th>\n",
       "      <td>2</td>\n",
       "      <td>Откровение святого Иоанна Богослова</td>\n",
       "      <td>22</td>\n",
       "      <td>17</td>\n",
       "      <td>И Дух и невеста говорят: прииди! И слышавший д...</td>\n",
       "      <td>2</td>\n",
       "      <td>77</td>\n",
       "      <td>1361</td>\n",
       "      <td>Book of Revelation</td>\n",
       "    </tr>\n",
       "    <tr>\n",
       "      <th>37083</th>\n",
       "      <td>2</td>\n",
       "      <td>Откровение святого Иоанна Богослова</td>\n",
       "      <td>22</td>\n",
       "      <td>18</td>\n",
       "      <td>И я также свидетельствую всякому слышащему сло...</td>\n",
       "      <td>2</td>\n",
       "      <td>77</td>\n",
       "      <td>1361</td>\n",
       "      <td>Book of Revelation</td>\n",
       "    </tr>\n",
       "    <tr>\n",
       "      <th>37084</th>\n",
       "      <td>2</td>\n",
       "      <td>Откровение святого Иоанна Богослова</td>\n",
       "      <td>22</td>\n",
       "      <td>19</td>\n",
       "      <td>и если кто отнимет что от слов книги пророчест...</td>\n",
       "      <td>2</td>\n",
       "      <td>77</td>\n",
       "      <td>1361</td>\n",
       "      <td>Book of Revelation</td>\n",
       "    </tr>\n",
       "    <tr>\n",
       "      <th>37085</th>\n",
       "      <td>2</td>\n",
       "      <td>Откровение святого Иоанна Богослова</td>\n",
       "      <td>22</td>\n",
       "      <td>20</td>\n",
       "      <td>Свидетельствующий сие говорит: ей, гряду скоро...</td>\n",
       "      <td>2</td>\n",
       "      <td>77</td>\n",
       "      <td>1361</td>\n",
       "      <td>Book of Revelation</td>\n",
       "    </tr>\n",
       "    <tr>\n",
       "      <th>37086</th>\n",
       "      <td>2</td>\n",
       "      <td>Откровение святого Иоанна Богослова</td>\n",
       "      <td>22</td>\n",
       "      <td>21</td>\n",
       "      <td>Благодать Господа нашего Иисуса Христа со всем...</td>\n",
       "      <td>2</td>\n",
       "      <td>77</td>\n",
       "      <td>1361</td>\n",
       "      <td>Book of Revelation</td>\n",
       "    </tr>\n",
       "  </tbody>\n",
       "</table>\n",
       "<p>37086 rows × 9 columns</p>\n",
       "</div>"
      ],
      "text/plain": [
       "       test                                 book  chap  verse  \\\n",
       "v_id                                                            \n",
       "1         1                                Бытие     1      1   \n",
       "2         1                                Бытие     1      2   \n",
       "3         1                                Бытие     1      3   \n",
       "4         1                                Бытие     1      4   \n",
       "5         1                                Бытие     1      5   \n",
       "...     ...                                  ...   ...    ...   \n",
       "37082     2  Откровение святого Иоанна Богослова    22     17   \n",
       "37083     2  Откровение святого Иоанна Богослова    22     18   \n",
       "37084     2  Откровение святого Иоанна Богослова    22     19   \n",
       "37085     2  Откровение святого Иоанна Богослова    22     20   \n",
       "37086     2  Откровение святого Иоанна Богослова    22     21   \n",
       "\n",
       "                                                    text  t_id  b_id  c_id  \\\n",
       "v_id                                                                         \n",
       "1                    В начале сотворил Бог небо и землю.     1     1     1   \n",
       "2      Земля же была безвидна и пуста, и тьма над без...     1     1     1   \n",
       "3              И сказал Бог: да будет свет. И стал свет.     1     1     1   \n",
       "4      И увидел Бог свет, что он хорош, и отделил Бог...     1     1     1   \n",
       "5      И назвал Бог свет днем, а тьму ночью. И был ве...     1     1     1   \n",
       "...                                                  ...   ...   ...   ...   \n",
       "37082  И Дух и невеста говорят: прииди! И слышавший д...     2    77  1361   \n",
       "37083  И я также свидетельствую всякому слышащему сло...     2    77  1361   \n",
       "37084  и если кто отнимет что от слов книги пророчест...     2    77  1361   \n",
       "37085  Свидетельствующий сие говорит: ей, гряду скоро...     2    77  1361   \n",
       "37086  Благодать Господа нашего Иисуса Христа со всем...     2    77  1361   \n",
       "\n",
       "                  book_en  \n",
       "v_id                       \n",
       "1                 Genesis  \n",
       "2                 Genesis  \n",
       "3                 Genesis  \n",
       "4                 Genesis  \n",
       "5                 Genesis  \n",
       "...                   ...  \n",
       "37082  Book of Revelation  \n",
       "37083  Book of Revelation  \n",
       "37084  Book of Revelation  \n",
       "37085  Book of Revelation  \n",
       "37086  Book of Revelation  \n",
       "\n",
       "[37086 rows x 9 columns]"
      ]
     },
     "execution_count": 58,
     "metadata": {},
     "output_type": "execute_result"
    }
   ],
   "source": [
    "bibliiaDf.index.name = 'v_id'\n",
    "bibliiaDf = bibliiaDf.drop(columns='c_id_y')\n",
    "bibliiaDf = bibliiaDf.rename(columns={'c_id_x':'c_id'})\n",
    "bibliiaDf#.reset_index()"
   ]
  },
  {
   "cell_type": "code",
   "execution_count": 81,
   "id": "d2045386-53d6-46fe-925b-c2ad54c556c2",
   "metadata": {
    "tags": []
   },
   "outputs": [
    {
     "data": {
      "text/html": [
       "<div>\n",
       "<style scoped>\n",
       "    .dataframe tbody tr th:only-of-type {\n",
       "        vertical-align: middle;\n",
       "    }\n",
       "\n",
       "    .dataframe tbody tr th {\n",
       "        vertical-align: top;\n",
       "    }\n",
       "\n",
       "    .dataframe thead th {\n",
       "        text-align: right;\n",
       "    }\n",
       "</style>\n",
       "<table border=\"1\" class=\"dataframe\">\n",
       "  <thead>\n",
       "    <tr style=\"text-align: right;\">\n",
       "      <th></th>\n",
       "      <th>v_id_min</th>\n",
       "      <th>v_id_max</th>\n",
       "      <th>num_chaps</th>\n",
       "      <th>b_id</th>\n",
       "      <th>num_verses</th>\n",
       "      <th>ru_name</th>\n",
       "    </tr>\n",
       "    <tr>\n",
       "      <th>book_en</th>\n",
       "      <th></th>\n",
       "      <th></th>\n",
       "      <th></th>\n",
       "      <th></th>\n",
       "      <th></th>\n",
       "      <th></th>\n",
       "    </tr>\n",
       "  </thead>\n",
       "  <tbody>\n",
       "    <tr>\n",
       "      <th>1 Chronicles</th>\n",
       "      <td>10257</td>\n",
       "      <td>11198</td>\n",
       "      <td>29</td>\n",
       "      <td>13</td>\n",
       "      <td>942</td>\n",
       "      <td>Первая книга Паралипоменон</td>\n",
       "    </tr>\n",
       "    <tr>\n",
       "      <th>1 Kings</th>\n",
       "      <td>8722</td>\n",
       "      <td>9537</td>\n",
       "      <td>22</td>\n",
       "      <td>11</td>\n",
       "      <td>816</td>\n",
       "      <td>Третья книга Царств</td>\n",
       "    </tr>\n",
       "    <tr>\n",
       "      <th>1 Maccabees</th>\n",
       "      <td>26597</td>\n",
       "      <td>27520</td>\n",
       "      <td>16</td>\n",
       "      <td>47</td>\n",
       "      <td>924</td>\n",
       "      <td>Первая книга Маккавейская</td>\n",
       "    </tr>\n",
       "    <tr>\n",
       "      <th>1 Samuel</th>\n",
       "      <td>7216</td>\n",
       "      <td>8026</td>\n",
       "      <td>31</td>\n",
       "      <td>9</td>\n",
       "      <td>811</td>\n",
       "      <td>Первая книга Царств</td>\n",
       "    </tr>\n",
       "    <tr>\n",
       "      <th>2 Chronicles</th>\n",
       "      <td>11199</td>\n",
       "      <td>12020</td>\n",
       "      <td>36</td>\n",
       "      <td>14</td>\n",
       "      <td>822</td>\n",
       "      <td>Вторая книга Паралипоменон</td>\n",
       "    </tr>\n",
       "    <tr>\n",
       "      <th>...</th>\n",
       "      <td>...</td>\n",
       "      <td>...</td>\n",
       "      <td>...</td>\n",
       "      <td>...</td>\n",
       "      <td>...</td>\n",
       "      <td>...</td>\n",
       "    </tr>\n",
       "    <tr>\n",
       "      <th>Third Epistle of John</th>\n",
       "      <td>34309</td>\n",
       "      <td>34323</td>\n",
       "      <td>1</td>\n",
       "      <td>61</td>\n",
       "      <td>15</td>\n",
       "      <td>Третье соборное послание святого апостола Иоанна</td>\n",
       "    </tr>\n",
       "    <tr>\n",
       "      <th>Tobit</th>\n",
       "      <td>13149</td>\n",
       "      <td>13392</td>\n",
       "      <td>14</td>\n",
       "      <td>18</td>\n",
       "      <td>244</td>\n",
       "      <td>Книга Товита</td>\n",
       "    </tr>\n",
       "    <tr>\n",
       "      <th>Wisdom of Solomon</th>\n",
       "      <td>18759</td>\n",
       "      <td>19198</td>\n",
       "      <td>19</td>\n",
       "      <td>26</td>\n",
       "      <td>440</td>\n",
       "      <td>Книга Премудрости Соломона</td>\n",
       "    </tr>\n",
       "    <tr>\n",
       "      <th>Zechariah</th>\n",
       "      <td>26331</td>\n",
       "      <td>26541</td>\n",
       "      <td>14</td>\n",
       "      <td>45</td>\n",
       "      <td>211</td>\n",
       "      <td>Книга пророка Захарии</td>\n",
       "    </tr>\n",
       "    <tr>\n",
       "      <th>Zephaniah</th>\n",
       "      <td>26240</td>\n",
       "      <td>26292</td>\n",
       "      <td>3</td>\n",
       "      <td>43</td>\n",
       "      <td>53</td>\n",
       "      <td>Книга пророка Софонии</td>\n",
       "    </tr>\n",
       "  </tbody>\n",
       "</table>\n",
       "<p>77 rows × 6 columns</p>\n",
       "</div>"
      ],
      "text/plain": [
       "                       v_id_min  v_id_max  num_chaps  b_id  num_verses  \\\n",
       "book_en                                                                  \n",
       "1 Chronicles              10257     11198         29    13         942   \n",
       "1 Kings                    8722      9537         22    11         816   \n",
       "1 Maccabees               26597     27520         16    47         924   \n",
       "1 Samuel                   7216      8026         31     9         811   \n",
       "2 Chronicles              11199     12020         36    14         822   \n",
       "...                         ...       ...        ...   ...         ...   \n",
       "Third Epistle of John     34309     34323          1    61          15   \n",
       "Tobit                     13149     13392         14    18         244   \n",
       "Wisdom of Solomon         18759     19198         19    26         440   \n",
       "Zechariah                 26331     26541         14    45         211   \n",
       "Zephaniah                 26240     26292          3    43          53   \n",
       "\n",
       "                                                                ru_name  \n",
       "book_en                                                                  \n",
       "1 Chronicles                                 Первая книга Паралипоменон  \n",
       "1 Kings                                             Третья книга Царств  \n",
       "1 Maccabees                                   Первая книга Маккавейская  \n",
       "1 Samuel                                            Первая книга Царств  \n",
       "2 Chronicles                                 Вторая книга Паралипоменон  \n",
       "...                                                                 ...  \n",
       "Third Epistle of John  Третье соборное послание святого апостола Иоанна  \n",
       "Tobit                                                      Книга Товита  \n",
       "Wisdom of Solomon                            Книга Премудрости Соломона  \n",
       "Zechariah                                         Книга пророка Захарии  \n",
       "Zephaniah                                         Книга пророка Софонии  \n",
       "\n",
       "[77 rows x 6 columns]"
      ]
     },
     "execution_count": 81,
     "metadata": {},
     "output_type": "execute_result"
    }
   ],
   "source": [
    "bibMetaDf = bibliiaDf.reset_index().groupby('book_en').v_id.min().to_frame().join(bibliiaDf.reset_index().groupby('book_en').v_id.max().to_frame(), lsuffix='_min', rsuffix='_max')\n",
    "bibMetaDf['num_chaps'] = bibliiaDf.groupby('book_en').chap.max()\n",
    "bibMetaDf['b_id'] = bibliiaDf.groupby('book_en').b_id.first()\n",
    "bibMetaDf['num_verses'] = bibliiaDf.groupby('book_en').verse.count()\n",
    "#bibMetaDf['num_words'] = bibliiaDf.groupby('book_en').text.count()\n",
    "bibMetaDf['ru_name'] = bibliiaDf.groupby('book_en').book.first()\n",
    "bibMetaDf"
   ]
  },
  {
   "cell_type": "code",
   "execution_count": 61,
   "id": "2f54c504-67eb-4e96-9659-cec2640a4dc3",
   "metadata": {
    "tags": []
   },
   "outputs": [
    {
     "data": {
      "text/html": [
       "<div>\n",
       "<style scoped>\n",
       "    .dataframe tbody tr th:only-of-type {\n",
       "        vertical-align: middle;\n",
       "    }\n",
       "\n",
       "    .dataframe tbody tr th {\n",
       "        vertical-align: top;\n",
       "    }\n",
       "\n",
       "    .dataframe thead th {\n",
       "        text-align: right;\n",
       "    }\n",
       "</style>\n",
       "<table border=\"1\" class=\"dataframe\">\n",
       "  <thead>\n",
       "    <tr style=\"text-align: right;\">\n",
       "      <th></th>\n",
       "      <th>test</th>\n",
       "      <th>book</th>\n",
       "      <th>chap</th>\n",
       "      <th>verse</th>\n",
       "      <th>text</th>\n",
       "      <th>t_id</th>\n",
       "      <th>b_id</th>\n",
       "      <th>c_id</th>\n",
       "      <th>book_en</th>\n",
       "    </tr>\n",
       "    <tr>\n",
       "      <th>v_id</th>\n",
       "      <th></th>\n",
       "      <th></th>\n",
       "      <th></th>\n",
       "      <th></th>\n",
       "      <th></th>\n",
       "      <th></th>\n",
       "      <th></th>\n",
       "      <th></th>\n",
       "      <th></th>\n",
       "    </tr>\n",
       "  </thead>\n",
       "  <tbody>\n",
       "    <tr>\n",
       "      <th>1</th>\n",
       "      <td>1</td>\n",
       "      <td>Бытие</td>\n",
       "      <td>1</td>\n",
       "      <td>1</td>\n",
       "      <td>В начале сотворил Бог небо и землю.</td>\n",
       "      <td>1</td>\n",
       "      <td>1</td>\n",
       "      <td>1</td>\n",
       "      <td>Genesis</td>\n",
       "    </tr>\n",
       "    <tr>\n",
       "      <th>2</th>\n",
       "      <td>1</td>\n",
       "      <td>Бытие</td>\n",
       "      <td>1</td>\n",
       "      <td>2</td>\n",
       "      <td>Земля же была безвидна и пуста, и тьма над без...</td>\n",
       "      <td>1</td>\n",
       "      <td>1</td>\n",
       "      <td>1</td>\n",
       "      <td>Genesis</td>\n",
       "    </tr>\n",
       "    <tr>\n",
       "      <th>3</th>\n",
       "      <td>1</td>\n",
       "      <td>Бытие</td>\n",
       "      <td>1</td>\n",
       "      <td>3</td>\n",
       "      <td>И сказал Бог: да будет свет. И стал свет.</td>\n",
       "      <td>1</td>\n",
       "      <td>1</td>\n",
       "      <td>1</td>\n",
       "      <td>Genesis</td>\n",
       "    </tr>\n",
       "    <tr>\n",
       "      <th>4</th>\n",
       "      <td>1</td>\n",
       "      <td>Бытие</td>\n",
       "      <td>1</td>\n",
       "      <td>4</td>\n",
       "      <td>И увидел Бог свет, что он хорош, и отделил Бог...</td>\n",
       "      <td>1</td>\n",
       "      <td>1</td>\n",
       "      <td>1</td>\n",
       "      <td>Genesis</td>\n",
       "    </tr>\n",
       "    <tr>\n",
       "      <th>5</th>\n",
       "      <td>1</td>\n",
       "      <td>Бытие</td>\n",
       "      <td>1</td>\n",
       "      <td>5</td>\n",
       "      <td>И назвал Бог свет днем, а тьму ночью. И был ве...</td>\n",
       "      <td>1</td>\n",
       "      <td>1</td>\n",
       "      <td>1</td>\n",
       "      <td>Genesis</td>\n",
       "    </tr>\n",
       "    <tr>\n",
       "      <th>...</th>\n",
       "      <td>...</td>\n",
       "      <td>...</td>\n",
       "      <td>...</td>\n",
       "      <td>...</td>\n",
       "      <td>...</td>\n",
       "      <td>...</td>\n",
       "      <td>...</td>\n",
       "      <td>...</td>\n",
       "      <td>...</td>\n",
       "    </tr>\n",
       "    <tr>\n",
       "      <th>37082</th>\n",
       "      <td>2</td>\n",
       "      <td>Откровение святого Иоанна Богослова</td>\n",
       "      <td>22</td>\n",
       "      <td>17</td>\n",
       "      <td>И Дух и невеста говорят: прииди! И слышавший д...</td>\n",
       "      <td>2</td>\n",
       "      <td>77</td>\n",
       "      <td>1361</td>\n",
       "      <td>Book of Revelation</td>\n",
       "    </tr>\n",
       "    <tr>\n",
       "      <th>37083</th>\n",
       "      <td>2</td>\n",
       "      <td>Откровение святого Иоанна Богослова</td>\n",
       "      <td>22</td>\n",
       "      <td>18</td>\n",
       "      <td>И я также свидетельствую всякому слышащему сло...</td>\n",
       "      <td>2</td>\n",
       "      <td>77</td>\n",
       "      <td>1361</td>\n",
       "      <td>Book of Revelation</td>\n",
       "    </tr>\n",
       "    <tr>\n",
       "      <th>37084</th>\n",
       "      <td>2</td>\n",
       "      <td>Откровение святого Иоанна Богослова</td>\n",
       "      <td>22</td>\n",
       "      <td>19</td>\n",
       "      <td>и если кто отнимет что от слов книги пророчест...</td>\n",
       "      <td>2</td>\n",
       "      <td>77</td>\n",
       "      <td>1361</td>\n",
       "      <td>Book of Revelation</td>\n",
       "    </tr>\n",
       "    <tr>\n",
       "      <th>37085</th>\n",
       "      <td>2</td>\n",
       "      <td>Откровение святого Иоанна Богослова</td>\n",
       "      <td>22</td>\n",
       "      <td>20</td>\n",
       "      <td>Свидетельствующий сие говорит: ей, гряду скоро...</td>\n",
       "      <td>2</td>\n",
       "      <td>77</td>\n",
       "      <td>1361</td>\n",
       "      <td>Book of Revelation</td>\n",
       "    </tr>\n",
       "    <tr>\n",
       "      <th>37086</th>\n",
       "      <td>2</td>\n",
       "      <td>Откровение святого Иоанна Богослова</td>\n",
       "      <td>22</td>\n",
       "      <td>21</td>\n",
       "      <td>Благодать Господа нашего Иисуса Христа со всем...</td>\n",
       "      <td>2</td>\n",
       "      <td>77</td>\n",
       "      <td>1361</td>\n",
       "      <td>Book of Revelation</td>\n",
       "    </tr>\n",
       "  </tbody>\n",
       "</table>\n",
       "<p>37086 rows × 9 columns</p>\n",
       "</div>"
      ],
      "text/plain": [
       "       test                                 book  chap  verse  \\\n",
       "v_id                                                            \n",
       "1         1                                Бытие     1      1   \n",
       "2         1                                Бытие     1      2   \n",
       "3         1                                Бытие     1      3   \n",
       "4         1                                Бытие     1      4   \n",
       "5         1                                Бытие     1      5   \n",
       "...     ...                                  ...   ...    ...   \n",
       "37082     2  Откровение святого Иоанна Богослова    22     17   \n",
       "37083     2  Откровение святого Иоанна Богослова    22     18   \n",
       "37084     2  Откровение святого Иоанна Богослова    22     19   \n",
       "37085     2  Откровение святого Иоанна Богослова    22     20   \n",
       "37086     2  Откровение святого Иоанна Богослова    22     21   \n",
       "\n",
       "                                                    text  t_id  b_id  c_id  \\\n",
       "v_id                                                                         \n",
       "1                    В начале сотворил Бог небо и землю.     1     1     1   \n",
       "2      Земля же была безвидна и пуста, и тьма над без...     1     1     1   \n",
       "3              И сказал Бог: да будет свет. И стал свет.     1     1     1   \n",
       "4      И увидел Бог свет, что он хорош, и отделил Бог...     1     1     1   \n",
       "5      И назвал Бог свет днем, а тьму ночью. И был ве...     1     1     1   \n",
       "...                                                  ...   ...   ...   ...   \n",
       "37082  И Дух и невеста говорят: прииди! И слышавший д...     2    77  1361   \n",
       "37083  И я также свидетельствую всякому слышащему сло...     2    77  1361   \n",
       "37084  и если кто отнимет что от слов книги пророчест...     2    77  1361   \n",
       "37085  Свидетельствующий сие говорит: ей, гряду скоро...     2    77  1361   \n",
       "37086  Благодать Господа нашего Иисуса Христа со всем...     2    77  1361   \n",
       "\n",
       "                  book_en  \n",
       "v_id                       \n",
       "1                 Genesis  \n",
       "2                 Genesis  \n",
       "3                 Genesis  \n",
       "4                 Genesis  \n",
       "5                 Genesis  \n",
       "...                   ...  \n",
       "37082  Book of Revelation  \n",
       "37083  Book of Revelation  \n",
       "37084  Book of Revelation  \n",
       "37085  Book of Revelation  \n",
       "37086  Book of Revelation  \n",
       "\n",
       "[37086 rows x 9 columns]"
      ]
     },
     "execution_count": 61,
     "metadata": {},
     "output_type": "execute_result"
    }
   ],
   "source": [
    "#bibliiaDf = pd.read_json(bibleJSON, orient='index')\n",
    "#bibliiaDf.index.name = 'v_id'\n",
    "BibTextDf = bibliiaDf[['text']]\n",
    "#BibLibDf = bibliiaDf[bibleOHCO]\n",
    "bibliiaDf"
   ]
  },
  {
   "cell_type": "raw",
   "id": "b2f6c735-64f5-43b2-93f8-2816b2ad08eb",
   "metadata": {},
   "source": [
    "%%time\n",
    "ChapsTokenDf = nat_parse(ChapsDf)"
   ]
  },
  {
   "cell_type": "code",
   "execution_count": null,
   "id": "6fe22b86-fbb7-4023-b4c6-64dd06a7b913",
   "metadata": {
    "tags": []
   },
   "outputs": [],
   "source": [
    "BibTextDf"
   ]
  },
  {
   "cell_type": "code",
   "execution_count": null,
   "id": "e8d237e2-dd83-4928-b583-046acda27150",
   "metadata": {
    "tags": []
   },
   "outputs": [],
   "source": [
    "%%time\n",
    "VerseTokenDf = nat_parse(BibTextDf)"
   ]
  },
  {
   "cell_type": "code",
   "execution_count": null,
   "id": "e6b27ec2-c3b3-4c23-8823-1357176fa74e",
   "metadata": {
    "tags": []
   },
   "outputs": [],
   "source": [
    "VerseTokenDf"
   ]
  },
  {
   "cell_type": "code",
   "execution_count": null,
   "id": "e8b2ec15-ac59-4bad-9f22-28908c25b715",
   "metadata": {},
   "outputs": [],
   "source": [
    "VerseTokenDf.to_pickle('./proc/BibleTokenDf.pkl')"
   ]
  },
  {
   "cell_type": "code",
   "execution_count": 59,
   "id": "d70a5038-ee43-4cbf-b473-dba4bedc08b7",
   "metadata": {
    "tags": []
   },
   "outputs": [],
   "source": [
    "VerseTokenDf = pd.read_pickle('./proc/BibleTokenDf.pkl')\n",
    "VerseTokenDf['stopword'] = ~VerseTokenDf.loc[:, tokenCols[9:]].any(axis=1)\n",
    "VerseTokenDfIdx = pd.Index(range(1, (VerseTokenDf.shape[0]+1)), name='id')\n",
    "VerseTokenDf.index = VerseTokenDfIdx# = TokenDf.set_index(['p_id', 'token_id'])"
   ]
  },
  {
   "cell_type": "code",
   "execution_count": 60,
   "id": "8a1e788d-6ea1-4604-bddc-603988385b40",
   "metadata": {
    "tags": []
   },
   "outputs": [
    {
     "data": {
      "text/html": [
       "<div>\n",
       "<style scoped>\n",
       "    .dataframe tbody tr th:only-of-type {\n",
       "        vertical-align: middle;\n",
       "    }\n",
       "\n",
       "    .dataframe tbody tr th {\n",
       "        vertical-align: top;\n",
       "    }\n",
       "\n",
       "    .dataframe thead th {\n",
       "        text-align: right;\n",
       "    }\n",
       "</style>\n",
       "<table border=\"1\" class=\"dataframe\">\n",
       "  <thead>\n",
       "    <tr style=\"text-align: right;\">\n",
       "      <th></th>\n",
       "      <th>p_id</th>\n",
       "      <th>start</th>\n",
       "      <th>stop</th>\n",
       "      <th>text</th>\n",
       "      <th>token_id</th>\n",
       "      <th>head_id</th>\n",
       "      <th>rel</th>\n",
       "      <th>pos</th>\n",
       "      <th>lemma</th>\n",
       "      <th>anim</th>\n",
       "      <th>...</th>\n",
       "      <th>case</th>\n",
       "      <th>degree</th>\n",
       "      <th>gender</th>\n",
       "      <th>mood</th>\n",
       "      <th>number</th>\n",
       "      <th>person</th>\n",
       "      <th>tense</th>\n",
       "      <th>verb_form</th>\n",
       "      <th>voice</th>\n",
       "      <th>stopword</th>\n",
       "    </tr>\n",
       "    <tr>\n",
       "      <th>id</th>\n",
       "      <th></th>\n",
       "      <th></th>\n",
       "      <th></th>\n",
       "      <th></th>\n",
       "      <th></th>\n",
       "      <th></th>\n",
       "      <th></th>\n",
       "      <th></th>\n",
       "      <th></th>\n",
       "      <th></th>\n",
       "      <th></th>\n",
       "      <th></th>\n",
       "      <th></th>\n",
       "      <th></th>\n",
       "      <th></th>\n",
       "      <th></th>\n",
       "      <th></th>\n",
       "      <th></th>\n",
       "      <th></th>\n",
       "      <th></th>\n",
       "      <th></th>\n",
       "    </tr>\n",
       "  </thead>\n",
       "  <tbody>\n",
       "    <tr>\n",
       "      <th>1</th>\n",
       "      <td>1</td>\n",
       "      <td>0</td>\n",
       "      <td>1</td>\n",
       "      <td>В</td>\n",
       "      <td>1_1</td>\n",
       "      <td>1_2</td>\n",
       "      <td>case</td>\n",
       "      <td>ADP</td>\n",
       "      <td>в</td>\n",
       "      <td>None</td>\n",
       "      <td>...</td>\n",
       "      <td>None</td>\n",
       "      <td>None</td>\n",
       "      <td>None</td>\n",
       "      <td>None</td>\n",
       "      <td>None</td>\n",
       "      <td>None</td>\n",
       "      <td>None</td>\n",
       "      <td>None</td>\n",
       "      <td>None</td>\n",
       "      <td>True</td>\n",
       "    </tr>\n",
       "    <tr>\n",
       "      <th>2</th>\n",
       "      <td>1</td>\n",
       "      <td>2</td>\n",
       "      <td>8</td>\n",
       "      <td>начале</td>\n",
       "      <td>1_2</td>\n",
       "      <td>1_3</td>\n",
       "      <td>obl</td>\n",
       "      <td>NOUN</td>\n",
       "      <td>начало</td>\n",
       "      <td>Inan</td>\n",
       "      <td>...</td>\n",
       "      <td>Loc</td>\n",
       "      <td>None</td>\n",
       "      <td>Neut</td>\n",
       "      <td>None</td>\n",
       "      <td>Sing</td>\n",
       "      <td>None</td>\n",
       "      <td>None</td>\n",
       "      <td>None</td>\n",
       "      <td>None</td>\n",
       "      <td>False</td>\n",
       "    </tr>\n",
       "    <tr>\n",
       "      <th>3</th>\n",
       "      <td>1</td>\n",
       "      <td>9</td>\n",
       "      <td>17</td>\n",
       "      <td>сотворил</td>\n",
       "      <td>1_3</td>\n",
       "      <td>1_0</td>\n",
       "      <td>root</td>\n",
       "      <td>VERB</td>\n",
       "      <td>сотворить</td>\n",
       "      <td>None</td>\n",
       "      <td>...</td>\n",
       "      <td>None</td>\n",
       "      <td>None</td>\n",
       "      <td>Masc</td>\n",
       "      <td>Ind</td>\n",
       "      <td>Sing</td>\n",
       "      <td>None</td>\n",
       "      <td>Past</td>\n",
       "      <td>Fin</td>\n",
       "      <td>Act</td>\n",
       "      <td>False</td>\n",
       "    </tr>\n",
       "    <tr>\n",
       "      <th>4</th>\n",
       "      <td>1</td>\n",
       "      <td>18</td>\n",
       "      <td>21</td>\n",
       "      <td>Бог</td>\n",
       "      <td>1_4</td>\n",
       "      <td>1_3</td>\n",
       "      <td>nsubj</td>\n",
       "      <td>PROPN</td>\n",
       "      <td>бог</td>\n",
       "      <td>Anim</td>\n",
       "      <td>...</td>\n",
       "      <td>Nom</td>\n",
       "      <td>None</td>\n",
       "      <td>Masc</td>\n",
       "      <td>None</td>\n",
       "      <td>Sing</td>\n",
       "      <td>None</td>\n",
       "      <td>None</td>\n",
       "      <td>None</td>\n",
       "      <td>None</td>\n",
       "      <td>False</td>\n",
       "    </tr>\n",
       "    <tr>\n",
       "      <th>5</th>\n",
       "      <td>1</td>\n",
       "      <td>22</td>\n",
       "      <td>26</td>\n",
       "      <td>небо</td>\n",
       "      <td>1_5</td>\n",
       "      <td>1_3</td>\n",
       "      <td>obj</td>\n",
       "      <td>NOUN</td>\n",
       "      <td>небо</td>\n",
       "      <td>Inan</td>\n",
       "      <td>...</td>\n",
       "      <td>Acc</td>\n",
       "      <td>None</td>\n",
       "      <td>Neut</td>\n",
       "      <td>None</td>\n",
       "      <td>Sing</td>\n",
       "      <td>None</td>\n",
       "      <td>None</td>\n",
       "      <td>None</td>\n",
       "      <td>None</td>\n",
       "      <td>False</td>\n",
       "    </tr>\n",
       "    <tr>\n",
       "      <th>...</th>\n",
       "      <td>...</td>\n",
       "      <td>...</td>\n",
       "      <td>...</td>\n",
       "      <td>...</td>\n",
       "      <td>...</td>\n",
       "      <td>...</td>\n",
       "      <td>...</td>\n",
       "      <td>...</td>\n",
       "      <td>...</td>\n",
       "      <td>...</td>\n",
       "      <td>...</td>\n",
       "      <td>...</td>\n",
       "      <td>...</td>\n",
       "      <td>...</td>\n",
       "      <td>...</td>\n",
       "      <td>...</td>\n",
       "      <td>...</td>\n",
       "      <td>...</td>\n",
       "      <td>...</td>\n",
       "      <td>...</td>\n",
       "      <td>...</td>\n",
       "    </tr>\n",
       "    <tr>\n",
       "      <th>675064</th>\n",
       "      <td>37086</td>\n",
       "      <td>32</td>\n",
       "      <td>38</td>\n",
       "      <td>Христа</td>\n",
       "      <td>1_5</td>\n",
       "      <td>1_4</td>\n",
       "      <td>flat:name</td>\n",
       "      <td>PROPN</td>\n",
       "      <td>христос</td>\n",
       "      <td>Anim</td>\n",
       "      <td>...</td>\n",
       "      <td>Gen</td>\n",
       "      <td>None</td>\n",
       "      <td>Masc</td>\n",
       "      <td>None</td>\n",
       "      <td>Sing</td>\n",
       "      <td>None</td>\n",
       "      <td>None</td>\n",
       "      <td>None</td>\n",
       "      <td>None</td>\n",
       "      <td>False</td>\n",
       "    </tr>\n",
       "    <tr>\n",
       "      <th>675065</th>\n",
       "      <td>37086</td>\n",
       "      <td>39</td>\n",
       "      <td>41</td>\n",
       "      <td>со</td>\n",
       "      <td>1_6</td>\n",
       "      <td>1_8</td>\n",
       "      <td>case</td>\n",
       "      <td>ADP</td>\n",
       "      <td>с</td>\n",
       "      <td>None</td>\n",
       "      <td>...</td>\n",
       "      <td>None</td>\n",
       "      <td>None</td>\n",
       "      <td>None</td>\n",
       "      <td>None</td>\n",
       "      <td>None</td>\n",
       "      <td>None</td>\n",
       "      <td>None</td>\n",
       "      <td>None</td>\n",
       "      <td>None</td>\n",
       "      <td>True</td>\n",
       "    </tr>\n",
       "    <tr>\n",
       "      <th>675066</th>\n",
       "      <td>37086</td>\n",
       "      <td>42</td>\n",
       "      <td>47</td>\n",
       "      <td>всеми</td>\n",
       "      <td>1_7</td>\n",
       "      <td>1_8</td>\n",
       "      <td>det</td>\n",
       "      <td>DET</td>\n",
       "      <td>весь</td>\n",
       "      <td>None</td>\n",
       "      <td>...</td>\n",
       "      <td>Ins</td>\n",
       "      <td>None</td>\n",
       "      <td>None</td>\n",
       "      <td>None</td>\n",
       "      <td>Plur</td>\n",
       "      <td>None</td>\n",
       "      <td>None</td>\n",
       "      <td>None</td>\n",
       "      <td>None</td>\n",
       "      <td>False</td>\n",
       "    </tr>\n",
       "    <tr>\n",
       "      <th>675067</th>\n",
       "      <td>37086</td>\n",
       "      <td>48</td>\n",
       "      <td>52</td>\n",
       "      <td>вами</td>\n",
       "      <td>1_8</td>\n",
       "      <td>1_4</td>\n",
       "      <td>nmod</td>\n",
       "      <td>PRON</td>\n",
       "      <td>вы</td>\n",
       "      <td>None</td>\n",
       "      <td>...</td>\n",
       "      <td>Ins</td>\n",
       "      <td>None</td>\n",
       "      <td>None</td>\n",
       "      <td>None</td>\n",
       "      <td>Plur</td>\n",
       "      <td>2</td>\n",
       "      <td>None</td>\n",
       "      <td>None</td>\n",
       "      <td>None</td>\n",
       "      <td>False</td>\n",
       "    </tr>\n",
       "    <tr>\n",
       "      <th>675068</th>\n",
       "      <td>37086</td>\n",
       "      <td>54</td>\n",
       "      <td>59</td>\n",
       "      <td>Аминь</td>\n",
       "      <td>2_1</td>\n",
       "      <td>2_0</td>\n",
       "      <td>root</td>\n",
       "      <td>PROPN</td>\n",
       "      <td>аминь</td>\n",
       "      <td>Inan</td>\n",
       "      <td>...</td>\n",
       "      <td>Gen</td>\n",
       "      <td>None</td>\n",
       "      <td>Fem</td>\n",
       "      <td>None</td>\n",
       "      <td>Sing</td>\n",
       "      <td>None</td>\n",
       "      <td>None</td>\n",
       "      <td>None</td>\n",
       "      <td>None</td>\n",
       "      <td>False</td>\n",
       "    </tr>\n",
       "  </tbody>\n",
       "</table>\n",
       "<p>675068 rows × 21 columns</p>\n",
       "</div>"
      ],
      "text/plain": [
       "         p_id start stop      text token_id head_id        rel    pos  \\\n",
       "id                                                                      \n",
       "1           1     0    1         В      1_1     1_2       case    ADP   \n",
       "2           1     2    8    начале      1_2     1_3        obl   NOUN   \n",
       "3           1     9   17  сотворил      1_3     1_0       root   VERB   \n",
       "4           1    18   21       Бог      1_4     1_3      nsubj  PROPN   \n",
       "5           1    22   26      небо      1_5     1_3        obj   NOUN   \n",
       "...       ...   ...  ...       ...      ...     ...        ...    ...   \n",
       "675064  37086    32   38    Христа      1_5     1_4  flat:name  PROPN   \n",
       "675065  37086    39   41        со      1_6     1_8       case    ADP   \n",
       "675066  37086    42   47     всеми      1_7     1_8        det    DET   \n",
       "675067  37086    48   52      вами      1_8     1_4       nmod   PRON   \n",
       "675068  37086    54   59     Аминь      2_1     2_0       root  PROPN   \n",
       "\n",
       "            lemma  anim  ...  case degree gender  mood number person tense  \\\n",
       "id                       ...                                                 \n",
       "1               в  None  ...  None   None   None  None   None   None  None   \n",
       "2          начало  Inan  ...   Loc   None   Neut  None   Sing   None  None   \n",
       "3       сотворить  None  ...  None   None   Masc   Ind   Sing   None  Past   \n",
       "4             бог  Anim  ...   Nom   None   Masc  None   Sing   None  None   \n",
       "5            небо  Inan  ...   Acc   None   Neut  None   Sing   None  None   \n",
       "...           ...   ...  ...   ...    ...    ...   ...    ...    ...   ...   \n",
       "675064    христос  Anim  ...   Gen   None   Masc  None   Sing   None  None   \n",
       "675065          с  None  ...  None   None   None  None   None   None  None   \n",
       "675066       весь  None  ...   Ins   None   None  None   Plur   None  None   \n",
       "675067         вы  None  ...   Ins   None   None  None   Plur      2  None   \n",
       "675068      аминь  Inan  ...   Gen   None    Fem  None   Sing   None  None   \n",
       "\n",
       "       verb_form voice stopword  \n",
       "id                               \n",
       "1           None  None     True  \n",
       "2           None  None    False  \n",
       "3            Fin   Act    False  \n",
       "4           None  None    False  \n",
       "5           None  None    False  \n",
       "...          ...   ...      ...  \n",
       "675064      None  None    False  \n",
       "675065      None  None     True  \n",
       "675066      None  None    False  \n",
       "675067      None  None    False  \n",
       "675068      None  None    False  \n",
       "\n",
       "[675068 rows x 21 columns]"
      ]
     },
     "execution_count": 60,
     "metadata": {},
     "output_type": "execute_result"
    }
   ],
   "source": [
    "VerseTokenDf"
   ]
  },
  {
   "cell_type": "raw",
   "id": "b33e334d-392a-4af4-bf40-a73034189138",
   "metadata": {
    "tags": []
   },
   "source": [
    "TokenDf = pd.read_pickle('./proc/BibleVerseTokenDf.pkl')\n",
    "\n",
    "# add stopword boolean, True if all attribute columns are null\n",
    "TokenDf['stopword'] = ~TokenDf.loc[:, tokenCols[9:]].any(axis=1)\n",
    "TokenDfIdx = pd.Index(range(1, (TokenDf.shape[0]+1)), name='id')\n",
    "TokenDf.index = TokenDfIdx# = TokenDf.set_index(['p_id', 'token_id'])\n",
    "\n",
    "TokenDf"
   ]
  },
  {
   "cell_type": "code",
   "execution_count": null,
   "id": "55ce5ebc",
   "metadata": {
    "tags": []
   },
   "outputs": [],
   "source": [
    "# stopword counts\n",
    "\n",
    "VerseTokenDf.loc[TokenDf.stopword == True].lemma.value_counts()[:25]"
   ]
  },
  {
   "cell_type": "code",
   "execution_count": null,
   "id": "b44f7fe8",
   "metadata": {
    "tags": []
   },
   "outputs": [],
   "source": [
    "VerseTokenDf.loc[TokenDf[tokenCols[9]] == 'Anim'].lemma.value_counts().to_frame()"
   ]
  },
  {
   "cell_type": "code",
   "execution_count": null,
   "id": "49e473dd-1004-4f6f-a54b-bf6268702973",
   "metadata": {
    "tags": []
   },
   "outputs": [],
   "source": [
    "GetRankDf(VerseTokenDf)#.plot(x='rank')"
   ]
  },
  {
   "cell_type": "code",
   "execution_count": null,
   "id": "45b06b4f-9b73-49f3-9cca-2d3315a45bfa",
   "metadata": {
    "tags": []
   },
   "outputs": [],
   "source": [
    "GetRankDf(VerseTokenDf, 'pos')"
   ]
  },
  {
   "cell_type": "code",
   "execution_count": null,
   "id": "7d353255-0416-4f81-be7c-6ea4ee2551f3",
   "metadata": {
    "tags": []
   },
   "outputs": [],
   "source": [
    "VocabDf = VerseTokenDf.loc[VerseTokenDf.stopword != True].lemma.value_counts().to_frame().reset_index()\n",
    "VocabDf.columns = ['lemma', 'count']\n",
    "VocabDf.index = VocabDf.index.map(lambda x: x + 1).rename('rank')\n",
    "VocabDf.iloc[:25]#.plot(x='rank')"
   ]
  },
  {
   "cell_type": "code",
   "execution_count": null,
   "id": "8e946c6c",
   "metadata": {
    "tags": []
   },
   "outputs": [],
   "source": [
    "bibliiaType = {'test':str, 'book':str, 'chap':int, 'verse':int}\n",
    "bibliiaDf = pd.read_json(bibleJSON, orient='index', dtype=bibliiaType)\n",
    "bibliiaDf.index.name = 'p_id'\n",
    "#bibliiaDf.verse = bibliiaDf.verse.astype(int)\n",
    "p_idDict = bibliiaDf.drop('text', axis=1).to_dict(orient='index')\n",
    "bibliiaDf"
   ]
  },
  {
   "cell_type": "code",
   "execution_count": null,
   "id": "7c72a480",
   "metadata": {},
   "outputs": [],
   "source": [
    "# dictionary with verse lines in format \n",
    "# {book: {0: first_line, last_line}, {chap_num: (first_chap_line, last_chap_line)}}\n",
    "PartLineNumsDict = {}\n",
    "for test_name in bibliiaDf.test.unique():\n",
    "    t_min = bibliiaDf.loc[bibliiaDf['test'] == test_name].reset_index().p_id.min()\n",
    "    t_max = bibliiaDf.loc[bibliiaDf['test'] == test_name].reset_index().p_id.max()\n",
    "    print(f\"{test_name}: {t_min} - {t_max}\")\n",
    "    for book_name in bibliiaDf.book.unique():\n",
    "        b_min = bibliiaDf.loc[bibliiaDf['book'] == book_name].reset_index().p_id.min()\n",
    "        b_max = bibliiaDf.loc[bibliiaDf['book'] == book_name].reset_index().p_id.max()\n",
    "        PartLineNumsDict.update({book_name: {0: (b_min, b_max)}})\n",
    "        #print(f\"{book_name}: {b_min} - {b_max}\")\n",
    "        for chap_name in bibliiaDf.loc[bibliiaDf['book'] == book_name].chap.unique():\n",
    "            c_min = bibliiaDf.loc[(bibliiaDf['book'] == book_name) & (bibliiaDf['chap'] == chap_name)].reset_index().p_id.min()\n",
    "            c_max = bibliiaDf.loc[(bibliiaDf['book'] == book_name) & (bibliiaDf['chap'] == chap_name)].reset_index().p_id.max()\n",
    "            PartLineNumsDict[book_name][chap_name] = (c_min, c_max)\n",
    "            #    print(f\"{chap_name}: {c_min} - {c_max}\")\n",
    "#print(PartLineNumsDict)"
   ]
  },
  {
   "cell_type": "code",
   "execution_count": null,
   "id": "ebc62436",
   "metadata": {
    "tags": []
   },
   "outputs": [],
   "source": [
    "TokenDf.loc[(TokenDf['p_id'] >= count_start) & (TokenDf['p_id'] <= count_stop)].lemma.value_counts()"
   ]
  },
  {
   "cell_type": "code",
   "execution_count": null,
   "id": "29f58ad1",
   "metadata": {
    "tags": []
   },
   "outputs": [],
   "source": [
    "[x for x in PartLineNumsDict]"
   ]
  },
  {
   "cell_type": "markdown",
   "id": "3743613d",
   "metadata": {},
   "source": [
    "### Manual TF-IDF"
   ]
  },
  {
   "cell_type": "code",
   "execution_count": null,
   "id": "600ef283",
   "metadata": {
    "tags": []
   },
   "outputs": [],
   "source": [
    "# TF-IDF\n",
    "\n",
    "TfidfDf = TokenDf.reindex(columns=['text', 'lemma', 'tfidf_bible', 'tfidf_book', 'tfidf_chap'])\n",
    "#vocab = TokenDf.loc[TokenDf['p_id'] <= 10, 'lemma'].unique().tolist()\n",
    "\n",
    "def getTFIDF(count_start=0, count_stop=(TokenDf.shape[0]+1)):\n",
    "\n",
    "    return TFIDF\n",
    "\n",
    "count_start = 0\n",
    "count_stop = (TokenDf.shape[0]+1)\n",
    "\n",
    "TfidfCountDf = TokenDf.loc[(TokenDf['p_id'] >= count_start) & (TokenDf['p_id'] <= count_stop)][['p_id', 'lemma']]\n",
    "VocabCountDict = TfidfCountDf.value_counts('lemma').to_dict()\n",
    "\n",
    "total_words = sum(VocabCountDict.values())\n",
    "num_docs = TfidfCountDf.p_id.unique().size\n",
    "    \n",
    "for lemma in VocabCountDict.keys(): \n",
    "\n",
    "    instances = VocabCountDict.get(lemma)\n",
    "    docsw_word = TfidfCountDf.loc[TfidfCountDf['lemma'] == lemma].p_id.unique().size\n",
    "\n",
    "    TF = instances / total_words\n",
    "    IDF = num_docs / docsw_word\n",
    "    TFIDF = TF * IDF\n",
    "\n",
    "    TfidfDf['tfidf_bible'].loc[TfidfDf['lemma'] == lemma] = TFIDF\n",
    "\n",
    "#TfidfDf['tfidf_bible'] = TokenDf\n",
    "\n",
    "# PartLineNumsDict = {book: {0: first_line, last_line}, {chap_num: (first_chap_line, last_chap_line)}}\n",
    "\n",
    "TfidfDf"
   ]
  },
  {
   "cell_type": "code",
   "execution_count": null,
   "id": "55cc8070",
   "metadata": {},
   "outputs": [],
   "source": [
    "TfidfDf.to_pickle('./proc/TfidfDf.pkl')"
   ]
  },
  {
   "cell_type": "code",
   "execution_count": null,
   "id": "3c127e27-acdb-4275-9267-f77aa35a2742",
   "metadata": {
    "tags": []
   },
   "outputs": [],
   "source": [
    "TfidfDf = pd.read_pickle('./proc/TfidfDf.pkl')\n",
    "TfidfDf"
   ]
  },
  {
   "cell_type": "code",
   "execution_count": null,
   "id": "0a063fd2-74cf-4caa-afc0-703f66d685dc",
   "metadata": {
    "tags": []
   },
   "outputs": [],
   "source": [
    "GetRankDf(TokenDf)"
   ]
  },
  {
   "cell_type": "code",
   "execution_count": null,
   "id": "c4a1834d",
   "metadata": {
    "tags": []
   },
   "outputs": [],
   "source": [
    "TfidfDf.sort_values('tfidf_bible', ascending=False).lemma.unique()[:20]"
   ]
  },
  {
   "cell_type": "markdown",
   "id": "59284a3a",
   "metadata": {},
   "source": [
    "## NER-supplemented Bible text\n",
    "\n",
    "pronominal references swapped with names"
   ]
  },
  {
   "cell_type": "markdown",
   "id": "bad8bbd1-1007-4566-b30b-3a1621892769",
   "metadata": {},
   "source": [
    "## Bible Phrase Dictionary"
   ]
  },
  {
   "cell_type": "code",
   "execution_count": null,
   "id": "f147eb18-47bd-4379-b7ab-33e33090c3a0",
   "metadata": {},
   "outputs": [],
   "source": [
    "with open(bibFrazyTXT) as bibleFrazy: \n",
    "    bibleFrazyLines = bibleFrazy.readlines()"
   ]
  },
  {
   "cell_type": "code",
   "execution_count": null,
   "id": "89a2b903-c7ea-4ef9-8065-8dc55851b29c",
   "metadata": {},
   "outputs": [],
   "source": [
    "BibleFrazyDf = pd.DataFrame(bibleFrazyLines).rename(columns={0:'fraza'})\n",
    "BibleFrazyDf.loc[:,'fraza'] = BibleFrazyDf.loc[:,'fraza'].apply(lambda x: x.strip().strip('\\n').translate(str.maketrans('', '', string.punctuation)))\n",
    "BibleFrazyDf = BibleFrazyDf.loc[BibleFrazyDf.fraza != '']"
   ]
  },
  {
   "cell_type": "code",
   "execution_count": null,
   "id": "ceffb14b-cb9a-46c7-8d0d-531ef25cafd2",
   "metadata": {},
   "outputs": [],
   "source": [
    "frazyList = BibleFrazyDf.loc[30189:].fraza.to_list()\n",
    "FrazyDf = pd.DataFrame(data=frazyList).rename(columns={0:'fraza'})\n",
    "FrazyDf.index.name = 'f_id'\n",
    "FrazyDf"
   ]
  },
  {
   "cell_type": "code",
   "execution_count": null,
   "id": "99cc5f68-f031-40d1-9e44-576d345dc584",
   "metadata": {
    "tags": []
   },
   "outputs": [],
   "source": [
    "FrazyDf.iloc[7]"
   ]
  },
  {
   "cell_type": "code",
   "execution_count": null,
   "id": "e1ce1a93",
   "metadata": {},
   "outputs": [],
   "source": [
    "%%capture\n",
    "FrazyTokenDf = nat_parse(FrazyDf, textCol='fraza')\n",
    "FrazyTokenDf['stopword'] = ~FrazyTokenDf.loc[:, tokenCols[9:]].any(axis=1)\n",
    "FrazyTokenDf = FrazyTokenDf.set_index('p_id')\n",
    "#FrazyTokenDf.index.name = 'p_token'\n",
    "#FrazyTokenDf = FrazyTokenDf.reset_index()"
   ]
  },
  {
   "cell_type": "code",
   "execution_count": null,
   "id": "7cab19c2-b3e7-4840-a00a-c8fffed61b88",
   "metadata": {
    "tags": []
   },
   "outputs": [],
   "source": [
    "FrazyTokenDf#.set_index(['p_id', 'token_id'])"
   ]
  },
  {
   "cell_type": "code",
   "execution_count": null,
   "id": "cece2957",
   "metadata": {},
   "outputs": [],
   "source": [
    "pos_lists = []\n",
    "for x in range(0,(FrazyTokenDf.p_id.max()+1)):\n",
    "    pos_lists.append(FrazyTokenDf.loc[(FrazyTokenDf.p_id == x) & (FrazyTokenDf.stopword == False)].lemma.unique())"
   ]
  },
  {
   "cell_type": "code",
   "execution_count": null,
   "id": "75a515eb-f65c-4228-a031-a572d20c4ed6",
   "metadata": {
    "tags": []
   },
   "outputs": [],
   "source": [
    "pos_lists"
   ]
  },
  {
   "cell_type": "code",
   "execution_count": null,
   "id": "32c15ece",
   "metadata": {},
   "outputs": [],
   "source": [
    "#bibliiaDf.loc[(bibliiaDf.test == 'N')]\n",
    "bibliiaDf#.loc[(bibliiaDf.book == 'Lk') & (bibliiaDf.chap == 10) & (bibliiaDf.verse == '42')]"
   ]
  },
  {
   "cell_type": "code",
   "execution_count": null,
   "id": "15963095",
   "metadata": {},
   "outputs": [],
   "source": [
    "bibliiaDf.loc[31412].text"
   ]
  },
  {
   "cell_type": "code",
   "execution_count": null,
   "id": "14ce8ea2",
   "metadata": {
    "tags": []
   },
   "outputs": [],
   "source": [
    "#phraseList = [x.tolist() for x in pos_lists]\n",
    "for verse_id in range(31400,31450):\n",
    "    print(f\"verse_id: {verse_id}\")\n",
    "    testVerse = TokenDf.loc[(TokenDf.p_id == verse_id) & (TokenDf.stopword == False)].lemma.tolist()\n",
    "    print(f\"testVerse: {testVerse}\")\n",
    "    for phrase in pos_lists:\n",
    "        print(f\"phrase: {phrase}\")\n",
    "        i = 0\n",
    "        for word in phrase:\n",
    "            if word in testVerse:\n",
    "                i+=1\n",
    "        print(f\"{verse_id} : {i} / {phrase.size}\")"
   ]
  },
  {
   "cell_type": "code",
   "execution_count": null,
   "id": "a08577df",
   "metadata": {},
   "outputs": [],
   "source": [
    "TokenDf.loc[TokenDf.p_id == 31400]"
   ]
  },
  {
   "cell_type": "code",
   "execution_count": null,
   "id": "b8a17e15",
   "metadata": {},
   "outputs": [],
   "source": [
    "FrazyDf.loc[FrazyDf.p_id == 31400].lemma.tolist()"
   ]
  },
  {
   "cell_type": "code",
   "execution_count": null,
   "id": "b9cff844",
   "metadata": {},
   "outputs": [],
   "source": [
    "testPhrase = FrazyDf.loc[FrazyDf.p_id == 22].lemma.unique()"
   ]
  },
  {
   "cell_type": "code",
   "execution_count": null,
   "id": "5183d7e1",
   "metadata": {},
   "outputs": [],
   "source": [
    "testVerse = TokenDf.loc[TokenDf.p_id == 31412].lemma.tolist()"
   ]
  },
  {
   "cell_type": "code",
   "execution_count": null,
   "id": "f2838981",
   "metadata": {},
   "outputs": [],
   "source": [
    "i = 0\n",
    "print(testPhrase.tolist())\n",
    "print(testVerse)\n",
    "for x in testPhrase.tolist():\n",
    "    if x in testVerse:\n",
    "        i+=1\n",
    "print(f\"i = {i}\")\n",
    "if i == testPhrase.size:\n",
    "    print(\"phrase in verse\")"
   ]
  },
  {
   "cell_type": "code",
   "execution_count": null,
   "id": "1f2fb4f8",
   "metadata": {},
   "outputs": [],
   "source": [
    "for x in pos_lists[20:25]:\n",
    "    print(x)\n",
    "    for y in TokenDf.p_id:\n",
    "        #print(TokenDf.loc[TokenDf.p_id == y].lemma.unique())\n",
    "        #if x in TokenDf.loc[TokenDf.p_id == y].lemma.unique():\n",
    "            #print(f\"{x} in {y}\")"
   ]
  },
  {
   "cell_type": "code",
   "execution_count": null,
   "id": "ba2f4e2f-e23e-4c02-98d2-d094f3248d60",
   "metadata": {
    "tags": []
   },
   "outputs": [],
   "source": [
    "FrazyAbbrsDf = BibleFrazyDf.iloc[:105].fraza.str.split(' – ', expand=True).rename(columns={0:\"abbr\", 1:\"fraza\"})\n",
    "FrazyAbbrsDf.loc[:,'abbr'] = FrazyAbbrsDf.loc[:,'abbr'].apply(lambda x: x.strip())\n",
    "FrazyAbbrsDf.loc[:,'fraza'] = FrazyAbbrsDf.loc[:,'fraza'].apply(lambda x: x.strip())\n",
    "FrazyAbbrsDict = FrazyAbbrsDf.set_index('abbr').to_dict().get('fraza')\n",
    "FrazyAbbrsDict"
   ]
  },
  {
   "cell_type": "raw",
   "id": "2837ee73",
   "metadata": {
    "tags": []
   },
   "source": [
    "# function for applying all of natasha's morphological tagger components to tokens to make a TokenDf\n",
    "def nat_parse(textDf=BibTextDf, textCol='text', columns=tokenCols): \n",
    "    # initialize token dataframe\n",
    "    tokenDf = pd.DataFrame(columns=columns)\n",
    "    # gather row list\n",
    "    for an_id in textDf.index: \n",
    "        pDict = []\n",
    "        doc = Doc(textDf.loc[an_id][textCol])\n",
    "        doc.segment(segmenter)\n",
    "        doc.tag_morph(morph_tagger)\n",
    "        for token in doc.tokens: \n",
    "            token.lemmatize(morph_vocab)\n",
    "        doc.parse_syntax(syntax_parser)\n",
    "        doc.tag_ner(ner_tagger)\n",
    "        #for sent in enumerate(doc.sents): \n",
    "        #sent_num = sent[0]\n",
    "        #sent_text = sent[1]\n",
    "        for token in [x for x in doc.tokens if x.pos != 'PUNCT']: \n",
    "            #token_num = token[0]\n",
    "            #token_text = token[1]\n",
    "            start = token.start\n",
    "            stop = token.stop\n",
    "            text = token.text\n",
    "            token_id = token.id\n",
    "            head_id = token.head_id\n",
    "            rel = token.rel\n",
    "            pos = token.pos\n",
    "            lemma = token.lemma\n",
    "            # Animacy, Aspect, Case, Degree, Gender, Mood, Number, Person, Tense, VerbForm, Voice\n",
    "            try: \n",
    "                anim = token.feats['Animacy']\n",
    "            except: \n",
    "                anim = None\n",
    "            try: \n",
    "                aspect = token.feats['Aspect']\n",
    "            except: \n",
    "                aspect = None\n",
    "            try: \n",
    "                case = token.feats['Case']\n",
    "            except: \n",
    "                case = None\n",
    "            try: \n",
    "                degree = token.feats['Degree']\n",
    "            except: \n",
    "                degree = None\n",
    "            try: \n",
    "                gender = token.feats['Gender']\n",
    "            except: \n",
    "                gender = None\n",
    "            try: \n",
    "                mood = token.feats['Mood']\n",
    "            except: \n",
    "                mood = None\n",
    "            try: \n",
    "                number = token.feats['Number']\n",
    "            except: \n",
    "                number = None\n",
    "            try: \n",
    "                person = token.feats['Person']\n",
    "            except: \n",
    "                person = None\n",
    "            try: \n",
    "                tense = token.feats['Tense']\n",
    "            except: \n",
    "                tense = None\n",
    "            try: \n",
    "                verb_form = token.feats['VerbForm']\n",
    "            except: \n",
    "                verb_form = None\n",
    "            try: \n",
    "                voice = token.feats['Voice']\n",
    "            except: \n",
    "                voice = None\n",
    "            #print(token)\n",
    "            tokenDict = {\n",
    "                'p_id': an_id,\n",
    "                #'token_num': token_num, \n",
    "                'start': start, \n",
    "                'stop': stop, \n",
    "                'text': text, \n",
    "                'token_id': token_id, \n",
    "                'head_id': head_id, \n",
    "                'rel': rel, \n",
    "                'pos': pos, \n",
    "                'lemma': lemma, \n",
    "                'anim': anim, \n",
    "                'aspect': aspect, \n",
    "                'case': case, \n",
    "                'degree': degree, \n",
    "                'gender': gender, \n",
    "                'mood': mood, \n",
    "                'number': number, \n",
    "                'person': person, \n",
    "                'tense': tense, \n",
    "                'verb_form': verb_form, \n",
    "                'voice': voice\n",
    "            }\n",
    "            pDict.append(tokenDict)\n",
    "            #print(sent)\n",
    "            pDf = pd.DataFrame(pDict, columns=columns)\n",
    "        tokenDf = pd.concat([tokenDf, pDf])\n",
    "    return tokenDf"
   ]
  },
  {
   "cell_type": "raw",
   "id": "954df7a5",
   "metadata": {
    "tags": []
   },
   "source": [
    "%%time\n",
    "with requests.get(\"https://ru.wikipedia.org/wiki/Книги_Библии\") as r: \n",
    "    if r.status_code == 200: \n",
    "        s = BeautifulSoup(r.content, 'html.parser')\n",
    "    else: \n",
    "        print(r.status_code)\n",
    "\n",
    "n=0\n",
    "booksDict = {}\n",
    "\n",
    "for book_row in s.find_all('table')[1].find_all('tr')[2:]: \n",
    "    try: \n",
    "        bookDict = {\n",
    "            \"rus_name\": book_row.find('td').text,\n",
    "            #\"lat_name\": book_row.find_all('td')[1].text,\n",
    "            \"eng_name\": book_row.find_all('td')[2].text,\n",
    "            #\"gre_name\": book_row.find_all('td')[3].text,\n",
    "            \"rus_abbr\": re.search(r'\\w+', book_row.find_all('td')[4].text).group(),\n",
    "            \"eng_abbr\": book_row.find_all('td')[5].text\n",
    "        }\n",
    "        booksDict.update({n: bookDict})\n",
    "        n+=1\n",
    "    except: \n",
    "        pass\n",
    "\n",
    "for book_row in s.find_all('table')[2].find_all('tr')[2:]: \n",
    "    if book_row.find('td').find('a').text != 'Четвёртая книга Маккавейская':\n",
    "        bookDict = {\n",
    "            \"rus_name\": book_row.find('td').find('a').text,\n",
    "            #\"lat_name\": book_row.find_all('td')[3].text,\n",
    "            \"eng_name\": book_row.find_all('td')[4].text.replace('\\n','')\n",
    "        }\n",
    "        booksDict.update({n: bookDict})\n",
    "        n+=1\n",
    "        \n",
    "for book_row in s.find_all('table')[3].find_all('tr')[2:]: \n",
    "    bookDict = {\n",
    "        \"rus_name\": book_row.find('td').find('a').text,\n",
    "        #\"lat_name\": book_row.find_all('td')[3].text,\n",
    "        \"eng_name\": book_row.find_all('td')[4].text.replace('\\n',''),\n",
    "        #print(f\"rus_abbr: {book_row.find_all('td')[5].text}\"),\n",
    "        #print(f\"eng_abbr: {book_row.find_all('td')[6].text}\"),\n",
    "        \"rus_abbr\": re.search(r'^\\d?\\s?\\w+', book_row.find_all('td')[5].text).group(),\n",
    "        \"eng_abbr\": re.search(r'^\\d?\\s?\\w+', book_row.find_all('td')[6].text).group()\n",
    "    }\n",
    "    booksDict.update({n: bookDict})\n",
    "    n+=1\n",
    "print(booksDict)"
   ]
  }
 ],
 "metadata": {
  "kernelspec": {
   "display_name": "diss",
   "language": "python",
   "name": "diss"
  },
  "language_info": {
   "codemirror_mode": {
    "name": "ipython",
    "version": 3
   },
   "file_extension": ".py",
   "mimetype": "text/x-python",
   "name": "python",
   "nbconvert_exporter": "python",
   "pygments_lexer": "ipython3",
   "version": "3.10.13"
  },
  "vscode": {
   "interpreter": {
    "hash": "293d930ecca589385d8136ae0476c1fde7dc48a83b398052354be2f05bed9ba3"
   }
  }
 },
 "nbformat": 4,
 "nbformat_minor": 5
}
