{
 "cells": [
  {
   "cell_type": "markdown",
   "id": "79c27cba-108f-4099-8d6b-d0247dff02b3",
   "metadata": {},
   "source": [
    "# Text to XML"
   ]
  },
  {
   "cell_type": "markdown",
   "id": "590fbae0-d255-41a8-83c4-49165581aad6",
   "metadata": {},
   "source": [
    "## Import"
   ]
  },
  {
   "cell_type": "markdown",
   "id": "3e382207-1ec8-4cad-93fb-cd477ff69370",
   "metadata": {},
   "source": [
    "### Libraries"
   ]
  },
  {
   "cell_type": "code",
   "execution_count": 1,
   "id": "3264178a-5431-4550-b9ea-9a676ef15150",
   "metadata": {},
   "outputs": [],
   "source": [
    "import os \n",
    "import codecs\n",
    "from lxml import etree\n",
    "\n",
    "from backend import *"
   ]
  },
  {
   "cell_type": "markdown",
   "id": "6a0bb35b-c123-4fe8-a402-48a48209a22a",
   "metadata": {},
   "source": [
    "### Definitions"
   ]
  },
  {
   "cell_type": "code",
   "execution_count": 2,
   "id": "0f0c4ab2-ec68-475a-a913-bbfc1811d558",
   "metadata": {},
   "outputs": [],
   "source": [
    "texts = '../texts/fiction/'\n",
    "\n",
    "libCols = ['author','pub_year','title','text']\n",
    "tokenOHCO = ['w_id','part_num','para_num', 'sent_num', 'token_num']\n",
    "tokenCols = ['p_id', 'start', 'stop', 'text', 'token_id', 'head_id', 'rel', 'pos', 'lemma', 'anim', 'aspect', 'case', 'degree', 'gender', 'mood', 'number', 'person', 'tense', 'verb_form', 'voice']"
   ]
  },
  {
   "cell_type": "markdown",
   "id": "86601771-34cf-42df-8efd-505e135407a5",
   "metadata": {},
   "source": [
    "## Primary Texts"
   ]
  },
  {
   "cell_type": "code",
   "execution_count": 7,
   "id": "52562656-8440-4429-89ab-1c4579b200d4",
   "metadata": {},
   "outputs": [
    {
     "name": "stderr",
     "output_type": "stream",
     "text": [
      "/home/xtra/code/diss/codebase/backend.py:172: FutureWarning: The default value of regex will change from True to False in a future version.\n",
      "  textDf['text'] = textDf.text.str.replace('\\n|\\s{2,}', '')\n"
     ]
    },
    {
     "data": {
      "text/html": [
       "<div>\n",
       "<style scoped>\n",
       "    .dataframe tbody tr th:only-of-type {\n",
       "        vertical-align: middle;\n",
       "    }\n",
       "\n",
       "    .dataframe tbody tr th {\n",
       "        vertical-align: top;\n",
       "    }\n",
       "\n",
       "    .dataframe thead th {\n",
       "        text-align: right;\n",
       "    }\n",
       "</style>\n",
       "<table border=\"1\" class=\"dataframe\">\n",
       "  <thead>\n",
       "    <tr style=\"text-align: right;\">\n",
       "      <th></th>\n",
       "      <th>chapID</th>\n",
       "      <th>para</th>\n",
       "      <th>text</th>\n",
       "      <th>paraID</th>\n",
       "    </tr>\n",
       "  </thead>\n",
       "  <tbody>\n",
       "    <tr>\n",
       "      <th>0</th>\n",
       "      <td>1</td>\n",
       "      <td>1</td>\n",
       "      <td>Каждый день над рабочей слободкой, в дымном, м...</td>\n",
       "      <td>1</td>\n",
       "    </tr>\n",
       "    <tr>\n",
       "      <th>1</th>\n",
       "      <td>1</td>\n",
       "      <td>2</td>\n",
       "      <td>Вечером, когда садилось солнце, и на стеклах д...</td>\n",
       "      <td>2</td>\n",
       "    </tr>\n",
       "    <tr>\n",
       "      <th>2</th>\n",
       "      <td>1</td>\n",
       "      <td>3</td>\n",
       "      <td>День проглочен фабрикой, машины высосали из му...</td>\n",
       "      <td>3</td>\n",
       "    </tr>\n",
       "    <tr>\n",
       "      <th>3</th>\n",
       "      <td>1</td>\n",
       "      <td>4</td>\n",
       "      <td>По праздникам спали часов до десяти, потом люд...</td>\n",
       "      <td>4</td>\n",
       "    </tr>\n",
       "    <tr>\n",
       "      <th>4</th>\n",
       "      <td>1</td>\n",
       "      <td>5</td>\n",
       "      <td>Усталость, накопленная годами, лишала людей ап...</td>\n",
       "      <td>5</td>\n",
       "    </tr>\n",
       "    <tr>\n",
       "      <th>...</th>\n",
       "      <td>...</td>\n",
       "      <td>...</td>\n",
       "      <td>...</td>\n",
       "      <td>...</td>\n",
       "    </tr>\n",
       "    <tr>\n",
       "      <th>4490</th>\n",
       "      <td>58</td>\n",
       "      <td>90</td>\n",
       "      <td>Ударили по руке.</td>\n",
       "      <td>4432</td>\n",
       "    </tr>\n",
       "    <tr>\n",
       "      <th>4491</th>\n",
       "      <td>58</td>\n",
       "      <td>91</td>\n",
       "      <td>-- Только злобы накопите, безумные! На вас она...</td>\n",
       "      <td>4433</td>\n",
       "    </tr>\n",
       "    <tr>\n",
       "      <th>4492</th>\n",
       "      <td>58</td>\n",
       "      <td>92</td>\n",
       "      <td>Жандарм схватил ее за горло и стал душить. Она...</td>\n",
       "      <td>4434</td>\n",
       "    </tr>\n",
       "    <tr>\n",
       "      <th>4493</th>\n",
       "      <td>58</td>\n",
       "      <td>93</td>\n",
       "      <td>-- Несчастные...</td>\n",
       "      <td>4435</td>\n",
       "    </tr>\n",
       "    <tr>\n",
       "      <th>4494</th>\n",
       "      <td>58</td>\n",
       "      <td>94</td>\n",
       "      <td>Кто-то ответил ей громким рыданием.</td>\n",
       "      <td>4436</td>\n",
       "    </tr>\n",
       "  </tbody>\n",
       "</table>\n",
       "<p>4436 rows × 4 columns</p>\n",
       "</div>"
      ],
      "text/plain": [
       "      chapID  para                                               text  paraID\n",
       "0          1     1  Каждый день над рабочей слободкой, в дымном, м...       1\n",
       "1          1     2  Вечером, когда садилось солнце, и на стеклах д...       2\n",
       "2          1     3  День проглочен фабрикой, машины высосали из му...       3\n",
       "3          1     4  По праздникам спали часов до десяти, потом люд...       4\n",
       "4          1     5  Усталость, накопленная годами, лишала людей ап...       5\n",
       "...      ...   ...                                                ...     ...\n",
       "4490      58    90                                   Ударили по руке.    4432\n",
       "4491      58    91  -- Только злобы накопите, безумные! На вас она...    4433\n",
       "4492      58    92  Жандарм схватил ее за горло и стал душить. Она...    4434\n",
       "4493      58    93                                   -- Несчастные...    4435\n",
       "4494      58    94                Кто-то ответил ей громким рыданием.    4436\n",
       "\n",
       "[4436 rows x 4 columns]"
      ]
     },
     "execution_count": 7,
     "metadata": {},
     "output_type": "execute_result"
    }
   ],
   "source": [
    "motherTextDf = textRegularize(libTextsDf, 6)\n",
    "motherTextDf"
   ]
  },
  {
   "cell_type": "markdown",
   "id": "d23863b0-bbe1-4715-af35-6cd7cb636fb6",
   "metadata": {
    "tags": []
   },
   "source": [
    "### Make XML"
   ]
  },
  {
   "cell_type": "code",
   "execution_count": null,
   "id": "eefc4e08-4f2c-439a-bbd3-d75ac642c60b",
   "metadata": {
    "tags": []
   },
   "outputs": [],
   "source": [
    "root = etree.Element(\"text\")\n",
    "print(root.tag)\n",
    "pt = ch = cn = pa = pn = 0\n",
    "nameDict = motherDf.chap.to_dict()\n",
    "for part in motherXmlDf.part.unique():\n",
    "    print(f\"Part {part}\")\n",
    "    root.append(etree.Element(\"part\", n=str(part), name=str(part)))\n",
    "    chapList = motherXmlDf.loc[motherXmlDf['part'] == part].chapID.unique()\n",
    "    #print(chapList)\n",
    "    for chap in chapList:\n",
    "        #print(f\"Chap {chap}\")\n",
    "        root[pt].append(etree.Element(\"chapter\", n=str(cn+1), name=nameDict.get(chap)))\n",
    "        paraList = motherXmlDf.loc[(motherXmlDf['part'] == part) & (motherXmlDf['chapID'] == chap)].index\n",
    "        #print(paraList)\n",
    "        for paragraph in paraList:\n",
    "            #print(f\"Paragraph {paragraph}\")\n",
    "            root[pt][ch].append(etree.Element(\"paragraph\", n=str(pn+1), name=str(pa+1)))\n",
    "            paraText = motherXmlDf.loc[paragraph].text\n",
    "            #print(f\"paraText: {paraText}\")\n",
    "            #print(f\"pt = {pt}; ch = {ch}; paragraph = {paragraph}\")\n",
    "            root[pt][ch][pa].text = paraText\n",
    "            pa+=1\n",
    "            pn+=1\n",
    "        pa=0\n",
    "        ch+=1\n",
    "        cn+=1\n",
    "    ch=0\n",
    "    pt+=1\n",
    "#t+=1\n",
    "#print(etree.tostring(root, pretty_print=True, xml_declaration=True))\n",
    "#etree.ElementTree(root).write('../site/texts/mother.xml', pretty_print=True, xml_declaration=True, encoding='windows-1251')"
   ]
  },
  {
   "cell_type": "code",
   "execution_count": 47,
   "id": "1e2dd463-2811-4e76-990e-c5807ff74c1d",
   "metadata": {
    "tags": []
   },
   "outputs": [
    {
     "name": "stdout",
     "output_type": "stream",
     "text": [
      "prose\n",
      "Part 1\n",
      "Part 2\n"
     ]
    }
   ],
   "source": [
    "root = etree.Element(\"prose\")\n",
    "print(root.tag)\n",
    "pt = ch = pa = 1\n",
    "#TestList = [x for x in bibliiaDf.test.unique()]\n",
    "#for test in range(len(TestList)): \n",
    "#    root.append(etree.Element(\"t\", n=str(t), name=TestList[test]))\n",
    "\n",
    "for part in motherXmlDf.part.unique(): \n",
    "    print(f\"Part {part}\")\n",
    "    ChapList = list(motherXmlDf.loc[motherXmlDf['part'] == str(part)].index)\n",
    "    for chap in ChapList:\n",
    "        print(f\"Chap {chap}\")\n",
    "        root[int(part)-1].append(etree.Element(\"chap\", n=str(ch), name=str(chap)))\n",
    "        ParaList = list(motherXmlDf.loc[(motherXmlDf['part'] == part) & (motherXmlDf['chap'] == chap)].index)\n",
    "        for para in ParaList:\n",
    "            print(f\"Para {para}\")\n",
    "            root[part][chap].append(etree.Element(\"para\", n=str(pa), name=str(para)))\n",
    "            para_text = motherXmlDf.loc[pa].text\n",
    "            print(f\"Paratext: {para_text}\")\n",
    "            "
   ]
  },
  {
   "cell_type": "code",
   "execution_count": null,
   "id": "9077e872-00ec-4f11-9ffa-36fc008048d6",
   "metadata": {
    "tags": []
   },
   "outputs": [],
   "source": [
    "motherXmlDf = motherTextDf['text'].str.split(' \\n', expand=True).stack().to_frame().reset_index().rename(columns={'level_0':'chapID','level_1':'para',0:'text'})\n",
    "motherXmlDf = motherXmlDf.loc[~motherXmlDf.text.str.contains(r\"^\\W*$\", regex=True)]\n",
    "motherXmlDf['text'] = motherXmlDf.text.str.replace('\\n|\\s{2,}', '')\n",
    "motherXmlDf['part'] = motherXmlDf.chapID.apply(lambda x: int('1') if x < 30 else int('2'))\n",
    "motherXmlDf['chap'] = motherXmlDf.chapID.map(motherTextDf['chapID'].to_dict())\n",
    "motherXmlDf['para'] = motherXmlDf['para'].apply(lambda x: x+1)\n",
    "motherXmlDf['paraID'] = range(1, len(motherXmlDf)+1)\n",
    "motherXmlDf = motherXmlDf.reset_index().drop('index', axis=1)\n",
    "\n",
    "motherXmlDf"
   ]
  }
 ],
 "metadata": {
  "kernelspec": {
   "display_name": "Python 3 (ipykernel)",
   "language": "python",
   "name": "python3"
  },
  "language_info": {
   "codemirror_mode": {
    "name": "ipython",
    "version": 3
   },
   "file_extension": ".py",
   "mimetype": "text/x-python",
   "name": "python",
   "nbconvert_exporter": "python",
   "pygments_lexer": "ipython3",
   "version": "3.9.12"
  }
 },
 "nbformat": 4,
 "nbformat_minor": 5
}
