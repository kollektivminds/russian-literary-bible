{
 "cells": [
  {
   "cell_type": "markdown",
   "id": "79c27cba-108f-4099-8d6b-d0247dff02b3",
   "metadata": {},
   "source": [
    "# Text to XML"
   ]
  },
  {
   "cell_type": "markdown",
   "id": "590fbae0-d255-41a8-83c4-49165581aad6",
   "metadata": {},
   "source": [
    "## Import"
   ]
  },
  {
   "cell_type": "markdown",
   "id": "3e382207-1ec8-4cad-93fb-cd477ff69370",
   "metadata": {},
   "source": [
    "### Libraries"
   ]
  },
  {
   "cell_type": "code",
   "execution_count": 1,
   "id": "3264178a-5431-4550-b9ea-9a676ef15150",
   "metadata": {},
   "outputs": [],
   "source": [
    "import os \n",
    "import codecs\n",
    "from lxml import etree\n",
    "\n",
    "from backend import *"
   ]
  },
  {
   "cell_type": "markdown",
   "id": "6a0bb35b-c123-4fe8-a402-48a48209a22a",
   "metadata": {},
   "source": [
    "### Definitions"
   ]
  },
  {
   "cell_type": "raw",
   "id": "34fd2b9f-0398-4dba-a54f-e1a86a2de2a5",
   "metadata": {},
   "source": [
    "segmenter = Segmenter()\n",
    "morph_vocab = MorphVocab()\n",
    "emb = NewsEmbedding()\n",
    "morph_tagger = NewsMorphTagger(emb)\n",
    "syntax_parser = NewsSyntaxParser(emb)\n",
    "ner_tagger = NewsNERTagger(emb)\n",
    "names_extractor = NamesExtractor(morph_vocab)"
   ]
  },
  {
   "cell_type": "code",
   "execution_count": 2,
   "id": "0f0c4ab2-ec68-475a-a913-bbfc1811d558",
   "metadata": {},
   "outputs": [],
   "source": [
    "texts = '../texts/fiction/'\n",
    "\n",
    "libCols = ['author','pub_year','title','text']\n",
    "tokenOHCO = ['w_id','part_num','para_num', 'sent_num', 'token_num']\n",
    "tokenCols = ['p_id', 'start', 'stop', 'text', 'token_id', 'head_id', 'rel', 'pos', 'lemma', 'anim', 'aspect', 'case', 'degree', 'gender', 'mood', 'number', 'person', 'tense', 'verb_form', 'voice']"
   ]
  },
  {
   "cell_type": "markdown",
   "id": "86601771-34cf-42df-8efd-505e135407a5",
   "metadata": {},
   "source": [
    "## Primary Texts"
   ]
  },
  {
   "cell_type": "markdown",
   "id": "d23863b0-bbe1-4715-af35-6cd7cb636fb6",
   "metadata": {
    "tags": []
   },
   "source": [
    "### Make XML"
   ]
  },
  {
   "cell_type": "code",
   "execution_count": null,
   "id": "eefc4e08-4f2c-439a-bbd3-d75ac642c60b",
   "metadata": {
    "tags": []
   },
   "outputs": [],
   "source": [
    "root = etree.Element(\"text\")\n",
    "print(root.tag)\n",
    "pt = ch = cn = pa = pn = 0\n",
    "nameDict = motherDf.chap.to_dict()\n",
    "for part in motherXmlDf.part.unique():\n",
    "    print(f\"Part {part}\")\n",
    "    root.append(etree.Element(\"part\", n=str(part), name=str(part)))\n",
    "    chapList = motherXmlDf.loc[motherXmlDf['part'] == part].chapID.unique()\n",
    "    #print(chapList)\n",
    "    for chap in chapList:\n",
    "        #print(f\"Chap {chap}\")\n",
    "        root[pt].append(etree.Element(\"chapter\", n=str(cn+1), name=nameDict.get(chap)))\n",
    "        paraList = motherXmlDf.loc[(motherXmlDf['part'] == part) & (motherXmlDf['chapID'] == chap)].index\n",
    "        #print(paraList)\n",
    "        for paragraph in paraList:\n",
    "            #print(f\"Paragraph {paragraph}\")\n",
    "            root[pt][ch].append(etree.Element(\"paragraph\", n=str(pn+1), name=str(pa+1)))\n",
    "            paraText = motherXmlDf.loc[paragraph].text\n",
    "            #print(f\"paraText: {paraText}\")\n",
    "            #print(f\"pt = {pt}; ch = {ch}; paragraph = {paragraph}\")\n",
    "            root[pt][ch][pa].text = paraText\n",
    "            pa+=1\n",
    "            pn+=1\n",
    "        pa=0\n",
    "        ch+=1\n",
    "        cn+=1\n",
    "    ch=0\n",
    "    pt+=1\n",
    "#t+=1\n",
    "#print(etree.tostring(root, pretty_print=True, xml_declaration=True))\n",
    "#etree.ElementTree(root).write('../site/texts/mother.xml', pretty_print=True, xml_declaration=True, encoding='windows-1251')"
   ]
  },
  {
   "cell_type": "code",
   "execution_count": 47,
   "id": "1e2dd463-2811-4e76-990e-c5807ff74c1d",
   "metadata": {
    "tags": []
   },
   "outputs": [
    {
     "name": "stdout",
     "output_type": "stream",
     "text": [
      "prose\n",
      "Part 1\n",
      "Part 2\n"
     ]
    }
   ],
   "source": [
    "root = etree.Element(\"prose\")\n",
    "print(root.tag)\n",
    "pt = ch = pa = 1\n",
    "#TestList = [x for x in bibliiaDf.test.unique()]\n",
    "#for test in range(len(TestList)): \n",
    "#    root.append(etree.Element(\"t\", n=str(t), name=TestList[test]))\n",
    "\n",
    "for part in motherXmlDf.part.unique(): \n",
    "    print(f\"Part {part}\")\n",
    "    ChapList = list(motherXmlDf.loc[motherXmlDf['part'] == str(part)].index)\n",
    "    for chap in ChapList:\n",
    "        print(f\"Chap {chap}\")\n",
    "        root[int(part)-1].append(etree.Element(\"chap\", n=str(ch), name=str(chap)))\n",
    "        ParaList = list(motherXmlDf.loc[(motherXmlDf['part'] == part) & (motherXmlDf['chap'] == chap)].index)\n",
    "        for para in ParaList:\n",
    "            print(f\"Para {para}\")\n",
    "            root[part][chap].append(etree.Element(\"para\", n=str(pa), name=str(para)))\n",
    "            para_text = motherXmlDf.loc[pa].text\n",
    "            print(f\"Paratext: {para_text}\")\n",
    "            "
   ]
  }
 ],
 "metadata": {
  "kernelspec": {
   "display_name": "Python 3 (ipykernel)",
   "language": "python",
   "name": "python3"
  },
  "language_info": {
   "codemirror_mode": {
    "name": "ipython",
    "version": 3
   },
   "file_extension": ".py",
   "mimetype": "text/x-python",
   "name": "python",
   "nbconvert_exporter": "python",
   "pygments_lexer": "ipython3",
   "version": "3.9.12"
  }
 },
 "nbformat": 4,
 "nbformat_minor": 5
}
